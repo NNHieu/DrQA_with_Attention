{
 "metadata": {
  "language_info": {
   "codemirror_mode": {
    "name": "ipython",
    "version": 3
   },
   "file_extension": ".py",
   "mimetype": "text/x-python",
   "name": "python",
   "nbconvert_exporter": "python",
   "pygments_lexer": "ipython3",
   "version": "3.8.5-final"
  },
  "orig_nbformat": 2,
  "kernelspec": {
   "name": "python3",
   "display_name": "Python 3"
  }
 },
 "nbformat": 4,
 "nbformat_minor": 2,
 "cells": [
  {
   "source": [
    "[![Open In Colab](https://colab.research.google.com/assets/colab-badge.svg)](https://colab.research.google.com/github/NNHieu/TrueAnswer_ZaloAIChallenge2019_VietnameseWikiQA/blob/master/PlayWithData.ipynb)"
   ],
   "cell_type": "markdown",
   "metadata": {}
  },
  {
   "source": [
    "## Import lib và set dir"
   ],
   "cell_type": "markdown",
   "metadata": {}
  },
  {
   "cell_type": "code",
   "execution_count": 1,
   "metadata": {},
   "outputs": [],
   "source": [
    "from sklearn.feature_extraction.text import TfidfVectorizer,CountVectorizer\n",
    "import pandas as pd\n",
    "import os\n",
    "import json"
   ]
  },
  {
   "source": [
    "### Nếu chạy bằng Colab nhớ điền đường dãn đến thư mục Dataset ở drive"
   ],
   "cell_type": "markdown",
   "metadata": {}
  },
  {
   "cell_type": "code",
   "execution_count": 2,
   "metadata": {},
   "outputs": [
    {
     "output_type": "stream",
     "name": "stdout",
     "text": [
      "Đang không chạy bằng google colab\n"
     ]
    }
   ],
   "source": [
    "if 'google.colab' in str(get_ipython()):\n",
    "    print(\"Đang chạy bằng google colab\")\n",
    "    from google.colab import drive\n",
    "    drive.mount(\"/content/drive\", force_remount=True)\n",
    "    import os\n",
    "    os.chdir(\"drive/My Drive/<đường dãn đến thư mục Dataset ở drive>\")\n",
    "else:\n",
    "    print(\"Đang không chạy bằng google colab\")\n",
    "    os.chdir(\"./Dataset\")"
   ]
  },
  {
   "source": [
    "## Mở các file train.json và test.json"
   ],
   "cell_type": "markdown",
   "metadata": {}
  },
  {
   "source": [
    "### Sơ qua dữ liệu dùng cho training:\n",
    "Tên file: train.json\n",
    "\n",
    "Bao gồm ~18K item đã được gán nhãn. Mỗi item bao gồm:\n",
    "\n",
    "* **id**: id của mỗi item\n",
    "* **question**: câu hỏi\n",
    "* **text**: đoạn text `liên quan` đến câu hỏi, kết quả từ 1 dummy search tool. Là 1 đoạn Wikipedia article.\n",
    "* **title**: title của Wikipedia article mà đoạn text được lấy từ.\n",
    "* **label**: nhãn, 2 loại, `True` hoặc `False`, đoạn text trên `có trả lời cho câu hỏi` hoặc `không trả lời được`.\n",
    "\n",
    "Như ở dưới thì câu hỏi `Quang Hải giành được chức vô địch U21 quốc gia năm bao nhiêu tuổi` có thể xuất hiện nhiều lần, nhưng đi kèm với đoạn text và label tương ứng khác nhau."
   ],
   "cell_type": "markdown",
   "metadata": {}
  },
  {
   "cell_type": "code",
   "execution_count": 3,
   "metadata": {},
   "outputs": [
    {
     "output_type": "stream",
     "name": "stdout",
     "text": [
      "Training data shape:  (18108, 5)\n"
     ]
    },
    {
     "output_type": "execute_result",
     "data": {
      "text/plain": [
       "                id                                           question  \\\n",
       "0  u7-1570446247_1  Quang Hải giành được chức vô địch U21 quốc gia...   \n",
       "1  u7-1570446247_2  Quang Hải giành được chức vô địch U21 quốc gia...   \n",
       "2  u7-1570446247_0  Quang Hải giành được chức vô địch U21 quốc gia...   \n",
       "3  u7-1570446247_3  Quang Hải giành được chức vô địch U21 quốc gia...   \n",
       "4  u7-1570445661_0                   Mỗi hiệp bóng đá kéo dài bao lâu   \n",
       "\n",
       "                          title  \\\n",
       "0  Nguyễn Quang Hải (sinh 1997)   \n",
       "1  Nguyễn Quang Hải (sinh 1997)   \n",
       "2  Nguyễn Quang Hải (sinh 1997)   \n",
       "3  Nguyễn Quang Hải (sinh 1997)   \n",
       "4                       Bóng đá   \n",
       "\n",
       "                                                text  label  \n",
       "0  Năm 2013 , Nguyễn Quang Hải giành chức vô địch...   True  \n",
       "1  Sau chức vô địch U-21 quốc gia 2013 , Nguyễn Q...   True  \n",
       "2  Anh bắt đầu gia nhập lò đào tạo trẻ Hà Nội T&T...  False  \n",
       "3  Năm 2011 , Nguyễn Quang Hải mới 14 tuổi được g...  False  \n",
       "4  Một trận đấu bóng đá thông thường có hai hiệp ...   True  "
      ],
      "text/html": "<div>\n<style scoped>\n    .dataframe tbody tr th:only-of-type {\n        vertical-align: middle;\n    }\n\n    .dataframe tbody tr th {\n        vertical-align: top;\n    }\n\n    .dataframe thead th {\n        text-align: right;\n    }\n</style>\n<table border=\"1\" class=\"dataframe\">\n  <thead>\n    <tr style=\"text-align: right;\">\n      <th></th>\n      <th>id</th>\n      <th>question</th>\n      <th>title</th>\n      <th>text</th>\n      <th>label</th>\n    </tr>\n  </thead>\n  <tbody>\n    <tr>\n      <th>0</th>\n      <td>u7-1570446247_1</td>\n      <td>Quang Hải giành được chức vô địch U21 quốc gia...</td>\n      <td>Nguyễn Quang Hải (sinh 1997)</td>\n      <td>Năm 2013 , Nguyễn Quang Hải giành chức vô địch...</td>\n      <td>True</td>\n    </tr>\n    <tr>\n      <th>1</th>\n      <td>u7-1570446247_2</td>\n      <td>Quang Hải giành được chức vô địch U21 quốc gia...</td>\n      <td>Nguyễn Quang Hải (sinh 1997)</td>\n      <td>Sau chức vô địch U-21 quốc gia 2013 , Nguyễn Q...</td>\n      <td>True</td>\n    </tr>\n    <tr>\n      <th>2</th>\n      <td>u7-1570446247_0</td>\n      <td>Quang Hải giành được chức vô địch U21 quốc gia...</td>\n      <td>Nguyễn Quang Hải (sinh 1997)</td>\n      <td>Anh bắt đầu gia nhập lò đào tạo trẻ Hà Nội T&amp;T...</td>\n      <td>False</td>\n    </tr>\n    <tr>\n      <th>3</th>\n      <td>u7-1570446247_3</td>\n      <td>Quang Hải giành được chức vô địch U21 quốc gia...</td>\n      <td>Nguyễn Quang Hải (sinh 1997)</td>\n      <td>Năm 2011 , Nguyễn Quang Hải mới 14 tuổi được g...</td>\n      <td>False</td>\n    </tr>\n    <tr>\n      <th>4</th>\n      <td>u7-1570445661_0</td>\n      <td>Mỗi hiệp bóng đá kéo dài bao lâu</td>\n      <td>Bóng đá</td>\n      <td>Một trận đấu bóng đá thông thường có hai hiệp ...</td>\n      <td>True</td>\n    </tr>\n  </tbody>\n</table>\n</div>"
     },
     "metadata": {},
     "execution_count": 3
    }
   ],
   "source": [
    "# Read Training Data\n",
    "train_df = pd.read_json('./train.json', orient='records')\n",
    "print('Training data shape: ',train_df.shape)\n",
    "train_df.head(5)"
   ]
  },
  {
   "source": [
    "### Sơ qua dữ liệu dùng cho testing:\n",
    "Tên file: test.json\n",
    "\n",
    "Bao gồm các test cases có trong tập public test. Mỗi test case bao gồm:\n",
    "\n",
    "* **__id__**: test case ID\n",
    "* **question**: câu hỏi\n",
    "* **paragraphs**: **các** đoạn văn có được từ 1 dummy search tool. Mỗi đoạn có 1 ID riêng **trong test case** (nghĩa là các đoạn trong các test case khác nhau có thể có cùng id). Các đội tham gia phải tìm ID của các đoạn có thể trả lời cho `câu hỏi`.\n",
    "* **title**: title của Wikipedia article mà đoạn text được lấy từ."
   ],
   "cell_type": "markdown",
   "metadata": {}
  },
  {
   "cell_type": "code",
   "execution_count": 4,
   "metadata": {},
   "outputs": [
    {
     "output_type": "stream",
     "name": "stdout",
     "text": [
      "Test data shape:  (501, 4)\n"
     ]
    },
    {
     "output_type": "execute_result",
     "data": {
      "text/plain": [
       "      __id__                       question            title  \\\n",
       "0  test_0001  Toà nhà nào cao nhất Việt Nam  The Landmark 81   \n",
       "1  test_0002           Messi thuận chân nào     Lionel Messi   \n",
       "2  test_0003     Sao Hoả còn được gọi là gì          Sao Hỏa   \n",
       "3  test_0004         Hồ Hoàn Kiếm nằm ở đâu     Hồ Hoàn Kiếm   \n",
       "4  test_0005     Lionel Messi sinh ra ở đâu     Lionel Messi   \n",
       "\n",
       "                                          paragraphs  \n",
       "0  [{'id': 'p1', 'text': 'The Landmark 81 là một ...  \n",
       "1  [{'id': 'p1', 'text': 'Đôi chân ngắn nhưng mạn...  \n",
       "2  [{'id': 'p1', 'text': 'Sao Hoả còn gọi là : Ho...  \n",
       "3  [{'id': 'p1', 'text': 'Hồ Hoàn Kiếm ( chữ Nôm ...  \n",
       "4  [{'id': 'p1', 'text': 'Lionel Andrés \" Leo \" M...  "
      ],
      "text/html": "<div>\n<style scoped>\n    .dataframe tbody tr th:only-of-type {\n        vertical-align: middle;\n    }\n\n    .dataframe tbody tr th {\n        vertical-align: top;\n    }\n\n    .dataframe thead th {\n        text-align: right;\n    }\n</style>\n<table border=\"1\" class=\"dataframe\">\n  <thead>\n    <tr style=\"text-align: right;\">\n      <th></th>\n      <th>__id__</th>\n      <th>question</th>\n      <th>title</th>\n      <th>paragraphs</th>\n    </tr>\n  </thead>\n  <tbody>\n    <tr>\n      <th>0</th>\n      <td>test_0001</td>\n      <td>Toà nhà nào cao nhất Việt Nam</td>\n      <td>The Landmark 81</td>\n      <td>[{'id': 'p1', 'text': 'The Landmark 81 là một ...</td>\n    </tr>\n    <tr>\n      <th>1</th>\n      <td>test_0002</td>\n      <td>Messi thuận chân nào</td>\n      <td>Lionel Messi</td>\n      <td>[{'id': 'p1', 'text': 'Đôi chân ngắn nhưng mạn...</td>\n    </tr>\n    <tr>\n      <th>2</th>\n      <td>test_0003</td>\n      <td>Sao Hoả còn được gọi là gì</td>\n      <td>Sao Hỏa</td>\n      <td>[{'id': 'p1', 'text': 'Sao Hoả còn gọi là : Ho...</td>\n    </tr>\n    <tr>\n      <th>3</th>\n      <td>test_0004</td>\n      <td>Hồ Hoàn Kiếm nằm ở đâu</td>\n      <td>Hồ Hoàn Kiếm</td>\n      <td>[{'id': 'p1', 'text': 'Hồ Hoàn Kiếm ( chữ Nôm ...</td>\n    </tr>\n    <tr>\n      <th>4</th>\n      <td>test_0005</td>\n      <td>Lionel Messi sinh ra ở đâu</td>\n      <td>Lionel Messi</td>\n      <td>[{'id': 'p1', 'text': 'Lionel Andrés \" Leo \" M...</td>\n    </tr>\n  </tbody>\n</table>\n</div>"
     },
     "metadata": {},
     "execution_count": 4
    }
   ],
   "source": [
    "# Read Test Data\n",
    "test_df = pd.read_json('./test.json', orient='records')\n",
    "print('Test data shape: ',test_df.shape)\n",
    "test_df.head(5)"
   ]
  },
  {
   "source": [
    "Ví dụ với câu hỏi trong testcase 2, `Messi thuận chân nào`?, có các đoạn paragraphs sau:"
   ],
   "cell_type": "markdown",
   "metadata": {}
  },
  {
   "source": [
    "df =pd.DataFrame(test_df['paragraphs'][1])\n",
    "df.head()"
   ],
   "cell_type": "code",
   "metadata": {},
   "execution_count": 5,
   "outputs": [
    {
     "output_type": "execute_result",
     "data": {
      "text/plain": [
       "   id                                               text\n",
       "0  p1  Đôi chân ngắn nhưng mạnh mẽ giúp Messi dễ dàng...\n",
       "1  p2  Cựu huấn luyện viên Barcelona , Pep Guardiola ...\n",
       "2  p3  Ngoài ra anh còn một chân sút phạt chính và ha...\n",
       "3  p4  Khi đề cập đến kĩ năng dắt bóng của anh , Mara...\n",
       "4  p5  Ngày 11 tháng 3 năm 2010 , Messi được chọn làm..."
      ],
      "text/html": "<div>\n<style scoped>\n    .dataframe tbody tr th:only-of-type {\n        vertical-align: middle;\n    }\n\n    .dataframe tbody tr th {\n        vertical-align: top;\n    }\n\n    .dataframe thead th {\n        text-align: right;\n    }\n</style>\n<table border=\"1\" class=\"dataframe\">\n  <thead>\n    <tr style=\"text-align: right;\">\n      <th></th>\n      <th>id</th>\n      <th>text</th>\n    </tr>\n  </thead>\n  <tbody>\n    <tr>\n      <th>0</th>\n      <td>p1</td>\n      <td>Đôi chân ngắn nhưng mạnh mẽ giúp Messi dễ dàng...</td>\n    </tr>\n    <tr>\n      <th>1</th>\n      <td>p2</td>\n      <td>Cựu huấn luyện viên Barcelona , Pep Guardiola ...</td>\n    </tr>\n    <tr>\n      <th>2</th>\n      <td>p3</td>\n      <td>Ngoài ra anh còn một chân sút phạt chính và ha...</td>\n    </tr>\n    <tr>\n      <th>3</th>\n      <td>p4</td>\n      <td>Khi đề cập đến kĩ năng dắt bóng của anh , Mara...</td>\n    </tr>\n    <tr>\n      <th>4</th>\n      <td>p5</td>\n      <td>Ngày 11 tháng 3 năm 2010 , Messi được chọn làm...</td>\n    </tr>\n  </tbody>\n</table>\n</div>"
     },
     "metadata": {},
     "execution_count": 5
    }
   ]
  },
  {
   "source": [
    "Để cho tiện, chuyển test set về cùng dạng với training set"
   ],
   "cell_type": "markdown",
   "metadata": {}
  },
  {
   "source": [
    "with open('./test.json', 'r') as test_file:\n",
    "    test_df = pd.json_normalize(json.load(test_file), 'paragraphs', meta=['__id__', 'question', 'title'], record_prefix='para_')\n",
    "print(\"Số test case tính theo số đoạn text là: \", test_df.shape[0])\n",
    "test_df.head(5)"
   ],
   "cell_type": "code",
   "metadata": {},
   "execution_count": 14,
   "outputs": [
    {
     "output_type": "stream",
     "name": "stdout",
     "text": [
      "Số test case tính theo số đoạn text là:  2678\n"
     ]
    },
    {
     "output_type": "execute_result",
     "data": {
      "text/plain": [
       "  para_id                                          para_text     __id__  \\\n",
       "0      p1  The Landmark 81 là một toà nhà chọc trời trong...  test_0001   \n",
       "1      p2  Toà tháp cao 81 tầng , hiện tại là toà nhà cao...  test_0001   \n",
       "2      p1  Đôi chân ngắn nhưng mạnh mẽ giúp Messi dễ dàng...  test_0002   \n",
       "3      p2  Cựu huấn luyện viên Barcelona , Pep Guardiola ...  test_0002   \n",
       "4      p3  Ngoài ra anh còn một chân sút phạt chính và ha...  test_0002   \n",
       "\n",
       "                        question            title  \n",
       "0  Toà nhà nào cao nhất Việt Nam  The Landmark 81  \n",
       "1  Toà nhà nào cao nhất Việt Nam  The Landmark 81  \n",
       "2           Messi thuận chân nào     Lionel Messi  \n",
       "3           Messi thuận chân nào     Lionel Messi  \n",
       "4           Messi thuận chân nào     Lionel Messi  "
      ],
      "text/html": "<div>\n<style scoped>\n    .dataframe tbody tr th:only-of-type {\n        vertical-align: middle;\n    }\n\n    .dataframe tbody tr th {\n        vertical-align: top;\n    }\n\n    .dataframe thead th {\n        text-align: right;\n    }\n</style>\n<table border=\"1\" class=\"dataframe\">\n  <thead>\n    <tr style=\"text-align: right;\">\n      <th></th>\n      <th>para_id</th>\n      <th>para_text</th>\n      <th>__id__</th>\n      <th>question</th>\n      <th>title</th>\n    </tr>\n  </thead>\n  <tbody>\n    <tr>\n      <th>0</th>\n      <td>p1</td>\n      <td>The Landmark 81 là một toà nhà chọc trời trong...</td>\n      <td>test_0001</td>\n      <td>Toà nhà nào cao nhất Việt Nam</td>\n      <td>The Landmark 81</td>\n    </tr>\n    <tr>\n      <th>1</th>\n      <td>p2</td>\n      <td>Toà tháp cao 81 tầng , hiện tại là toà nhà cao...</td>\n      <td>test_0001</td>\n      <td>Toà nhà nào cao nhất Việt Nam</td>\n      <td>The Landmark 81</td>\n    </tr>\n    <tr>\n      <th>2</th>\n      <td>p1</td>\n      <td>Đôi chân ngắn nhưng mạnh mẽ giúp Messi dễ dàng...</td>\n      <td>test_0002</td>\n      <td>Messi thuận chân nào</td>\n      <td>Lionel Messi</td>\n    </tr>\n    <tr>\n      <th>3</th>\n      <td>p2</td>\n      <td>Cựu huấn luyện viên Barcelona , Pep Guardiola ...</td>\n      <td>test_0002</td>\n      <td>Messi thuận chân nào</td>\n      <td>Lionel Messi</td>\n    </tr>\n    <tr>\n      <th>4</th>\n      <td>p3</td>\n      <td>Ngoài ra anh còn một chân sút phạt chính và ha...</td>\n      <td>test_0002</td>\n      <td>Messi thuận chân nào</td>\n      <td>Lionel Messi</td>\n    </tr>\n  </tbody>\n</table>\n</div>"
     },
     "metadata": {},
     "execution_count": 14
    }
   ]
  },
  {
   "source": [
    "## Tìm hiều sâu hơn\n",
    "### 1. Basic Data Exploration\n",
    "#### 1.1 Thông tin cơ bản"
   ],
   "cell_type": "markdown",
   "metadata": {}
  },
  {
   "cell_type": "code",
   "execution_count": 7,
   "metadata": {},
   "outputs": [
    {
     "output_type": "stream",
     "name": "stdout",
     "text": [
      "------------- Train Set -------------\n<class 'pandas.core.frame.DataFrame'>\nRangeIndex: 18108 entries, 0 to 18107\nData columns (total 5 columns):\n #   Column    Non-Null Count  Dtype \n---  ------    --------------  ----- \n 0   id        18108 non-null  object\n 1   question  18108 non-null  object\n 2   title     18108 non-null  object\n 3   text      18108 non-null  object\n 4   label     18108 non-null  bool  \ndtypes: bool(1), object(4)\nmemory usage: 583.7+ KB\nNone\n------------- Test Set -------------\n<class 'pandas.core.frame.DataFrame'>\nRangeIndex: 2678 entries, 0 to 2677\nData columns (total 5 columns):\n #   Column     Non-Null Count  Dtype \n---  ------     --------------  ----- \n 0   para_id    2678 non-null   object\n 1   para_text  2678 non-null   object\n 2   __id__     2678 non-null   object\n 3   question   2678 non-null   object\n 4   title      2678 non-null   object\ndtypes: object(5)\nmemory usage: 104.7+ KB\nNone\n"
     ]
    }
   ],
   "source": [
    "# Null values and Data types\n",
    "print('------------- Train Set -------------')\n",
    "print(train_df.info())\n",
    "print('------------- Test Set -------------')\n",
    "print(test_df.info())"
   ]
  },
  {
   "source": [
    "Có bị chỗ nào thiếu dữ liệu không ?"
   ],
   "cell_type": "markdown",
   "metadata": {}
  },
  {
   "cell_type": "code",
   "execution_count": 8,
   "metadata": {},
   "outputs": [
    {
     "output_type": "execute_result",
     "data": {
      "text/plain": [
       "id          0\n",
       "question    0\n",
       "title       0\n",
       "text        0\n",
       "label       0\n",
       "dtype: int64"
      ]
     },
     "metadata": {},
     "execution_count": 8
    }
   ],
   "source": [
    "train_df.isnull().sum()"
   ]
  },
  {
   "cell_type": "code",
   "execution_count": 9,
   "metadata": {},
   "outputs": [
    {
     "output_type": "execute_result",
     "data": {
      "text/plain": [
       "para_id      0\n",
       "para_text    0\n",
       "__id__       0\n",
       "question     0\n",
       "title        0\n",
       "dtype: int64"
      ]
     },
     "metadata": {},
     "execution_count": 9
    }
   ],
   "source": [
    "test_df.isnull().sum()"
   ]
  },
  {
   "source": [
    "Không!!"
   ],
   "cell_type": "markdown",
   "metadata": {}
  },
  {
   "cell_type": "code",
   "execution_count": 150,
   "metadata": {},
   "outputs": [
    {
     "output_type": "stream",
     "name": "stdout",
     "text": [
      "Tỷ lệ Label trong trainning set\n"
     ]
    },
    {
     "output_type": "execute_result",
     "data": {
      "text/plain": [
       "   label  count\n",
       "0  False  12370\n",
       "1   True   5738"
      ],
      "text/html": "<div>\n<style scoped>\n    .dataframe tbody tr th:only-of-type {\n        vertical-align: middle;\n    }\n\n    .dataframe tbody tr th {\n        vertical-align: top;\n    }\n\n    .dataframe thead th {\n        text-align: right;\n    }\n</style>\n<table border=\"1\" class=\"dataframe\">\n  <thead>\n    <tr style=\"text-align: right;\">\n      <th></th>\n      <th>label</th>\n      <th>count</th>\n    </tr>\n  </thead>\n  <tbody>\n    <tr>\n      <th>0</th>\n      <td>False</td>\n      <td>12370</td>\n    </tr>\n    <tr>\n      <th>1</th>\n      <td>True</td>\n      <td>5738</td>\n    </tr>\n  </tbody>\n</table>\n</div>"
     },
     "metadata": {},
     "execution_count": 150
    }
   ],
   "source": [
    "print(\"Tỷ lệ Label trong trainning set\")\n",
    "train_df.groupby(['label']).size().reset_index().rename(columns={0: \"count\"})"
   ]
  },
  {
   "source": [
    "#### 1.2 Các câu hỏi"
   ],
   "cell_type": "markdown",
   "metadata": {}
  },
  {
   "cell_type": "code",
   "execution_count": 86,
   "metadata": {},
   "outputs": [
    {
     "output_type": "stream",
     "name": "stdout",
     "text": [
      "Có tổng cộng 5070 câu hỏi trong training set\n"
     ]
    }
   ],
   "source": [
    "print(\"Có tổng cộng\", train_df['question'].value_counts().shape[0], \"câu hỏi trong training set\")"
   ]
  },
  {
   "cell_type": "code",
   "execution_count": 87,
   "metadata": {},
   "outputs": [
    {
     "output_type": "stream",
     "name": "stdout",
     "text": [
      "Có tổng cộng 501 câu hỏi trong test set\n"
     ]
    }
   ],
   "source": [
    "print(\"Có tổng cộng\", test_df['question'].value_counts().shape[0], \"câu hỏi trong test set\")"
   ]
  },
  {
   "cell_type": "code",
   "execution_count": 90,
   "metadata": {},
   "outputs": [
    {
     "output_type": "stream",
     "name": "stdout",
     "text": [
      "Các câu hỏi xuất hiện ở cả training set và test set\n"
     ]
    },
    {
     "output_type": "execute_result",
     "data": {
      "text/plain": [
       "{'Bác Hồ ra đi tìm đường cứu nước năm bao nhiêu',\n",
       " 'Kinh tế Việt Nam hiện nay đứng hàng thứ mấy trên thế giới',\n",
       " 'Trụ sở chính của Liên Hiệp Quốc đặt ở đâu',\n",
       " 'Vịnh Hạ Long nằm ở khu vực nào'}"
      ]
     },
     "metadata": {},
     "execution_count": 90
    }
   ],
   "source": [
    "train_questions = set(train_df['question'].unique())\n",
    "test_questions = set(test_df['question'].unique())\n",
    "print(\"Các câu hỏi xuất hiện ở cả training set và test set\")\n",
    "train_questions.intersection(test_questions)\n"
   ]
  },
  {
   "cell_type": "code",
   "execution_count": 108,
   "metadata": {},
   "outputs": [
    {
     "output_type": "stream",
     "name": "stdout",
     "text": [
      "Trong training set\nSố cặp (question, title): 15048\nMột câu hỏi có tối đa 15 title, và là câu\n"
     ]
    },
    {
     "output_type": "execute_result",
     "data": {
      "text/plain": [
       "                                            question  count  q_len\n",
       "0                  \" Dư địa chí \" là tác phẩm của ai      3     10\n",
       "1                \"Bỉ vỏ\" là tác phẩm của nhà văn nào      2      9\n",
       "2  \"Chiếu dời đô\" của vua Lý Công Uẩn ra đời vào ...      1     13\n",
       "3       \"Chùa vàng\" là tên gọi khác của quốc gia nào      4     10\n",
       "4           \"Cỗ xe tăng\" là tên gọi của đội bóng nào      4     10"
      ],
      "text/html": "<div>\n<style scoped>\n    .dataframe tbody tr th:only-of-type {\n        vertical-align: middle;\n    }\n\n    .dataframe tbody tr th {\n        vertical-align: top;\n    }\n\n    .dataframe thead th {\n        text-align: right;\n    }\n</style>\n<table border=\"1\" class=\"dataframe\">\n  <thead>\n    <tr style=\"text-align: right;\">\n      <th></th>\n      <th>question</th>\n      <th>count</th>\n      <th>q_len</th>\n    </tr>\n  </thead>\n  <tbody>\n    <tr>\n      <th>0</th>\n      <td>\" Dư địa chí \" là tác phẩm của ai</td>\n      <td>3</td>\n      <td>10</td>\n    </tr>\n    <tr>\n      <th>1</th>\n      <td>\"Bỉ vỏ\" là tác phẩm của nhà văn nào</td>\n      <td>2</td>\n      <td>9</td>\n    </tr>\n    <tr>\n      <th>2</th>\n      <td>\"Chiếu dời đô\" của vua Lý Công Uẩn ra đời vào ...</td>\n      <td>1</td>\n      <td>13</td>\n    </tr>\n    <tr>\n      <th>3</th>\n      <td>\"Chùa vàng\" là tên gọi khác của quốc gia nào</td>\n      <td>4</td>\n      <td>10</td>\n    </tr>\n    <tr>\n      <th>4</th>\n      <td>\"Cỗ xe tăng\" là tên gọi của đội bóng nào</td>\n      <td>4</td>\n      <td>10</td>\n    </tr>\n  </tbody>\n</table>\n</div>"
     },
     "metadata": {},
     "execution_count": 108
    }
   ],
   "source": [
    "print(\"Trong training set\")\n",
    "tmp_df = train_df.groupby(['question', 'title']).size()\n",
    "# tmp_df['q_len'] = train_df.question.map(lambda x: len(x.split(\" \")))\n",
    "tmp2 = tmp_df.groupby(['question']).size().reset_index().rename(columns={0:'count'})\n",
    "print(\"Số cặp (question, title):\", tmp_df.shape[0])\n",
    "print(\"Một câu hỏi có tối đa\", tmp2.max()['count'], \"title, và là câu\")\n",
    "train_df.loc[train_df['question'] == 'Quê hương của tổng thống Obama ở đâu'].head(5)"
   ]
  },
  {
   "cell_type": "code",
   "execution_count": 139,
   "metadata": {},
   "outputs": [
    {
     "output_type": "stream",
     "name": "stdout",
     "text": [
      "Độ dài lớn nhất của câu hỏi là 32 từ, ngắn nhất 3 từ\n"
     ]
    },
    {
     "output_type": "execute_result",
     "data": {
      "text/plain": [
       "                                               question  count  q_len\n",
       "2699  Phóng viên chiến trường nào của hãng thông tấn...      2     32\n",
       "1810  Lê Bích Phương, vận động viên duy nhất giành đ...      3     32\n",
       "365                                       Bitcoin là gì      1      3\n",
       "321                                          BDSM là gì      1      3\n",
       "1253                                      Gfriend là gì      1      3"
      ],
      "text/html": "<div>\n<style scoped>\n    .dataframe tbody tr th:only-of-type {\n        vertical-align: middle;\n    }\n\n    .dataframe tbody tr th {\n        vertical-align: top;\n    }\n\n    .dataframe thead th {\n        text-align: right;\n    }\n</style>\n<table border=\"1\" class=\"dataframe\">\n  <thead>\n    <tr style=\"text-align: right;\">\n      <th></th>\n      <th>question</th>\n      <th>count</th>\n      <th>q_len</th>\n    </tr>\n  </thead>\n  <tbody>\n    <tr>\n      <th>2699</th>\n      <td>Phóng viên chiến trường nào của hãng thông tấn...</td>\n      <td>2</td>\n      <td>32</td>\n    </tr>\n    <tr>\n      <th>1810</th>\n      <td>Lê Bích Phương, vận động viên duy nhất giành đ...</td>\n      <td>3</td>\n      <td>32</td>\n    </tr>\n    <tr>\n      <th>365</th>\n      <td>Bitcoin là gì</td>\n      <td>1</td>\n      <td>3</td>\n    </tr>\n    <tr>\n      <th>321</th>\n      <td>BDSM là gì</td>\n      <td>1</td>\n      <td>3</td>\n    </tr>\n    <tr>\n      <th>1253</th>\n      <td>Gfriend là gì</td>\n      <td>1</td>\n      <td>3</td>\n    </tr>\n  </tbody>\n</table>\n</div>"
     },
     "metadata": {},
     "execution_count": 139
    }
   ],
   "source": [
    "tmp2['q_len'] = tmp2.question.map(lambda x: len(x.split(\" \")))\n",
    "print(\"Độ dài lớn nhất của câu hỏi là\", tmp2['q_len'].max(), \"từ, ngắn nhất\", tmp2['q_len'].min(), \"từ\")\n",
    "pd.concat([tmp2.nlargest(2, 'q_len'), tmp2.nsmallest(3, 'q_len')])"
   ]
  },
  {
   "cell_type": "code",
   "execution_count": 141,
   "metadata": {},
   "outputs": [
    {
     "output_type": "stream",
     "name": "stdout",
     "text": [
      "Trong test set\nSố cặp (question, title): 501\nMột câu hỏi có tối đa 1 title\nĐộ dài lớn nhất của câu hỏi là 21 từ, ngắn nhất 4 từ\n"
     ]
    },
    {
     "output_type": "execute_result",
     "data": {
      "text/plain": [
       "                                              question  count  q_len\n",
       "136  Hòn đảo là nơi duy nhất mà chủ tịch Hồ Chí Min...      1     21\n",
       "232  Mỹ dỡ bỏ lệnh dỡ bỏ hoàn toàn cấm vận vũ khí á...      1     21\n",
       "146                                   Khi nào phạt đền      1      4\n",
       "172                                 Lionel Messi là ai      1      4\n",
       "206                               Messi thuận chân nào      1      4"
      ],
      "text/html": "<div>\n<style scoped>\n    .dataframe tbody tr th:only-of-type {\n        vertical-align: middle;\n    }\n\n    .dataframe tbody tr th {\n        vertical-align: top;\n    }\n\n    .dataframe thead th {\n        text-align: right;\n    }\n</style>\n<table border=\"1\" class=\"dataframe\">\n  <thead>\n    <tr style=\"text-align: right;\">\n      <th></th>\n      <th>question</th>\n      <th>count</th>\n      <th>q_len</th>\n    </tr>\n  </thead>\n  <tbody>\n    <tr>\n      <th>136</th>\n      <td>Hòn đảo là nơi duy nhất mà chủ tịch Hồ Chí Min...</td>\n      <td>1</td>\n      <td>21</td>\n    </tr>\n    <tr>\n      <th>232</th>\n      <td>Mỹ dỡ bỏ lệnh dỡ bỏ hoàn toàn cấm vận vũ khí á...</td>\n      <td>1</td>\n      <td>21</td>\n    </tr>\n    <tr>\n      <th>146</th>\n      <td>Khi nào phạt đền</td>\n      <td>1</td>\n      <td>4</td>\n    </tr>\n    <tr>\n      <th>172</th>\n      <td>Lionel Messi là ai</td>\n      <td>1</td>\n      <td>4</td>\n    </tr>\n    <tr>\n      <th>206</th>\n      <td>Messi thuận chân nào</td>\n      <td>1</td>\n      <td>4</td>\n    </tr>\n  </tbody>\n</table>\n</div>"
     },
     "metadata": {},
     "execution_count": 141
    }
   ],
   "source": [
    "print(\"Trong test set\")\n",
    "tmp_df = test_df.groupby(['question', 'title']).size()\n",
    "# tmp_df['q_len'] = train_df.question.map(lambda x: len(x.split(\" \")))\n",
    "tmp2 = tmp_df.groupby(['question']).size().reset_index().rename(columns={0:'count'})\n",
    "print(\"Số cặp (question, title):\", tmp_df.shape[0])\n",
    "print(\"Một câu hỏi có tối đa\", tmp2.max()['count'], \"title\")\n",
    "tmp2['q_len'] = tmp2.question.map(lambda x: len(x.split(\" \")))\n",
    "print(\"Độ dài lớn nhất của câu hỏi là\", tmp2['q_len'].max(), \"từ, ngắn nhất\", tmp2['q_len'].min(), \"từ\")\n",
    "pd.concat([tmp2.nlargest(2, 'q_len'), tmp2.nsmallest(3, 'q_len')])"
   ]
  }
 ]
}