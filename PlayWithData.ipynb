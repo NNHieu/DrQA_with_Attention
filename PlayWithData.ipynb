{
 "metadata": {
  "language_info": {
   "codemirror_mode": {
    "name": "ipython",
    "version": 3
   },
   "file_extension": ".py",
   "mimetype": "text/x-python",
   "name": "python",
   "nbconvert_exporter": "python",
   "pygments_lexer": "ipython3",
   "version": "3.8.5-final"
  },
  "orig_nbformat": 2,
  "kernelspec": {
   "name": "python3",
   "display_name": "Python 3"
  }
 },
 "nbformat": 4,
 "nbformat_minor": 2,
 "cells": [
  {
   "cell_type": "code",
   "execution_count": 6,
   "metadata": {},
   "outputs": [],
   "source": [
    "from sklearn.feature_extraction.text import TfidfVectorizer,CountVectorizer\n",
    "import pandas as pd"
   ]
  },
  {
   "source": [
    "### Sơ qua dữ liệu dùng cho training:\n",
    "Tên file: train.json\n",
    "\n",
    "Bao gồm ~18K item đã được gán nhãn. Mỗi item bao gồm:\n",
    "\n",
    "* **id**: id của mỗi item\n",
    "* **question**: câu hỏi\n",
    "* **text**: đoạn text `liên quan` đến câu hỏi, kết quả từ 1 dummy search tool. Là 1 đoạn Wikipedia article.\n",
    "* **title**: title của Wikipedia article mà đoạn text được lấy từ.\n",
    "* **label**: nhãn, 2 loại, `True` hoặc `False`, đoạn text trên `có trả lời cho câu hỏi` hoặc `không trả lời được`.\n",
    "\n",
    "Như ở dưới thì câu hỏi `Quang Hải giành được chức vô địch U21 quốc gia năm bao nhiêu tuổi` có thể xuất hiện nhiều lần, nhưng đi kèm với đoạn text và label tương ứng khác nhau."
   ],
   "cell_type": "markdown",
   "metadata": {}
  },
  {
   "cell_type": "code",
   "execution_count": 7,
   "metadata": {},
   "outputs": [
    {
     "output_type": "stream",
     "name": "stdout",
     "text": [
      "Training data shape:  (18108, 5)\n"
     ]
    },
    {
     "output_type": "execute_result",
     "data": {
      "text/plain": [
       "                id                                           question  \\\n",
       "0  u7-1570446247_1  Quang Hải giành được chức vô địch U21 quốc gia...   \n",
       "1  u7-1570446247_2  Quang Hải giành được chức vô địch U21 quốc gia...   \n",
       "2  u7-1570446247_0  Quang Hải giành được chức vô địch U21 quốc gia...   \n",
       "3  u7-1570446247_3  Quang Hải giành được chức vô địch U21 quốc gia...   \n",
       "4  u7-1570445661_0                   Mỗi hiệp bóng đá kéo dài bao lâu   \n",
       "\n",
       "                          title  \\\n",
       "0  Nguyễn Quang Hải (sinh 1997)   \n",
       "1  Nguyễn Quang Hải (sinh 1997)   \n",
       "2  Nguyễn Quang Hải (sinh 1997)   \n",
       "3  Nguyễn Quang Hải (sinh 1997)   \n",
       "4                       Bóng đá   \n",
       "\n",
       "                                                text  label  \n",
       "0  Năm 2013 , Nguyễn Quang Hải giành chức vô địch...   True  \n",
       "1  Sau chức vô địch U-21 quốc gia 2013 , Nguyễn Q...   True  \n",
       "2  Anh bắt đầu gia nhập lò đào tạo trẻ Hà Nội T&T...  False  \n",
       "3  Năm 2011 , Nguyễn Quang Hải mới 14 tuổi được g...  False  \n",
       "4  Một trận đấu bóng đá thông thường có hai hiệp ...   True  "
      ],
      "text/html": "<div>\n<style scoped>\n    .dataframe tbody tr th:only-of-type {\n        vertical-align: middle;\n    }\n\n    .dataframe tbody tr th {\n        vertical-align: top;\n    }\n\n    .dataframe thead th {\n        text-align: right;\n    }\n</style>\n<table border=\"1\" class=\"dataframe\">\n  <thead>\n    <tr style=\"text-align: right;\">\n      <th></th>\n      <th>id</th>\n      <th>question</th>\n      <th>title</th>\n      <th>text</th>\n      <th>label</th>\n    </tr>\n  </thead>\n  <tbody>\n    <tr>\n      <th>0</th>\n      <td>u7-1570446247_1</td>\n      <td>Quang Hải giành được chức vô địch U21 quốc gia...</td>\n      <td>Nguyễn Quang Hải (sinh 1997)</td>\n      <td>Năm 2013 , Nguyễn Quang Hải giành chức vô địch...</td>\n      <td>True</td>\n    </tr>\n    <tr>\n      <th>1</th>\n      <td>u7-1570446247_2</td>\n      <td>Quang Hải giành được chức vô địch U21 quốc gia...</td>\n      <td>Nguyễn Quang Hải (sinh 1997)</td>\n      <td>Sau chức vô địch U-21 quốc gia 2013 , Nguyễn Q...</td>\n      <td>True</td>\n    </tr>\n    <tr>\n      <th>2</th>\n      <td>u7-1570446247_0</td>\n      <td>Quang Hải giành được chức vô địch U21 quốc gia...</td>\n      <td>Nguyễn Quang Hải (sinh 1997)</td>\n      <td>Anh bắt đầu gia nhập lò đào tạo trẻ Hà Nội T&amp;T...</td>\n      <td>False</td>\n    </tr>\n    <tr>\n      <th>3</th>\n      <td>u7-1570446247_3</td>\n      <td>Quang Hải giành được chức vô địch U21 quốc gia...</td>\n      <td>Nguyễn Quang Hải (sinh 1997)</td>\n      <td>Năm 2011 , Nguyễn Quang Hải mới 14 tuổi được g...</td>\n      <td>False</td>\n    </tr>\n    <tr>\n      <th>4</th>\n      <td>u7-1570445661_0</td>\n      <td>Mỗi hiệp bóng đá kéo dài bao lâu</td>\n      <td>Bóng đá</td>\n      <td>Một trận đấu bóng đá thông thường có hai hiệp ...</td>\n      <td>True</td>\n    </tr>\n  </tbody>\n</table>\n</div>"
     },
     "metadata": {},
     "execution_count": 7
    }
   ],
   "source": [
    "# Read Training Data\n",
    "train_df = pd.read_json('./Dataset/train.json', orient='records')\n",
    "print('Training data shape: ',train_df.shape)\n",
    "train_df.head(5)"
   ]
  },
  {
   "cell_type": "code",
   "execution_count": null,
   "metadata": {},
   "outputs": [],
   "source": []
  },
  {
   "source": [
    "### Sơ qua dữ liệu dùng cho training:\n",
    "Tên file: test.json\n",
    "\n",
    "Bao gồm các test cases có trong tập public test. Mỗi test case bao gồm:\n",
    "\n",
    "* **__id__**: test case ID\n",
    "* **question**: câu hỏi\n",
    "* **paragraphs**: **các** đoạn văn có được từ 1 dummy search tool. Mỗi đoạn có 1 ID riêng **trong test case** (nghĩa là các đoạn trong các test case khác nhau có thể có cùng id). Các đội tham gia phải tìm ID của các đoạn có thể trả lời cho `câu hỏi`.\n",
    "* **title**: title của Wikipedia article mà đoạn text được lấy từ."
   ],
   "cell_type": "markdown",
   "metadata": {}
  },
  {
   "cell_type": "code",
   "execution_count": 15,
   "metadata": {},
   "outputs": [
    {
     "output_type": "stream",
     "name": "stdout",
     "text": [
      "Test data shape:  (501, 4)\n"
     ]
    },
    {
     "output_type": "execute_result",
     "data": {
      "text/plain": [
       "      __id__                       question            title  \\\n",
       "0  test_0001  Toà nhà nào cao nhất Việt Nam  The Landmark 81   \n",
       "1  test_0002           Messi thuận chân nào     Lionel Messi   \n",
       "2  test_0003     Sao Hoả còn được gọi là gì          Sao Hỏa   \n",
       "3  test_0004         Hồ Hoàn Kiếm nằm ở đâu     Hồ Hoàn Kiếm   \n",
       "4  test_0005     Lionel Messi sinh ra ở đâu     Lionel Messi   \n",
       "\n",
       "                                          paragraphs  \n",
       "0  [{'id': 'p1', 'text': 'The Landmark 81 là một ...  \n",
       "1  [{'id': 'p1', 'text': 'Đôi chân ngắn nhưng mạn...  \n",
       "2  [{'id': 'p1', 'text': 'Sao Hoả còn gọi là : Ho...  \n",
       "3  [{'id': 'p1', 'text': 'Hồ Hoàn Kiếm ( chữ Nôm ...  \n",
       "4  [{'id': 'p1', 'text': 'Lionel Andrés \" Leo \" M...  "
      ],
      "text/html": "<div>\n<style scoped>\n    .dataframe tbody tr th:only-of-type {\n        vertical-align: middle;\n    }\n\n    .dataframe tbody tr th {\n        vertical-align: top;\n    }\n\n    .dataframe thead th {\n        text-align: right;\n    }\n</style>\n<table border=\"1\" class=\"dataframe\">\n  <thead>\n    <tr style=\"text-align: right;\">\n      <th></th>\n      <th>__id__</th>\n      <th>question</th>\n      <th>title</th>\n      <th>paragraphs</th>\n    </tr>\n  </thead>\n  <tbody>\n    <tr>\n      <th>0</th>\n      <td>test_0001</td>\n      <td>Toà nhà nào cao nhất Việt Nam</td>\n      <td>The Landmark 81</td>\n      <td>[{'id': 'p1', 'text': 'The Landmark 81 là một ...</td>\n    </tr>\n    <tr>\n      <th>1</th>\n      <td>test_0002</td>\n      <td>Messi thuận chân nào</td>\n      <td>Lionel Messi</td>\n      <td>[{'id': 'p1', 'text': 'Đôi chân ngắn nhưng mạn...</td>\n    </tr>\n    <tr>\n      <th>2</th>\n      <td>test_0003</td>\n      <td>Sao Hoả còn được gọi là gì</td>\n      <td>Sao Hỏa</td>\n      <td>[{'id': 'p1', 'text': 'Sao Hoả còn gọi là : Ho...</td>\n    </tr>\n    <tr>\n      <th>3</th>\n      <td>test_0004</td>\n      <td>Hồ Hoàn Kiếm nằm ở đâu</td>\n      <td>Hồ Hoàn Kiếm</td>\n      <td>[{'id': 'p1', 'text': 'Hồ Hoàn Kiếm ( chữ Nôm ...</td>\n    </tr>\n    <tr>\n      <th>4</th>\n      <td>test_0005</td>\n      <td>Lionel Messi sinh ra ở đâu</td>\n      <td>Lionel Messi</td>\n      <td>[{'id': 'p1', 'text': 'Lionel Andrés \" Leo \" M...</td>\n    </tr>\n  </tbody>\n</table>\n</div>"
     },
     "metadata": {},
     "execution_count": 15
    }
   ],
   "source": [
    "# Read Test Data\n",
    "test_df = pd.read_json('./Dataset/test.json', orient='records')\n",
    "print('Test data shape: ',test_df.shape)\n",
    "test_df.head(5)"
   ]
  },
  {
   "source": [
    "Ví dụ với câu hỏi trong testcase 2, `Messi thuận chân nào`?, có các đoạn paragraphs sau:"
   ],
   "cell_type": "markdown",
   "metadata": {}
  },
  {
   "source": [
    "df =pd.DataFrame(test_df['paragraphs'][1])\n",
    "df.head()"
   ],
   "cell_type": "code",
   "metadata": {},
   "execution_count": 25,
   "outputs": [
    {
     "output_type": "execute_result",
     "data": {
      "text/plain": [
       "   id                                               text\n",
       "0  p1  Đôi chân ngắn nhưng mạnh mẽ giúp Messi dễ dàng...\n",
       "1  p2  Cựu huấn luyện viên Barcelona , Pep Guardiola ...\n",
       "2  p3  Ngoài ra anh còn một chân sút phạt chính và ha...\n",
       "3  p4  Khi đề cập đến kĩ năng dắt bóng của anh , Mara...\n",
       "4  p5  Ngày 11 tháng 3 năm 2010 , Messi được chọn làm..."
      ],
      "text/html": "<div>\n<style scoped>\n    .dataframe tbody tr th:only-of-type {\n        vertical-align: middle;\n    }\n\n    .dataframe tbody tr th {\n        vertical-align: top;\n    }\n\n    .dataframe thead th {\n        text-align: right;\n    }\n</style>\n<table border=\"1\" class=\"dataframe\">\n  <thead>\n    <tr style=\"text-align: right;\">\n      <th></th>\n      <th>id</th>\n      <th>text</th>\n    </tr>\n  </thead>\n  <tbody>\n    <tr>\n      <th>0</th>\n      <td>p1</td>\n      <td>Đôi chân ngắn nhưng mạnh mẽ giúp Messi dễ dàng...</td>\n    </tr>\n    <tr>\n      <th>1</th>\n      <td>p2</td>\n      <td>Cựu huấn luyện viên Barcelona , Pep Guardiola ...</td>\n    </tr>\n    <tr>\n      <th>2</th>\n      <td>p3</td>\n      <td>Ngoài ra anh còn một chân sút phạt chính và ha...</td>\n    </tr>\n    <tr>\n      <th>3</th>\n      <td>p4</td>\n      <td>Khi đề cập đến kĩ năng dắt bóng của anh , Mara...</td>\n    </tr>\n    <tr>\n      <th>4</th>\n      <td>p5</td>\n      <td>Ngày 11 tháng 3 năm 2010 , Messi được chọn làm...</td>\n    </tr>\n  </tbody>\n</table>\n</div>"
     },
     "metadata": {},
     "execution_count": 25
    }
   ]
  },
  {
   "source": [
    "### Tìm hiều sâu hơn:"
   ],
   "cell_type": "markdown",
   "metadata": {}
  }
 ]
}