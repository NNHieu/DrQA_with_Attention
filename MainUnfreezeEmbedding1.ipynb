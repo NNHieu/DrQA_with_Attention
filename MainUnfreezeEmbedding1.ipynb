{
 "cells": [
  {
   "cell_type": "code",
   "execution_count": 1,
   "metadata": {},
   "outputs": [
    {
     "name": "stdout",
     "output_type": "stream",
     "text": [
      "Requirement already satisfied: fastai in /python/lib/python3.8/site-packages (2.1.8)\n",
      "Requirement already satisfied: pandas in /python/lib/python3.8/site-packages (from fastai) (1.1.4)\n",
      "Requirement already satisfied: requests in /python/lib/python3.8/site-packages (from fastai) (2.25.0)\n",
      "Requirement already satisfied: fastprogress>=0.2.4 in /python/lib/python3.8/site-packages (from fastai) (1.0.0)\n",
      "Requirement already satisfied: packaging in /python/lib/python3.8/site-packages (from fastai) (20.4)\n",
      "Requirement already satisfied: fastcore>=1.3.8 in /python/lib/python3.8/site-packages (from fastai) (1.3.10)\n",
      "Requirement already satisfied: pyyaml in /python/lib/python3.8/site-packages (from fastai) (5.3.1)\n",
      "Requirement already satisfied: scikit-learn in /python/lib/python3.8/site-packages (from fastai) (0.23.2)\n",
      "Requirement already satisfied: torch>=1.7.0 in /python/lib/python3.8/site-packages (from fastai) (1.7.0+cu110)\n",
      "Requirement already satisfied: pillow in /python/lib/python3.8/site-packages (from fastai) (8.0.1)\n",
      "Requirement already satisfied: pip in /python/lib/python3.8/site-packages (from fastai) (20.2.4)\n",
      "Requirement already satisfied: scipy in /python/lib/python3.8/site-packages (from fastai) (1.5.4)\n",
      "Requirement already satisfied: spacy in /python/lib/python3.8/site-packages (from fastai) (2.3.4)\n",
      "Requirement already satisfied: matplotlib in /python/lib/python3.8/site-packages (from fastai) (3.3.3)\n",
      "Requirement already satisfied: torchvision>=0.8 in /python/lib/python3.8/site-packages (from fastai) (0.8.1+cu110)\n",
      "Requirement already satisfied: pytz>=2017.2 in /python/lib/python3.8/site-packages (from pandas->fastai) (2020.4)\n",
      "Requirement already satisfied: numpy>=1.15.4 in /python/lib/python3.8/site-packages (from pandas->fastai) (1.19.4)\n",
      "Requirement already satisfied: python-dateutil>=2.7.3 in /python/lib/python3.8/site-packages (from pandas->fastai) (2.8.1)\n",
      "Requirement already satisfied: chardet<4,>=3.0.2 in /python/lib/python3.8/site-packages (from requests->fastai) (3.0.4)\n",
      "Requirement already satisfied: idna<3,>=2.5 in /python/lib/python3.8/site-packages (from requests->fastai) (2.10)\n",
      "Requirement already satisfied: certifi>=2017.4.17 in /python/lib/python3.8/site-packages (from requests->fastai) (2020.11.8)\n",
      "Requirement already satisfied: urllib3<1.27,>=1.21.1 in /python/lib/python3.8/site-packages (from requests->fastai) (1.26.2)\n",
      "Requirement already satisfied: six in /python/lib/python3.8/site-packages (from packaging->fastai) (1.15.0)\n",
      "Requirement already satisfied: pyparsing>=2.0.2 in /python/lib/python3.8/site-packages (from packaging->fastai) (2.4.7)\n",
      "Requirement already satisfied: joblib>=0.11 in /python/lib/python3.8/site-packages (from scikit-learn->fastai) (0.17.0)\n",
      "Requirement already satisfied: threadpoolctl>=2.0.0 in /python/lib/python3.8/site-packages (from scikit-learn->fastai) (2.1.0)\n",
      "Requirement already satisfied: dataclasses in /python/lib/python3.8/site-packages (from torch>=1.7.0->fastai) (0.6)\n",
      "Requirement already satisfied: typing-extensions in /python/lib/python3.8/site-packages (from torch>=1.7.0->fastai) (3.7.4.3)\n",
      "Requirement already satisfied: future in /python/lib/python3.8/site-packages (from torch>=1.7.0->fastai) (0.18.2)\n",
      "Requirement already satisfied: catalogue<1.1.0,>=0.0.7 in /python/lib/python3.8/site-packages (from spacy->fastai) (1.0.0)\n",
      "Requirement already satisfied: tqdm<5.0.0,>=4.38.0 in /python/lib/python3.8/site-packages (from spacy->fastai) (4.51.0)\n",
      "Requirement already satisfied: srsly<1.1.0,>=1.0.2 in /python/lib/python3.8/site-packages (from spacy->fastai) (1.0.4)\n",
      "Requirement already satisfied: plac<1.2.0,>=0.9.6 in /python/lib/python3.8/site-packages (from spacy->fastai) (1.1.3)\n",
      "Requirement already satisfied: blis<0.8.0,>=0.4.0; python_version >= \"3.6\" in /python/lib/python3.8/site-packages (from spacy->fastai) (0.7.3)\n",
      "Requirement already satisfied: preshed<3.1.0,>=3.0.2 in /python/lib/python3.8/site-packages (from spacy->fastai) (3.0.4)\n",
      "Requirement already satisfied: cymem<2.1.0,>=2.0.2 in /python/lib/python3.8/site-packages (from spacy->fastai) (2.0.4)\n",
      "Requirement already satisfied: thinc<7.5.0,>=7.4.1 in /python/lib/python3.8/site-packages (from spacy->fastai) (7.4.3)\n",
      "Requirement already satisfied: setuptools in /python/lib/python3.8/site-packages (from spacy->fastai) (50.3.2)\n",
      "Requirement already satisfied: wasabi<1.1.0,>=0.4.0 in /python/lib/python3.8/site-packages (from spacy->fastai) (0.8.0)\n",
      "Requirement already satisfied: murmurhash<1.1.0,>=0.28.0 in /python/lib/python3.8/site-packages (from spacy->fastai) (1.0.4)\n",
      "Requirement already satisfied: cycler>=0.10 in /python/lib/python3.8/site-packages (from matplotlib->fastai) (0.10.0)\n",
      "Requirement already satisfied: kiwisolver>=1.0.1 in /python/lib/python3.8/site-packages (from matplotlib->fastai) (1.3.1)\n",
      "\u001b[33mWARNING: You are using pip version 20.2.4; however, version 20.3 is available.\n",
      "You should consider upgrading via the '/python/bin/python3 -m pip install --upgrade pip' command.\u001b[0m\n"
     ]
    }
   ],
   "source": [
    "!pip install fastai"
   ]
  },
  {
   "cell_type": "code",
   "execution_count": 1,
   "metadata": {},
   "outputs": [],
   "source": [
    "from fastai.data.all import *\n",
    "from fastai.text.all import *\n",
    "from torch.utils.data import DataLoader as TorchDataLoader\n",
    "from fastai.callback.all import *\n",
    "from fastai.torch_core import *\n",
    "\n",
    "from readers.DrQA import data, model, module as reader_module\n",
    "from readers.DrQA import config as cfg\n",
    "from gensim.models import KeyedVectors\n",
    "import importlib\n",
    "import numpy as np\n",
    "import pandas as pd\n",
    "\n",
    "from fastaifix.learner import summary\n",
    "\n",
    "from transformers import RobertaForSequenceClassification, RobertaModel, RobertaTokenizer, RobertaConfig\n",
    "# transformers\n",
    "from transformers import PreTrainedModel, PreTrainedTokenizer, PretrainedConfig\n",
    "from transformers import AutoTokenizer\n",
    "\n",
    "from textprocessor.normalization import VncorenlpTokenizer"
   ]
  },
  {
   "cell_type": "code",
   "execution_count": 2,
   "metadata": {},
   "outputs": [
    {
     "data": {
      "text/plain": [
       "<module 'readers.DrQA.module' from '/code/readers/DrQA/module.py'>"
      ]
     },
     "execution_count": 2,
     "metadata": {},
     "output_type": "execute_result"
    }
   ],
   "source": [
    "importlib.reload(data)\n",
    "importlib.reload(cfg)\n",
    "importlib.reload(model)\n",
    "importlib.reload(reader_module)"
   ]
  },
  {
   "cell_type": "code",
   "execution_count": 3,
   "metadata": {},
   "outputs": [],
   "source": [
    "def seed_all(seed_value):\n",
    "    random.seed(seed_value) # Python\n",
    "    np.random.seed(seed_value) # cpu vars\n",
    "    torch.manual_seed(seed_value) # cpu  vars\n",
    "    \n",
    "    if torch.cuda.is_available(): \n",
    "        torch.cuda.manual_seed(seed_value)\n",
    "        torch.cuda.manual_seed_all(seed_value) # gpu vars\n",
    "        torch.backends.cudnn.deterministic = True  #needed\n",
    "        torch.backends.cudnn.benchmark = False"
   ]
  },
  {
   "cell_type": "code",
   "execution_count": 4,
   "metadata": {},
   "outputs": [],
   "source": [
    "seed_all(42)"
   ]
  },
  {
   "cell_type": "code",
   "execution_count": 5,
   "metadata": {},
   "outputs": [],
   "source": [
    "args = cfg.Args()\n",
    "args.weight_decay = 0.001\n",
    "args.max_len = 200\n",
    "args.hidden_size = 300\n",
    "args.context_layers = 3\n",
    "args.question_layers = 2\n",
    "args.concat_rnn_layers = True\n",
    "args.dropout_rnn = 0.2\n",
    "args.dropout_emb = 0\n",
    "args.layernorm_emb = True\n",
    "args.dropout_rnn_output = True\n",
    "args.embedding_dim = 300\n",
    "args.num_features = 2\n",
    "\n",
    "\n",
    "seed = 42\n",
    "use_fp16 = False\n",
    "bs = 32"
   ]
  },
  {
   "cell_type": "code",
   "execution_count": 5,
   "metadata": {},
   "outputs": [
    {
     "name": "stdout",
     "output_type": "stream",
     "text": [
      "0.2\n",
      "lstm\n",
      "self_attn\n",
      "dict_items([('model_type', 'rnn'), ('embedding_dim', 300), ('hidden_size', 300), ('context_layers', 3), ('question_layers', 2), ('rnn_unit_type', 'lstm'), ('concat_rnn_layers', True), ('question_merge', 'self_attn'), ('use_qemb', True), ('rnn_padding', True), ('fix_embeddings', True), ('optimizer', 'adamax'), ('learning_rate', 0.0001), ('momentum', 0), ('dropout_rnn', 0.2), ('dropout_rnn_output', True), ('grad_clipping', True), ('max_len', 150), ('num_features', 2), ('weight_decay', 0.001), ('dropout_emb', 0), ('layernorm_emb', True)])\n"
     ]
    }
   ],
   "source": [
    "print(args.dropout_rnn)\n",
    "print(args.rnn_unit_type)\n",
    "print(args.question_merge)\n",
    "print(args.__dict__.items())"
   ]
  },
  {
   "cell_type": "code",
   "execution_count": 32,
   "metadata": {},
   "outputs": [
    {
     "data": {
      "text/html": [
       "<div>\n",
       "<style scoped>\n",
       "    .dataframe tbody tr th:only-of-type {\n",
       "        vertical-align: middle;\n",
       "    }\n",
       "\n",
       "    .dataframe tbody tr th {\n",
       "        vertical-align: top;\n",
       "    }\n",
       "\n",
       "    .dataframe thead th {\n",
       "        text-align: right;\n",
       "    }\n",
       "</style>\n",
       "<table border=\"1\" class=\"dataframe\">\n",
       "  <thead>\n",
       "    <tr style=\"text-align: right;\">\n",
       "      <th></th>\n",
       "      <th>Unnamed: 0</th>\n",
       "      <th>id</th>\n",
       "      <th>title</th>\n",
       "      <th>label</th>\n",
       "      <th>q_toks</th>\n",
       "      <th>q_pos</th>\n",
       "      <th>q_ner</th>\n",
       "      <th>t_toks</th>\n",
       "      <th>t_pos</th>\n",
       "      <th>t_ner</th>\n",
       "      <th>is_valid</th>\n",
       "    </tr>\n",
       "  </thead>\n",
       "  <tbody>\n",
       "    <tr>\n",
       "      <th>0</th>\n",
       "      <td>0</td>\n",
       "      <td>u5-1554707394_0</td>\n",
       "      <td>Vụ ném bom nguyên tử xuống Hiroshima và Nagasaki</td>\n",
       "      <td>True</td>\n",
       "      <td>Tên 2 quả bom_nguyên_tử Mỹ thả xuống Nhật_Bản năm 1945</td>\n",
       "      <td>N M N N Np V E Np N M</td>\n",
       "      <td>O O O O B-LOC O O B-LOC O O</td>\n",
       "      <td>Vụ ném bom_nguyên_tử Hiroshima và Nagasaki là sự_kiện hai quả bom_nguyên_tử được Quân_đội Hoa_Kỳ , theo lệnh của Tổng_thống Harry_S_Truman , sử_dụng trong Chiến_tranh thế_giới lần thứ hai vào những ngày gần cuối của Chiến_tranh thế_giới thứ hai tại Nhật_Bản . Ngày 6 tháng 8 năm 1945 , quả bom_nguyên_tử thứ nhất mang tên \" Little_Boy \" đã được thả xuống thành_phố Hiroshima , Nhật_Bản . Sau đó 3 hôm , ngày 9 tháng 8 năm 1945 , quả bom thứ hai mang tên \" Fat_Man \" đã phát_nổ trên bầu_trời thành_phố Nagasaki .</td>\n",
       "      <td>N V N Np Cc Np V N M Nc N V N Np CH V N E N Np CH V E N N N N M E L N A N E N N N M E Np CH N M N M N M CH N N N M V N CH Np CH R V V E N Np CH Np CH E P M N CH N M N M N M CH Nc N N M V N CH Np CH R V E N N Np CH</td>\n",
       "      <td>O O O B-LOC O B-LOC O O O O O O O B-LOC O O O O O B-PER O O O O O O O O O O O O O O O O O O O B-LOC O O O O O O O O O O O O O O O O O O O O O B-LOC I-LOC O B-LOC O O O O O O O O O O O O O O O O O O O O O O O O O O B-LOC I-LOC O</td>\n",
       "      <td>False</td>\n",
       "    </tr>\n",
       "    <tr>\n",
       "      <th>1</th>\n",
       "      <td>1</td>\n",
       "      <td>u3-1557461233_1</td>\n",
       "      <td>Tiền Thái Bình hưng bảo</td>\n",
       "      <td>True</td>\n",
       "      <td>Niên_hiệu của Đinh_Tiên_Hoàng gọi là gì</td>\n",
       "      <td>N E Np V C P</td>\n",
       "      <td>O O B-PER O O O</td>\n",
       "      <td>Khi lên làm vua , Đinh_Tiên_Hoàng đặt niên_hiệu là \" Thái_Bình \" và cho đúc tiền \" Thái_Bình hưng bảo \" bằng đồng . Đây là tiền duy_nhất được phát_hành trong thời nhà Đinh , vì cho_dù sau_này có sự thay_đổi ngôi vua trong họ Đinh nhưng không có sự thay_đổi niên_hiệu ( Đinh_Toàn lên kế_vị vẫn dùng niên_hiệu Thái_Bình ) .</td>\n",
       "      <td>N V V N CH Np V N V CH Np CH Cc E V N CH Np V V CH E N CH P V N A V V E N N Np CH E E N V N V N N E P Np C R V N V N CH Np V N R V N Np CH CH</td>\n",
       "      <td>O O O O O B-PER O O O O B-LOC O O O O O O B-LOC O O O O O O O O O O O O O O O O O O O O O O O O O O O O O O O O O O O B-PER O O O O O B-LOC O O</td>\n",
       "      <td>False</td>\n",
       "    </tr>\n",
       "  </tbody>\n",
       "</table>\n",
       "</div>"
      ],
      "text/plain": [
       "   Unnamed: 0               id  \\\n",
       "0           0  u5-1554707394_0   \n",
       "1           1  u3-1557461233_1   \n",
       "\n",
       "                                              title  label  \\\n",
       "0  Vụ ném bom nguyên tử xuống Hiroshima và Nagasaki   True   \n",
       "1                           Tiền Thái Bình hưng bảo   True   \n",
       "\n",
       "                                                    q_toks  \\\n",
       "0  Tên 2 quả bom_nguyên_tử Mỹ thả xuống Nhật_Bản năm 1945    \n",
       "1                 Niên_hiệu của Đinh_Tiên_Hoàng gọi là gì    \n",
       "\n",
       "                    q_pos                         q_ner  \\\n",
       "0  N M N N Np V E Np N M   O O O O B-LOC O O B-LOC O O    \n",
       "1           N E Np V C P               O O B-PER O O O    \n",
       "\n",
       "                                                                                                                                                                                                                                                                                                                                                                                                                                                                                                                             t_toks  \\\n",
       "0  Vụ ném bom_nguyên_tử Hiroshima và Nagasaki là sự_kiện hai quả bom_nguyên_tử được Quân_đội Hoa_Kỳ , theo lệnh của Tổng_thống Harry_S_Truman , sử_dụng trong Chiến_tranh thế_giới lần thứ hai vào những ngày gần cuối của Chiến_tranh thế_giới thứ hai tại Nhật_Bản . Ngày 6 tháng 8 năm 1945 , quả bom_nguyên_tử thứ nhất mang tên \" Little_Boy \" đã được thả xuống thành_phố Hiroshima , Nhật_Bản . Sau đó 3 hôm , ngày 9 tháng 8 năm 1945 , quả bom thứ hai mang tên \" Fat_Man \" đã phát_nổ trên bầu_trời thành_phố Nagasaki .    \n",
       "1                                                                                                                                                                                                Khi lên làm vua , Đinh_Tiên_Hoàng đặt niên_hiệu là \" Thái_Bình \" và cho đúc tiền \" Thái_Bình hưng bảo \" bằng đồng . Đây là tiền duy_nhất được phát_hành trong thời nhà Đinh , vì cho_dù sau_này có sự thay_đổi ngôi vua trong họ Đinh nhưng không có sự thay_đổi niên_hiệu ( Đinh_Toàn lên kế_vị vẫn dùng niên_hiệu Thái_Bình ) .    \n",
       "\n",
       "                                                                                                                                                                                                                    t_pos  \\\n",
       "0  N V N Np Cc Np V N M Nc N V N Np CH V N E N Np CH V E N N N N M E L N A N E N N N M E Np CH N M N M N M CH N N N M V N CH Np CH R V V E N Np CH Np CH E P M N CH N M N M N M CH Nc N N M V N CH Np CH R V E N N Np CH    \n",
       "1                                                                          N V V N CH Np V N V CH Np CH Cc E V N CH Np V V CH E N CH P V N A V V E N N Np CH E E N V N V N N E P Np C R V N V N CH Np V N R V N Np CH CH    \n",
       "\n",
       "                                                                                                                                                                                                                                  t_ner  \\\n",
       "0  O O O B-LOC O B-LOC O O O O O O O B-LOC O O O O O B-PER O O O O O O O O O O O O O O O O O O O B-LOC O O O O O O O O O O O O O O O O O O O O O B-LOC I-LOC O B-LOC O O O O O O O O O O O O O O O O O O O O O O O O O O B-LOC I-LOC O    \n",
       "1                                                                                      O O O O O B-PER O O O O B-LOC O O O O O O B-LOC O O O O O O O O O O O O O O O O O O O O O O O O O O O O O O O O O O O B-PER O O O O O B-LOC O O    \n",
       "\n",
       "   is_valid  \n",
       "0     False  \n",
       "1     False  "
      ]
     },
     "execution_count": 32,
     "metadata": {},
     "output_type": "execute_result"
    }
   ],
   "source": [
    "# DATASET_PATH = 'Dataset'\n",
    "# BATCH_SIZE = 32\n",
    "# # max_seq_length = 256\n",
    "# zltp = ZaloTextPreprocess()\n",
    "# zltp.load_data(DATASET_PATH)\n",
    "# train_df = zltp.train_df\n",
    "train_df = pd.read_csv('dataset/qaset/train_feature_set2.csv')\n",
    "valid_df = pd.read_csv('dataset/qaset/valid_feature_set2.csv')\n",
    "# test_df = pd.read_csv('dataset/qaset/test_feature.csv')\n",
    "train_df['is_valid'] = False\n",
    "# test_df['is_valid'] = False # Do chia nhầm, gộp test này vào train\n",
    "valid_df['is_valid'] = True\n",
    "\n",
    "\n",
    "trainset = pd.concat([train_df, valid_df])\n",
    "trainset.head(2)"
   ]
  },
  {
   "cell_type": "code",
   "execution_count": 33,
   "metadata": {},
   "outputs": [
    {
     "data": {
      "text/plain": [
       "False    14487\n",
       "True      3621\n",
       "Name: is_valid, dtype: int64"
      ]
     },
     "execution_count": 33,
     "metadata": {},
     "output_type": "execute_result"
    }
   ],
   "source": [
    "trainset['is_valid'].value_counts()"
   ]
  },
  {
   "cell_type": "code",
   "execution_count": 34,
   "metadata": {},
   "outputs": [
    {
     "data": {
      "text/plain": [
       "{0: '<unk>',\n",
       " 1: '<pad>',\n",
       " 2: '<cls>',\n",
       " 3: 'o',\n",
       " 4: 'b-per',\n",
       " 5: 'b-org',\n",
       " 6: 'i-org',\n",
       " 7: 'b-loc',\n",
       " 8: 'b-misc',\n",
       " 9: 'i-misc',\n",
       " 10: 'i-loc',\n",
       " 11: 'i-per'}"
      ]
     },
     "execution_count": 34,
     "metadata": {},
     "output_type": "execute_result"
    }
   ],
   "source": [
    "ner_vocab = data.ReaderVocab.from_file('dataset/vocabs/train_feat_ner_vocab.txt')\n",
    "pos_vocab = data.ReaderVocab.from_file('dataset/vocabs/train_feat_pos_vocab.txt')\n",
    "ner_vocab.ind2tok"
   ]
  },
  {
   "cell_type": "code",
   "execution_count": 35,
   "metadata": {},
   "outputs": [],
   "source": [
    "wv_path = 'wordembedding/pretrain_models/word2vec/baomoi.window2.vn.model.bin'\n",
    "wv = KeyedVectors.load_word2vec_format(wv_path,binary=True)\n",
    "vocab = data.W2VVocab(['<unk>', '<pad>', '<cls>'], 0, 1, wv)"
   ]
  },
  {
   "cell_type": "code",
   "execution_count": 36,
   "metadata": {},
   "outputs": [],
   "source": [
    "w_in_train = []\n",
    "with open('dataset/vocabs/zlqa_token_list.txt', 'r') as f:\n",
    "    while True:\n",
    "        line = f.readline()\n",
    "        if not line:\n",
    "            break\n",
    "        w_in_train.append(line.split(' ')[-1][:-1].lower())"
   ]
  },
  {
   "cell_type": "markdown",
   "metadata": {},
   "source": [
    "# Data Prepair"
   ]
  },
  {
   "cell_type": "markdown",
   "metadata": {},
   "source": [
    "## DataBlock"
   ]
  },
  {
   "cell_type": "markdown",
   "metadata": {},
   "source": [
    "### Transform"
   ]
  },
  {
   "cell_type": "code",
   "execution_count": 37,
   "metadata": {},
   "outputs": [],
   "source": [
    "class SimpleTokenizer(Transform):\n",
    "    def __init__(self, vocab):\n",
    "        self.vocab = vocab\n",
    "        \n",
    "    def tok2id(self, tokens):\n",
    "#         if(len(tokens) < 100):\n",
    "#             print(tokens)\n",
    "#             print([self.vocab[tok] for tok in tokens])\n",
    "        return tensor([self.vocab[tok.lower()] for tok in tokens], dtype=torch.int64)\n",
    "    \n",
    "    def ids2toks(self, ids):\n",
    "        return ' '.join([self.vocab[ind] for ind in ids.tolist()])\n",
    "        \n",
    "    def encodes(self, x:str):\n",
    "        t = TensorText(self.tok2id(x.lower().split()))\n",
    "#         print('.', end='')\n",
    "        return t\n",
    "    \n",
    "    def decodes(self, x):\n",
    "        return TitledStr(self.ids2toks(x))\n",
    "    \n",
    "def simple_tokenize(items):\n",
    "    return (L(doc) for doc in map(lambda x: x.split(),items))"
   ]
  },
  {
   "cell_type": "code",
   "execution_count": 38,
   "metadata": {},
   "outputs": [],
   "source": [
    "def _is_tuple(o): return isinstance(o, tuple) and not hasattr(o, '_fields')\n",
    "class CustomPad(DisplayedTransform):\n",
    "    \"Pad `samples` by adding padding by chunks of size `seq_len`\"\n",
    "    def __init__(self, max_avai_len, pad_idx=1, pad_first=False, seq_len=72,decode=True,**kwargs):\n",
    "        store_attr('pad_idx, pad_first, seq_len,seq_len')\n",
    "        self.max_avai_len = max_avai_len\n",
    "        super().__init__(**kwargs)\n",
    "    \n",
    "    def _do_call(self, f, x, **kwargs):\n",
    "        if not _is_tuple(x):\n",
    "            if f is None: return x\n",
    "            ret = f.returns_none(x) if hasattr(f,'returns_none') else None\n",
    "            return retain_type(f(x, **kwargs), x, ret)\n",
    "        if 'index' in kwargs:\n",
    "            del kwargs['index']\n",
    "        res = tuple(self._do_call(f, x_, index=i, **kwargs) for i, x_ in enumerate(x))\n",
    "        return retain_type(res, x)\n",
    "    \n",
    "    def before_call(self, b):\n",
    "        \"Set `self.max_len` before encodes\"\n",
    "        self.max_len = [0 for i in b[0]]\n",
    "        for xs in b:\n",
    "            for i, x in enumerate(xs):\n",
    "                if isinstance(x, TensorText):\n",
    "                    self.max_len[i] = max(self.max_len[i], x.shape[0])\n",
    "        self.max_len = [min(l, self.max_avai_len) for l in self.max_len]\n",
    "        \n",
    "    def __call__(self, b, **kwargs):\n",
    "        self.before_call(b)\n",
    "        return super().__call__(tuple(b), **kwargs)\n",
    "    def encodes(self, x:TensorText, **kwargs):\n",
    "        if(x.shape[0] >= self.max_avai_len):\n",
    "            return x[:self.max_avai_len]\n",
    "        else:\n",
    "            return pad_chunk(x,pad_idx=self.pad_idx, pad_first=self.pad_first, seq_len=self.seq_len, pad_len=self.max_len[kwargs['index']])\n",
    "    def decodes(self, o:TensorText, **kwargs):\n",
    "        return o[o != self.pad_idx] if self.decode else o\n",
    "\n",
    "class ConCat(DisplayedTransform):\n",
    "    def before_call(self, b):\n",
    "        \"Set `self.max_len` before encodes\"\n",
    "        feat = torch.stack((b[1], b[2]), dim=2)\n",
    "        b = L(b[0], feat, b[3], b[4])\n",
    "        return b\n",
    "    \n",
    "    def before_decode(self, b):\n",
    "        return L(b[0], b[1][0], b[1][1] , b[3], b[4])\n",
    "        \n",
    "    def decode  (self, x, **kwargs):\n",
    "        b = self.before_decode(b)\n",
    "        return super().decode(tuple(b), **kwargs)\n",
    "    \n",
    "    def __call__(self, b, **kwargs):\n",
    "        b = self.before_call(b)\n",
    "        return super().__call__(tuple(b), **kwargs)"
   ]
  },
  {
   "cell_type": "markdown",
   "metadata": {},
   "source": [
    "### Transform Block"
   ]
  },
  {
   "cell_type": "code",
   "execution_count": 39,
   "metadata": {},
   "outputs": [],
   "source": [
    "class CustomTextBlock(TransformBlock):\n",
    "    \"A `TransformBlock` for texts\"\n",
    "    def __init__(self, vocab, seq_len=72, **kwargs):\n",
    "        type_tfms = [SimpleTokenizer(vocab)]\n",
    "        return super().__init__(type_tfms=type_tfms,\n",
    "                                dl_type=SortedDL,\n",
    "                                dls_kwargs={'before_batch': CustomPad(args.max_len, seq_len=seq_len, pad_first=False)})"
   ]
  },
  {
   "cell_type": "markdown",
   "metadata": {},
   "source": [
    "### DataBlock"
   ]
  },
  {
   "cell_type": "code",
   "execution_count": 40,
   "metadata": {},
   "outputs": [],
   "source": [
    "# b1 = TextBlock.from_df('text')\n",
    "b1 = CustomTextBlock(vocab)\n",
    "b_ner = CustomTextBlock(ner_vocab)\n",
    "b_pos = CustomTextBlock(pos_vocab)\n",
    "get_x = [ColReader(\"t_toks\"), ColReader(\"t_pos\"), ColReader(\"t_ner\"), ColReader(\"q_toks\"), ColReader(\"q_pos\"), ColReader(\"q_ner\"), ]\n",
    "blocks = [b1, b_pos, b_ner, b1, b_pos, b_ner, CategoryBlock(vocab=[False, True])]\n",
    "dtb = DataBlock(blocks=blocks, get_x=get_x, get_y=ColReader('label'), splitter=ColSplitter(col='is_valid'), n_inp=6)\n"
   ]
  },
  {
   "cell_type": "code",
   "execution_count": 41,
   "metadata": {},
   "outputs": [],
   "source": [
    "dls = dtb.dataloaders(trainset, path='.', bs=bs)"
   ]
  },
  {
   "cell_type": "code",
   "execution_count": 42,
   "metadata": {},
   "outputs": [
    {
     "name": "stdout",
     "output_type": "stream",
     "text": [
      "<unk> là á_hậu <unk> hoa_hậu việt_nam <unk> số_đo ba vòng : <unk> chiều cao : <unk> cân nặng : <unk> tài_năng : múa đương_đại <unk> đêm chung_kết hoa_hậu việt_nam <unk> diễn ra vào ngày <unk> tại bãi biển đà_nẵng <unk> kết_quả chung_cuộc ngôi_vị quan_quân thuộc về hoa_hậu <unk> đến từ bạc_liêu <unk> á_hậu <unk> là dương_tú_anh đến từ hà_nội và á_hậu <unk> là <unk> cũng đến từ hà_nội <unk> khi tham_gia cuộc thi hoa_hậu việt_nam <unk> <unk> mới chỉ là sinh_viên năm thứ nhất khoa quản_lý văn_hoá trường đại_học văn_hoá hà_nội <unk> tuy chỉ có <unk> tuổi nhưng hoàng_anh đã sở_hữu rất nhiều kinh_nghiệm trên các sàn_diễn và được báo_chí dự_đoán sẽ dành ngôi_vị cao nhất trong cuộc thi <unk> chính vì_thế nên khi lọt top <unk> <unk> không phải là điều bất_ngờ đối_với hầu_hết các khán_giả <unk> sở_hữu một vẻ bề_ngoài xinh_xắn <unk> hiền_dịu cùng với những nét tính_cách\n",
      "năm <unk> <unk> <unk> tiêu_diệt tây_sơn <unk> lên_ngôi hoàng_đế lập ra triều nguyễn và một lần nữa chọn huế làm kinh_đô cho triều_đại mới vì nhiều lý_do : về mặt lịch_sử khi trước đó <unk> đời chúa nguyễn đã chọn đất phú_xuân làm kinh_đô <unk> về địa_thế huế nằm ở trung_tâm lãnh_thổ việt_nam thống_nhất khi ấy <unk> cũng như về chính_trị khi ông lo_ngại dân_chúng phía bắc còn thương_tiếc triều lê <unk> khi chọn huế làm kinh_đô <unk> vua gia_long đã cho xây_dựng dạng kinh_đô có tính phòng_thủ : xây_dựng một loạt tường thành <unk> cung_điện <unk> công_sở <unk> <unk> ở bờ bắc sông hương như kinh_thành cùng với các phòng <unk> bộ nha viện trong kinh_thành <unk> các công_trình phòng_thủ quân_sự dọc bờ nước sông hương <unk> sông hộ_thành và cửa_biển thuận_an <unk> các công_trình trên được xây_dựng theo lối kiến_trúc truyền_thống của huế <unk> kết_hợp với kiểu_mẫu bố_trí\n",
      "<unk> nghề người_mẫu từ năm <unk> tuổi <unk> tuy_nhiên <unk> cô chuyển_hướng sang thiết_kế sau khi được học_bổng tại học_viện thời_trang london <unk> thời_gian học trường trung_học trần_nhân_tông <unk> hà_nội <unk> <unk> cô luôn là ứng_cử_viên xuất_sắc cho các cuộc thi của thành_phố như hát <unk> vẽ <unk> múa <unk> võ <unk> bơi <unk> toán <unk> anh văn <unk> trang nhận được nhiều giải_thưởng từ các cuộc thi này <unk> nói về mong_ước trang chia_sẻ “ hồi bé <unk> trang thường xin mẹ những bộ quần_áo cũ_kỹ <unk> lại thành những bộ trang_phục mới cho các em bé búp_bê của mình <unk> có hôm <unk> trang lọ_mọ với mấy cuốn sách dạy cắt may mới ‘ tậu ’ được ở hàng sách cũ <unk> thế_là quên cả bài_vở ở lớp <unk> mẹ biết và mắng trang đến khóc ” <unk> thế_mà lần đó <unk> trang đã khiến mẹ ngạc_nhiên bởi\n",
      "lý_thường kiệt là một trong <unk> vị anh_hùng dân_tộc tiêu_biểu trong lịch_sử việt_nam <unk> lý_thường_kiệt tên khai_sinh là ngô_tuấn <unk> cha_ông là <unk> tướng_quân <unk> <unk> con trai cả của ngô_quyền <unk> lý_thường kiệt sinh ra đã là người khôi_ngô tuấn_tú <unk> thông_minh <unk> tài_giỏi <unk> do sinh ra trong gia_đình cha là võ_tướng nên từ nhỏ lý_thường_kiệt đã rất thích học võ <unk> ban_ngày <unk> ông bày trận_đồ <unk> luyện <unk> <unk> và đêm đến thắp đèn đọc về binh_pháp tôn <unk> ngô <unk> mẹ lý thường kiệt mất năm <unk> lúc đấy ông mới <unk> tuổi <unk> ông được vào ngạch thị_vệ hầu vua và được phong chức <unk> hoàng môn chi hậu <unk> <unk> năm <unk> <unk> người mường ở biên_giới quấy_rối <unk> <unk> liền phong ông là thái_bảo <unk> đi xem_xét các quan ở thanh_hoá <unk> nghệ_an <unk> ông xoa_dịu nhân_dân <unk> được mọi người tin_tưởng\n",
      "về tài_năng : lý_thường_kiệt được hậu_thế đánh_giá là một nhân_vật lịch_sử kiệt_xuất của dân_tộc việt_nam hồi thế_kỷ xi <unk> đầu thế_kỷ xii <unk> để thấy rõ hơn sự đánh_giá này <unk> ta hãy nhìn lại giai_đoạn lịch_sử những năm <unk> – <unk> : ở nước tống <unk> vua <unk> lên_ngôi năm <unk> khi mới <unk> tuổi <unk> lòng đầy nhiệt_huyết chấn_hưng đất_nước <unk> nên năm sau liền mời vương_an_thạch <unk> một nhà chính_trị và văn_học nổi_tiếng thời ấy về triều phong làm phó tể_tướng <unk> cho được quyền cải_cách pháp_luật <unk> việc cải_cách pháp_luật đã bị các đại_thần trong triều phản_đối <unk> vua tống sinh ra dao_động <unk> vương_an_thạch bực_bội xin từ_chức sau <unk> năm nắm quyền <unk> nhưng năm sau <unk> <unk> <unk> <unk> lại triệu vương_an_thạch về triều phong làm tể_tướng <unk> vừa nắm được quyền trong tay <unk> để củng_cố địa_vị của mình <unk> vương_an_thạch xui vua\n",
      "phân_tử atp gồm adenosine <unk> tạo ra từ một vòng adenine và một đường <unk> <unk> và ba nhóm phosphate <unk> nên gọi là triphosphate <unk> <unk> các nhóm phosphat <unk> bắt_đầu từ nhóm gần nhất với nhóm <unk> <unk> được gọi lần_lượt là alpha <unk> α <unk> <unk> beta <unk> β <unk> <unk> và gamma <unk> γ <unk> phosphat <unk> atp tan tốt trong nước và khá ổn_định trong dung_dịch có độ_ph từ <unk> đến <unk> <unk> nhưng nhanh_chóng bị thuỷ phân ở ph quá cao hoặc quá thấp <unk> do_đó <unk> atp được dự_trữ tốt nhất dưới dạng muối khan <unk> phân_tử atp không ổn_định trong nước không đệm và bị thuỷ phân thành adp và phosphate <unk> lý_do là liên_kết giữa các phần_tử phosphate còn lại trong atp yếu hơn liên_kết hydro giữa adp và nước <unk> vì_vậy <unk> nếu atp và adp ở trong cân_bằng hoá_học\n",
      "t <unk> rưng là loại nhạc_cụ gõ phổ_biến ở vùng tây_nguyên <unk> việt_nam <unk> đặc_biệt là đối_với dân_tộc gia_rai và ba na <unk> cái tên <unk> t <unk> rưng <unk> xuất_phát từ tiếng gia_rai <unk> lâu ngày trở_nên quen_thuộc với mọi người <unk> đàn t <unk> rưng làm bằng một_số ống tre lồ_ô hay <unk> có kích_cỡ khác nhau <unk> đàn t <unk> rưng chuyên_nghiệp có khoảng <unk> đến <unk> ống xếp thành hàng trên giá đàn theo thứ_tự đi dần lên từ ống lớn đến ống nhỏ <unk> từ ống dài đến ống ngắn <unk> loại đàn t <unk> rưng dân_gian chỉ có <unk> ống với cách xếp ngược_lại <unk> ống trên cao_lớn rồi đi dần xuống là những ống nhỏ hơn <unk> <unk> nhìn_chung <unk> ống có đường_kính từ <unk> đến <unk> cm <unk> dài từ <unk> đến <unk> cm <unk> mỗi đầu ống đều bịt kín do\n",
      "sông mê_kông dài <unk> km <unk> là một trong <unk> con sông lớn nhất trên thế_giới <unk> bắt_nguồn từ cao_nguyên tây_tạng <unk> nó chảy qua vùng tây_tạng và vân_nam ở trung_quốc <unk> tạo nên biên_giới giữa lào và myanma cũng như giữa lào và thái_lan <unk> sau khi chảy qua phnôm_pênh <unk> nó chia thành hai nhánh là tiền_giang và hậu_giang rồi tiếp_tục chảy qua campuchia và vùng châu_thổ sông cửu_long trước khi đổ ra biển qua chín đường nhánh <unk> được gọi là cửu_long <unk> chín con rồng <unk> <unk> con sông mang nhiều phù_sa và tàu_bè có_thể đi từ ngoài biển qua trên con sông nông này đến tận <unk> ở campuchia <unk> một nhánh phụ từ hồ tonlé_sap chảy hợp vào với con sông ở phnôm_pênh <unk> đây là một hồ nước_ngọt nông <unk> đóng vai_trò một hồ chứa tự_nhiên làm ổn_định dòng_chảy ở hạ_lưu sông cửu_long\n",
      "tuy_nhiên <unk> ở cấp_bậc phân_loại cụ_thể nào đó thì một_số sinh_vật lại không nằm trong nhóm chỏm cây và vì_thế chúng cần phải có một dạng <unk> loại <unk> bổ_sung để đưa chúng vào <unk> một ví_dụ là chim cánh cổ <unk> <unk> archaeopteryx <unk> <unk> <unk> <unk> mặc_dù rõ_ràng là giống như chim <unk> nhưng lại không phải là hậu_duệ <unk> chung gần nhất của tất_cả các loài chim còn sinh_tồn hiện_nay mà_lại là cơ_bản <unk> nằm ở phần gốc <unk> hơn bất_kỳ thành_viên nào của nhóm đang xem_xét <unk> những sinh_vật như_vậy có_thể coi là nằm ở nhóm thân cây <unk> <unk> stem group <unk> <unk> của nhánh <unk> thuật_ngữ này là do nhà cổ_sinh_vật_học <unk> đưa ra <unk> trong ví_dụ vừa nêu thì <unk> archaeopteryx <unk> <unk> là loài chim thuộc nhóm thân cây <unk> tất_cả các sinh_vật nào đó <unk> nếu có quan_hệ họ_hàng gần_gũi với\n",
      "np v np m np np m n m n ch m n a ch m n a ch nc np ch np a ch n n np np m v v e n m e nc n np ch n n v n v e np np v e np ch np m v np v e np cc n m v np r v e np ch n v n v np np m np r r v n n n m n v n n n np np ch c r v m n c np r v r a n e l n cc v n v r v n a r e nc v ch t c c n v n m np r a c n a e l l n ch v m n n a ch a a e l n n\n",
      "n m ch np v np ch v n v r n np cc m n r v np v n e n r e a n ch e n n n n p m n n np r v n np v n ch e n np v e n n np v n p ch r c e n n n v n n n r v n np ch n v np v n ch n np r v v n n v n v ch v m nc n n ch n ch n ch n e n n n np c np c e l n ch n n n e n ch l n v n a n n n np ch n np cc n np ch l n n v v e n n n e np ch v e n v\n",
      "v n n e n m n ch c ch n v v v e n v n e n n np ch n v n n np ch np ch ch n r v n a e l nc v e n c v ch v ch v ch n ch v ch n ch n n ch n v r a n e l n v p ch v e n np v m n n ch np r v n l nc n a v r v l n n a e l n n n e p ch v n ch np v e l nc n v v a r ch v ch v e n n a ch c v p n e n ch n v cc v np v v ch ch c n p ch np r v n v e\n",
      "np v v m e m nc n n a e n np ch v n v v np ch n v np n np ch nc n p e np ch np v v r r v n a a ch a ch a ch e v v e n n v n c e a np r r v v n ch n ch n v n ch v n ch cc n v v n v e n np ch np ch n np r v v n m n p n r m n ch n v v n n v n cc v v n ch v n v a ch ch n m ch n n e n v ch n r v n v np ch v v l n e np ch np ch n v n ch v l n v\n",
      "e n ch np v n v c m n n v e n np n n m ch n n m ch e v a a n v p ch p r v r n n l n m ch m ch e n np ch n np v n m n r m n ch n a n v n ch c n a r v np ch m n n cc n a n p e n n v z n ch v v n v n ch n v n r v l n e n v ch n np v r v ch np v v v e m n v n ch c n a ch m ch v r m np e n v v n ch r v r n e n ch e v n e p ch np v n\n",
      "n ny v n ch v v e m n n cc m n n ch cc m n n ch c v c n ch ch l n n ch v e n a a e n n ch v v r v n ch ny ch ch n ch n ch ch cc n ch n ch n ch ny v a e n cc r a e n v n e m e m ch c a v n n e ny r a cc r a ch c ch ny r v a r e n n a ch n ny r v e n r v cc v n n v ny cc n ch n v v n l n n v r e ny a a v a e ny cc n ch c ch c np cc np e e a n\n",
      "ny ch a c nc n v v e n np ch np ch a t e n np cc np np ch nc n ch ny ch a ch v e n np ch a n v a e l n ch n ny ch a v e l n n n c v v n a n ch n ny ch a a v n m e m n v v n e n n v n v r r e n a e n a ch e n a e n a ch nc n ny ch v n r v m n e n v x ch n e a c v r r v l n a a ch ch n ch n v n e m e m nu ch a e m e m nu ch l n n r v a e\n",
      "n np a m nu ch v m e m nc n a r e n ch v e n np ch p v e n np cc np e np ch v v n n np cc np r c n np cc np ch e n v e np ch p v v m n c np cc np c v v r np cc n n n np e n v e n v m n n ch v v c np ch m nc n ch ch nc n v a n cc n r v e n n v e nc n n p e e np e np ch m n v e n np v v r e nc n e np ch p v m n n n ch v n m n v a v a n e n n np\n",
      "c ch e n v a p p c l n r r v e n v n cc c p v v v m n ch n v v e v p v ch m n v n n n ch ch n n ch ch ch c a c a c n ch c r r a c n n a a a e p l n n r v n x c a ch v e n n ch a r n p e n r v ch l n x r v c v e n n n ch ch n n ch ch e n ch n p v e n n np v r ch e n r v c ch n n ch v n n v n n n ch p l n p p ch c v n n v e\n",
      "b-per o o o o b-loc o o o o o o o o o o o o o o o o o o o o o b-misc i-misc i-misc o o o o o o o o b-loc o o o o o o o o b-per o o b-loc o o o o b-per o o b-loc o o o o b-per o o o b-loc o o o o o o b-loc o b-per o o o o o o o o o o b-org i-org i-org i-org o o o o o o o b-per o o o o o o o o o o o o o o o o o o o o o o o o o o o o b-per o o o o o o o o o o o o o o o o o o o o o o\n",
      "o o o b-per o b-loc o o o o o b-misc i-misc o o o o o b-loc o o o o o o o o o o o o o o o o o b-misc i-misc o o o b-loc o o o o o b-loc o o o o o o o o o o o o o o o o o o o o o b-misc i-misc o o o b-loc o o o o o o o o o o o o o o o o o o o o o o o o o o o o b-loc i-loc o o o o o o o o o o o o o o o o o o o o b-loc i-loc o b-loc i-loc o b-loc i-loc o o o o o o o o o o o b-loc o o o o o\n",
      "o o o o o o o o o o o o o o o o o o o b-org i-org i-org o o o b-org i-org i-org o b-loc o o o o o o o o o o o o o o o o o o o o o o o o o o o o o o o o o o o o o o o o o o o b-per o o o o o b-per o o o o o o o o o o o o o o o o o o o o o o o o o b-per o o o o o o o o o o o o o o o o o o o o o o o o o o o o o b-per o o o o o o o o b-per o o o o o\n",
      "b-per o o o o o o o o o o o b-loc o o o o o b-per o o o b-per o b-per o o o o o b-loc o b-per o o o o o o o o o o o o o o o o o o o o o o o o b-loc o o o o o o o o o o o o o o o o o o o o o o o b-per o b-per o o b-per o o o o o o o o o o o o o o o o o o o o o o o o o o o o o o o o o o o o o o o o o o o o b-per o o o o o o b-loc o b-loc o o o o o o o o o\n",
      "o o o b-loc o o o o o o o o o o b-loc o o o o o o o o o o o o o o o o o o o o o o o o o o o o o o o o o b-per o o o o o o o o o o o o o o o o o o o b-per o o o o o o o o o o o o o o o o o o o o o o o o o o o o o o o o o o o o o o o b-per o o o o o o o o o o o o o o o o o o b-per o o o o o o o o o o o o o o o o o o o b-per o o\n",
      "o o o o o o o o o o o o o o o o o o o o o o o o o o o o o o o o o o o o o o o o o o o o o o o o o o o o o o o o o o o o o o o o o o o o o o o o o o o o o o o o o o o o o o o o o o o o o o o o o o o o o o o o o o o o o o o o o o o o b-org o o o o o o o o o o o o o o o o o o o b-org o o o o o o b-org o b-org o o o o\n",
      "o o o o o o o o o o b-loc o b-loc o o o o o o o b-loc i-loc o o o o o o o o o o b-misc i-misc o o o o o o o o o o o o o o o o o o o o o o o o o o o o o o o o o o o o o o o o o o o o o o o o o o o o o o o o o o o o o o o o o o o o o o o o o o o o o o o o o o o o o o o o o o o o o o o o o o o o o o o o o o o o o o o o o o o o\n",
      "b-loc i-loc o o o o o o o o o o o o o o o o o o b-loc o o o o o b-loc o b-loc o b-loc o o o o o b-loc o b-loc o o o b-loc o b-loc o o o o o b-loc o o o o o o o b-loc o b-loc o o o o b-loc o o o b-loc i-loc o o o o o o o o o o o o o b-loc o o o o o o o o o o o o o o o o o o o o o o o o o o b-loc o b-loc o o o o o b-loc i-loc o o o o o o o b-loc o o o o o o o o o o o o o o o o o o o b-loc i-loc\n",
      "o o o o o o o o o o o o o o o o o o o o o o o o o o o o o o o o o o o o o o o o o o o o o o o o o o o o o o o o o o o o o o o o o o o o o o o o o o o o o o o o o o o o o o o o o o o o o o o o o o o o o o o o o o o o o o o o o o o o o b-per o o o o o o o o o o o o o o o o o o o o o o o o o o o o o o o o\n",
      "cục trưởng cục chính_trị <unk> hậu_cần hiện_nay là ai\n",
      "vua triều nguyễn nào đã chọn huế làm kinh_đô\n",
      "thời_gian thành_lập khối thị_trường chung châu_âu <unk> eec <unk>\n",
      "lý_thường_kiệt sinh vào năm nào\n",
      "lý_thường_kiệt sinh vào năm nào\n",
      "hợp_chất nào được xem như đồng_tiền năng_lượng của cơ_thể\n",
      "đàn_tơ_rưng là nhạc_cụ của dân_tộc nào\n",
      "con sông nào là biên_giới giữa lào và thái_lan\n",
      "thân cây nào vừa mảnh vừ dài nhất trong giới thực_vật\n",
      "n a n n ch n n v p\n",
      "n n np p r v np v n\n",
      "n v n n a np ch ny ch\n",
      "np v e n p\n",
      "np v e n p\n",
      "n p v v c n n e n\n",
      "n v n e n p\n",
      "nc n p v n n np cc np\n",
      "n n p r nc n a r e nc n\n",
      "o o b-org i-org i-org i-org o o o\n",
      "o b-misc i-misc o o o b-loc o o\n",
      "o o o o o b-loc o b-org o\n",
      "b-loc o o o o\n",
      "b-loc o o o o\n",
      "o o o o o o o o o\n",
      "o o o o o o\n",
      "o o o o o o b-loc o b-loc\n",
      "o o o o o o o o o o o\n",
      "False\n",
      "True\n",
      "False\n",
      "False\n",
      "False\n",
      "True\n",
      "True\n",
      "True\n",
      "False\n"
     ]
    }
   ],
   "source": [
    "dls.show_batch()"
   ]
  },
  {
   "cell_type": "code",
   "execution_count": 43,
   "metadata": {},
   "outputs": [
    {
     "name": "stdout",
     "output_type": "stream",
     "text": [
      "torch.cuda.LongTensor\n",
      "(32, 150)\n",
      "(32, 150)\n",
      "(32, 150)\n",
      "(32, 15)\n",
      "(32, 15)\n",
      "(32, 15)\n",
      "(32,)\n"
     ]
    }
   ],
   "source": [
    "b = dls.one_batch()\n",
    "print(b[0].type())\n",
    "for i in b:\n",
    "    print(i.size())"
   ]
  },
  {
   "cell_type": "code",
   "execution_count": 44,
   "metadata": {},
   "outputs": [
    {
     "data": {
      "text/plain": [
       "(32, 150)"
      ]
     },
     "execution_count": 44,
     "metadata": {},
     "output_type": "execute_result"
    }
   ],
   "source": [
    "b[1].size()"
   ]
  },
  {
   "cell_type": "code",
   "execution_count": 45,
   "metadata": {},
   "outputs": [
    {
     "name": "stdout",
     "output_type": "stream",
     "text": [
      "14464\n",
      "3648\n"
     ]
    }
   ],
   "source": [
    "print(len(dls.train)*dls.bs)\n",
    "print(len(dls.valid)*dls.bs)"
   ]
  },
  {
   "cell_type": "markdown",
   "metadata": {},
   "source": [
    "# Model"
   ]
  },
  {
   "cell_type": "code",
   "execution_count": 46,
   "metadata": {},
   "outputs": [],
   "source": [
    "from sklearn.metrics import roc_auc_score, f1_score\n",
    "def auroc(inp, targ, axis=-1):\n",
    "    inp, targ = inp.cpu().numpy()[:,1], targ.cpu().numpy()\n",
    "    try:\n",
    "        auc = roc_auc_score(targ, inp)\n",
    "    except ValueError:\n",
    "        auc = 0\n",
    "    return auc\n",
    "\n",
    "def f1(inp, targ, axis=-1):\n",
    "    inp, targ = inp.cpu().numpy(), targ.cpu().numpy()\n",
    "    inp = np.argmax(inp, axis=1)\n",
    "    try:\n",
    "        f1 = f1_score(targ, inp)\n",
    "    except ValueError:\n",
    "        f1 = 0\n",
    "    return f1"
   ]
  },
  {
   "cell_type": "code",
   "execution_count": 47,
   "metadata": {},
   "outputs": [],
   "source": [
    "# from .config import override_model_args\n",
    "# from reader.reader import RnnDocReader, EmbeddingModule\n",
    "import logging\n",
    "\n",
    "class FastTextReader(nn.Module):\n",
    "    def __init__(self, args, vocab, normalize=True):\n",
    "        super(FastTextReader, self).__init__()\n",
    "        self.args = args\n",
    "        self.args.vocab_size = len(vocab)\n",
    "        self.vocab = vocab\n",
    "        \n",
    "        self.embedding = reader_module.EmbeddingModule(args, vocab)\n",
    "        # Building network. If normalize if false, scores are not normalized\n",
    "        # 0-1 per paragraph (no softmax).\n",
    "        if args.model_type == 'rnn':\n",
    "            self.network = reader_module.RnnDocReader(args, normalize)\n",
    "        else:\n",
    "            raise RuntimeError('Unsupported model: %s' % args.model_type)\n",
    "    \n",
    "    def forward(self, x1, x1_f1, x1_f2, x2, x2_f1, x2_f2,):\n",
    "        x1_mask = torch.ones_like(x1)\n",
    "        x1_mask[x1 != 1] = 0\n",
    "        x2_mask = torch.ones_like(x2)\n",
    "        x2_mask[x2 != 1] = 0\n",
    "        x1_emb = self.embedding(x1)\n",
    "        x2_emb = self.embedding(x2)\n",
    "        x1_emb = torch.cat((x1_emb, torch.stack((x1_f1, x1_f2), dim=2)), dim=2)\n",
    "        x2_emb = torch.cat((x2_emb, torch.stack((x2_f1, x2_f2), dim=2)), dim=2)\n",
    "        return F.softmax(self.network(x1_emb, x1_mask, x2_emb, x2_mask), dim = -1)"
   ]
  },
  {
   "cell_type": "code",
   "execution_count": 90,
   "metadata": {},
   "outputs": [],
   "source": [
    "seed_all(seed)"
   ]
  },
  {
   "cell_type": "code",
   "execution_count": 91,
   "metadata": {},
   "outputs": [],
   "source": [
    "model = FastTextReader(args, vocab, True)\n",
    "criterion = CrossEntropyLossFlat(weight=tensor([0.3, 0.7]).cuda())"
   ]
  },
  {
   "cell_type": "code",
   "execution_count": 92,
   "metadata": {},
   "outputs": [],
   "source": [
    "# !git clone https://github.com/lessw2020/Ranger-Deep-Learning-Optimizer\n",
    "# !cd Ranger-Deep-Learning-Optimizer && pip install -e . "
   ]
  },
  {
   "cell_type": "code",
   "execution_count": 93,
   "metadata": {},
   "outputs": [],
   "source": [
    "from transformers import AdamW\n",
    "from functools import partial\n",
    "from ranger import Ranger\n",
    "# CustomAdamW = partial(AdamW, correct_bias=False)\n",
    "# CustomAdamW = torch.optim.AdamW\n",
    "# CustomAdamW.\n",
    "# opt= partial(OptimWrapper,))\n",
    "\n",
    "def opt(params, lr, **kwargs):\n",
    "    return OptimWrapper(Ranger(params))"
   ]
  },
  {
   "cell_type": "code",
   "execution_count": 94,
   "metadata": {},
   "outputs": [],
   "source": [
    "def splitter(model):\n",
    "    return [{'params': [p for p in model.embedding.parameters()]},\n",
    "        {'params': [p for p in model.network.parameters()]},]"
   ]
  },
  {
   "cell_type": "code",
   "execution_count": 13,
   "metadata": {},
   "outputs": [
    {
     "ename": "NameError",
     "evalue": "name 'dls' is not defined",
     "output_type": "error",
     "traceback": [
      "\u001b[0;31m---------------------------------------------------------------------------\u001b[0m",
      "\u001b[0;31mNameError\u001b[0m                                 Traceback (most recent call last)",
      "\u001b[0;32m<ipython-input-13-b515c7bf3eb5>\u001b[0m in \u001b[0;36m<module>\u001b[0;34m\u001b[0m\n\u001b[0;32m----> 1\u001b[0;31m \u001b[0mlearner\u001b[0m \u001b[0;34m=\u001b[0m \u001b[0mLearner\u001b[0m\u001b[0;34m(\u001b[0m\u001b[0mdls\u001b[0m\u001b[0;34m,\u001b[0m \u001b[0mmodel\u001b[0m\u001b[0;34m,\u001b[0m \u001b[0mloss_func\u001b[0m\u001b[0;34m=\u001b[0m\u001b[0mcriterion\u001b[0m\u001b[0;34m,\u001b[0m \u001b[0mopt_func\u001b[0m\u001b[0;34m=\u001b[0m\u001b[0mopt\u001b[0m\u001b[0;34m,\u001b[0m \u001b[0mmetrics\u001b[0m\u001b[0;34m=\u001b[0m\u001b[0;34m[\u001b[0m\u001b[0maccuracy\u001b[0m\u001b[0;34m,\u001b[0m \u001b[0mf1\u001b[0m\u001b[0;34m,\u001b[0m \u001b[0mauroc\u001b[0m\u001b[0;34m]\u001b[0m\u001b[0;34m,\u001b[0m \u001b[0msplitter\u001b[0m\u001b[0;34m=\u001b[0m\u001b[0msplitter\u001b[0m\u001b[0;34m,\u001b[0m \u001b[0mcbs\u001b[0m\u001b[0;34m=\u001b[0m\u001b[0mCudaCallback\u001b[0m\u001b[0;34m,\u001b[0m\u001b[0;34m)\u001b[0m\u001b[0;34m\u001b[0m\u001b[0;34m\u001b[0m\u001b[0m\n\u001b[0m\u001b[1;32m      2\u001b[0m \u001b[0;31m# Show graph of learner stats and metrics after each epoch.\u001b[0m\u001b[0;34m\u001b[0m\u001b[0;34m\u001b[0m\u001b[0;34m\u001b[0m\u001b[0m\n\u001b[1;32m      3\u001b[0m \u001b[0mlearner\u001b[0m\u001b[0;34m.\u001b[0m\u001b[0madd_cbs\u001b[0m\u001b[0;34m(\u001b[0m\u001b[0mShowGraphCallback\u001b[0m\u001b[0;34m(\u001b[0m\u001b[0;34m)\u001b[0m\u001b[0;34m)\u001b[0m\u001b[0;34m\u001b[0m\u001b[0;34m\u001b[0m\u001b[0m\n\u001b[1;32m      4\u001b[0m \u001b[0mlearner\u001b[0m\u001b[0;34m.\u001b[0m\u001b[0mload\u001b[0m\u001b[0;34m(\u001b[0m\u001b[0;34m'./models/2rd.pth'\u001b[0m\u001b[0;34m)\u001b[0m\u001b[0;34m\u001b[0m\u001b[0;34m\u001b[0m\u001b[0m\n\u001b[1;32m      5\u001b[0m \u001b[0;31m# learner.data = dls\u001b[0m\u001b[0;34m\u001b[0m\u001b[0;34m\u001b[0m\u001b[0;34m\u001b[0m\u001b[0m\n",
      "\u001b[0;31mNameError\u001b[0m: name 'dls' is not defined"
     ]
    }
   ],
   "source": [
    "learner = Learner(dls, model, loss_func=criterion, opt_func=opt, metrics=[accuracy, f1, auroc], splitter=splitter, cbs=CudaCallback,)\n",
    "# Show graph of learner stats and metrics after each epoch.\n",
    "learner.add_cbs(ShowGraphCallback())\n",
    "learner.load('./models/2rd.pth')\n",
    "# learner.data = dls"
   ]
  },
  {
   "cell_type": "code",
   "execution_count": null,
   "metadata": {},
   "outputs": [],
   "source": []
  },
  {
   "cell_type": "code",
   "execution_count": 96,
   "metadata": {},
   "outputs": [
    {
     "name": "stdout",
     "output_type": "stream",
     "text": [
      "FastTextReader(\n",
      "  (embedding): EmbeddingModule(\n",
      "    (embedding): Embedding(439057, 300, padding_idx=1)\n",
      "    (layernorm): LayerNorm((300,), eps=1e-05, elementwise_affine=True)\n",
      "  )\n",
      "  (network): RnnDocReader(\n",
      "    (qemb_match): SeqAttnMatch(\n",
      "      (linear): Linear(in_features=302, out_features=302, bias=True)\n",
      "    )\n",
      "    (context_rnn): CustomBRNN(\n",
      "      (rnns): ModuleList(\n",
      "        (0): BRNNBlock(\n",
      "          (rnn): LSTM(604, 300, bidirectional=True)\n",
      "          (dropout): Dropout(p=0.2, inplace=False)\n",
      "        )\n",
      "        (1): BRNNBlock(\n",
      "          (rnn): LSTM(600, 300, bidirectional=True)\n",
      "          (dropout): Dropout(p=0.2, inplace=False)\n",
      "        )\n",
      "        (2): BRNNBlock(\n",
      "          (rnn): LSTM(600, 300, bidirectional=True)\n",
      "          (dropout): Dropout(p=0.2, inplace=False)\n",
      "        )\n",
      "      )\n",
      "      (dropout): Dropout(p=0.2, inplace=False)\n",
      "    )\n",
      "    (question_rnn): CustomBRNN(\n",
      "      (rnns): ModuleList(\n",
      "        (0): BRNNBlock(\n",
      "          (rnn): LSTM(302, 300, bidirectional=True)\n",
      "          (dropout): Dropout(p=0.2, inplace=False)\n",
      "        )\n",
      "        (1): BRNNBlock(\n",
      "          (rnn): LSTM(600, 300, bidirectional=True)\n",
      "          (dropout): Dropout(p=0.2, inplace=False)\n",
      "        )\n",
      "      )\n",
      "      (dropout): Dropout(p=0.2, inplace=False)\n",
      "    )\n",
      "    (self_attn): LinearSeqAttn(\n",
      "      (linear): Linear(in_features=1200, out_features=1, bias=True)\n",
      "    )\n",
      "    (context_attn): BilinearSeqAttn(\n",
      "      (linear): Linear(in_features=1200, out_features=1800, bias=True)\n",
      "    )\n",
      "    (out): Linear(in_features=1800, out_features=2, bias=True)\n",
      "  )\n",
      ")\n"
     ]
    }
   ],
   "source": [
    "print(learner.model)"
   ]
  },
  {
   "cell_type": "code",
   "execution_count": 97,
   "metadata": {},
   "outputs": [
    {
     "name": "stdout",
     "output_type": "stream",
     "text": [
      "Ranger optimizer loaded. \n",
      "Gradient Centralization usage = True\n",
      "GC applied to both conv and fc layers\n"
     ]
    }
   ],
   "source": [
    "learner.freeze_to(1)"
   ]
  },
  {
   "cell_type": "code",
   "execution_count": 98,
   "metadata": {},
   "outputs": [
    {
     "data": {
      "text/html": [],
      "text/plain": [
       "<IPython.core.display.HTML object>"
      ]
     },
     "metadata": {},
     "output_type": "display_data"
    },
    {
     "ename": "ValueError",
     "evalue": "too many values to unpack (expected 4)",
     "output_type": "error",
     "traceback": [
      "\u001b[0;31m---------------------------------------------------------------------------\u001b[0m",
      "\u001b[0;31mValueError\u001b[0m                                Traceback (most recent call last)",
      "\u001b[0;32m<ipython-input-98-c574edd1e160>\u001b[0m in \u001b[0;36m<module>\u001b[0;34m\u001b[0m\n\u001b[0;32m----> 1\u001b[0;31m \u001b[0msummary\u001b[0m\u001b[0;34m(\u001b[0m\u001b[0mlearner\u001b[0m\u001b[0;34m)\u001b[0m\u001b[0;34m\u001b[0m\u001b[0;34m\u001b[0m\u001b[0m\n\u001b[0m",
      "\u001b[0;32m/code/fastaifix/learner.py\u001b[0m in \u001b[0;36msummary\u001b[0;34m(learner)\u001b[0m\n\u001b[1;32m     38\u001b[0m     \u001b[0;34m\"Print a summary of the model, optimizer and loss function.\"\u001b[0m\u001b[0;34m\u001b[0m\u001b[0;34m\u001b[0m\u001b[0m\n\u001b[1;32m     39\u001b[0m     \u001b[0mxb\u001b[0m \u001b[0;34m=\u001b[0m \u001b[0mlearner\u001b[0m\u001b[0;34m.\u001b[0m\u001b[0mdls\u001b[0m\u001b[0;34m.\u001b[0m\u001b[0mtrain\u001b[0m\u001b[0;34m.\u001b[0m\u001b[0mone_batch\u001b[0m\u001b[0;34m(\u001b[0m\u001b[0;34m)\u001b[0m\u001b[0;34m[\u001b[0m\u001b[0;34m:\u001b[0m\u001b[0mlearner\u001b[0m\u001b[0;34m.\u001b[0m\u001b[0mdls\u001b[0m\u001b[0;34m.\u001b[0m\u001b[0mtrain\u001b[0m\u001b[0;34m.\u001b[0m\u001b[0mn_inp\u001b[0m\u001b[0;34m]\u001b[0m\u001b[0;34m\u001b[0m\u001b[0;34m\u001b[0m\u001b[0m\n\u001b[0;32m---> 40\u001b[0;31m     \u001b[0mres\u001b[0m \u001b[0;34m=\u001b[0m \u001b[0mmodule_summary\u001b[0m\u001b[0;34m(\u001b[0m\u001b[0mlearner\u001b[0m\u001b[0;34m,\u001b[0m \u001b[0;34m*\u001b[0m\u001b[0mxb\u001b[0m\u001b[0;34m)\u001b[0m\u001b[0;34m\u001b[0m\u001b[0;34m\u001b[0m\u001b[0m\n\u001b[0m\u001b[1;32m     41\u001b[0m     \u001b[0mres\u001b[0m \u001b[0;34m+=\u001b[0m \u001b[0;34mf\"Optimizer used: {learner.opt_func}\\nLoss function: {learner.loss_func}\\n\\n\"\u001b[0m\u001b[0;34m\u001b[0m\u001b[0;34m\u001b[0m\u001b[0m\n\u001b[1;32m     42\u001b[0m     \u001b[0;32mif\u001b[0m \u001b[0mlearner\u001b[0m\u001b[0;34m.\u001b[0m\u001b[0mopt\u001b[0m \u001b[0;32mis\u001b[0m \u001b[0;32mnot\u001b[0m \u001b[0;32mNone\u001b[0m\u001b[0;34m:\u001b[0m\u001b[0;34m\u001b[0m\u001b[0;34m\u001b[0m\u001b[0m\n",
      "\u001b[0;32m/code/fastaifix/learner.py\u001b[0m in \u001b[0;36mmodule_summary\u001b[0;34m(learn, *xb)\u001b[0m\n\u001b[1;32m     24\u001b[0m     \u001b[0mps\u001b[0m\u001b[0;34m,\u001b[0m\u001b[0mtrn_ps\u001b[0m \u001b[0;34m=\u001b[0m \u001b[0;36m0\u001b[0m\u001b[0;34m,\u001b[0m\u001b[0;36m0\u001b[0m\u001b[0;34m\u001b[0m\u001b[0;34m\u001b[0m\u001b[0m\n\u001b[1;32m     25\u001b[0m     \u001b[0minfos\u001b[0m \u001b[0;34m=\u001b[0m \u001b[0;34m[\u001b[0m\u001b[0mo\u001b[0m \u001b[0;32mfor\u001b[0m \u001b[0mo\u001b[0m \u001b[0;32min\u001b[0m \u001b[0minfos\u001b[0m \u001b[0;32mif\u001b[0m \u001b[0mo\u001b[0m \u001b[0;32mis\u001b[0m \u001b[0;32mnot\u001b[0m \u001b[0;32mNone\u001b[0m\u001b[0;34m]\u001b[0m \u001b[0;31m#see comment in previous cell\u001b[0m\u001b[0;34m\u001b[0m\u001b[0;34m\u001b[0m\u001b[0m\n\u001b[0;32m---> 26\u001b[0;31m     \u001b[0;32mfor\u001b[0m \u001b[0mtyp\u001b[0m\u001b[0;34m,\u001b[0m\u001b[0mnp\u001b[0m\u001b[0;34m,\u001b[0m\u001b[0mtrn\u001b[0m\u001b[0;34m,\u001b[0m\u001b[0msz\u001b[0m \u001b[0;32min\u001b[0m \u001b[0minfos\u001b[0m\u001b[0;34m:\u001b[0m\u001b[0;34m\u001b[0m\u001b[0;34m\u001b[0m\u001b[0m\n\u001b[0m\u001b[1;32m     27\u001b[0m         \u001b[0;32mif\u001b[0m \u001b[0msz\u001b[0m \u001b[0;32mis\u001b[0m \u001b[0;32mNone\u001b[0m\u001b[0;34m:\u001b[0m \u001b[0;32mcontinue\u001b[0m\u001b[0;34m\u001b[0m\u001b[0;34m\u001b[0m\u001b[0m\n\u001b[1;32m     28\u001b[0m         \u001b[0mps\u001b[0m \u001b[0;34m+=\u001b[0m \u001b[0mnp\u001b[0m\u001b[0;34m\u001b[0m\u001b[0;34m\u001b[0m\u001b[0m\n",
      "\u001b[0;31mValueError\u001b[0m: too many values to unpack (expected 4)"
     ]
    }
   ],
   "source": [
    "summary(learner)"
   ]
  },
  {
   "cell_type": "code",
   "execution_count": null,
   "metadata": {},
   "outputs": [],
   "source": [
    "# learner = learner.to_fp16()"
   ]
  },
  {
   "cell_type": "code",
   "execution_count": 99,
   "metadata": {},
   "outputs": [
    {
     "data": {
      "text/plain": [
       "Path('models/untrain.pth')"
      ]
     },
     "execution_count": 99,
     "metadata": {},
     "output_type": "execute_result"
    }
   ],
   "source": [
    "learner.save('untrain')"
   ]
  },
  {
   "cell_type": "code",
   "execution_count": 73,
   "metadata": {},
   "outputs": [
    {
     "name": "stdout",
     "output_type": "stream",
     "text": [
      "set state called\n"
     ]
    },
    {
     "data": {
      "text/plain": [
       "<fastai.learner.Learner at 0x7fbca067c250>"
      ]
     },
     "execution_count": 73,
     "metadata": {},
     "output_type": "execute_result"
    }
   ],
   "source": [
    "learner.load('untrain')"
   ]
  },
  {
   "cell_type": "code",
   "execution_count": 100,
   "metadata": {},
   "outputs": [
    {
     "data": {
      "text/html": [],
      "text/plain": [
       "<IPython.core.display.HTML object>"
      ]
     },
     "metadata": {},
     "output_type": "display_data"
    },
    {
     "name": "stderr",
     "output_type": "stream",
     "text": [
      "/python/lib/python3.8/site-packages/sklearn/metrics/_classification.py:1464: UndefinedMetricWarning: F-score is ill-defined and being set to 0.0 due to no true nor predicted samples. Use `zero_division` parameter to control this behavior.\n",
      "  _warn_prf(\n",
      "/python/lib/python3.8/site-packages/sklearn/metrics/_classification.py:1464: UndefinedMetricWarning: F-score is ill-defined and being set to 0.0 due to no true nor predicted samples. Use `zero_division` parameter to control this behavior.\n",
      "  _warn_prf(\n",
      "/python/lib/python3.8/site-packages/sklearn/metrics/_classification.py:1464: UndefinedMetricWarning: F-score is ill-defined and being set to 0.0 due to no true nor predicted samples. Use `zero_division` parameter to control this behavior.\n",
      "  _warn_prf(\n",
      "/python/lib/python3.8/site-packages/sklearn/metrics/_classification.py:1464: UndefinedMetricWarning: F-score is ill-defined and being set to 0.0 due to no true nor predicted samples. Use `zero_division` parameter to control this behavior.\n",
      "  _warn_prf(\n",
      "/python/lib/python3.8/site-packages/sklearn/metrics/_classification.py:1464: UndefinedMetricWarning: F-score is ill-defined and being set to 0.0 due to no true nor predicted samples. Use `zero_division` parameter to control this behavior.\n",
      "  _warn_prf(\n"
     ]
    },
    {
     "data": {
      "text/plain": [
       "(#4) [0.6936534643173218,0.6652858257293701,0.02663586225317201,0.4151572589810831]"
      ]
     },
     "execution_count": 100,
     "metadata": {},
     "output_type": "execute_result"
    }
   ],
   "source": [
    "learner.validate()"
   ]
  },
  {
   "cell_type": "code",
   "execution_count": 101,
   "metadata": {},
   "outputs": [
    {
     "data": {
      "text/html": [],
      "text/plain": [
       "<IPython.core.display.HTML object>"
      ]
     },
     "metadata": {},
     "output_type": "display_data"
    },
    {
     "name": "stdout",
     "output_type": "stream",
     "text": [
      "set state called\n"
     ]
    },
    {
     "data": {
      "text/plain": [
       "SuggestedLRs(lr_min=0.0015848932787775993, lr_steep=0.010964781977236271)"
      ]
     },
     "execution_count": 101,
     "metadata": {},
     "output_type": "execute_result"
    },
    {
     "data": {
      "image/png": "[encoded data removed]",
      "text/plain": [
       "<Figure size 432x288 with 1 Axes>"
      ]
     },
     "metadata": {
      "needs_background": "light"
     },
     "output_type": "display_data"
    }
   ],
   "source": [
    "learner.lr_find()"
   ]
  },
  {
   "cell_type": "code",
   "execution_count": 62,
   "metadata": {},
   "outputs": [],
   "source": [
    "# learner.fit_one_cycle(1, lr_max=1e-2)"
   ]
  },
  {
   "cell_type": "code",
   "execution_count": 102,
   "metadata": {},
   "outputs": [
    {
     "data": {
      "text/html": [
       "<table border=\"1\" class=\"dataframe\">\n",
       "  <thead>\n",
       "    <tr style=\"text-align: left;\">\n",
       "      <th>epoch</th>\n",
       "      <th>train_loss</th>\n",
       "      <th>valid_loss</th>\n",
       "      <th>accuracy</th>\n",
       "      <th>f1</th>\n",
       "      <th>auroc</th>\n",
       "      <th>time</th>\n",
       "    </tr>\n",
       "  </thead>\n",
       "  <tbody>\n",
       "    <tr>\n",
       "      <td>0</td>\n",
       "      <td>0.675583</td>\n",
       "      <td>0.667582</td>\n",
       "      <td>0.591825</td>\n",
       "      <td>0.407892</td>\n",
       "      <td>0.537327</td>\n",
       "      <td>00:31</td>\n",
       "    </tr>\n",
       "  </tbody>\n",
       "</table>"
      ],
      "text/plain": [
       "<IPython.core.display.HTML object>"
      ]
     },
     "metadata": {},
     "output_type": "display_data"
    },
    {
     "data": {
      "image/png": "[encoded data removed]",
      "text/plain": [
       "<Figure size 432x288 with 1 Axes>"
      ]
     },
     "metadata": {},
     "output_type": "display_data"
    }
   ],
   "source": [
    "# Option khac\n",
    "learner.fit_one_cycle(1,lr_max=5e-3,moms=(0.99,0.95, 0.99))"
   ]
  },
  {
   "cell_type": "code",
   "execution_count": 103,
   "metadata": {},
   "outputs": [
    {
     "data": {
      "text/html": [],
      "text/plain": [
       "<IPython.core.display.HTML object>"
      ]
     },
     "metadata": {},
     "output_type": "display_data"
    },
    {
     "name": "stdout",
     "output_type": "stream",
     "text": [
      "set state called\n"
     ]
    },
    {
     "data": {
      "text/plain": [
       "SuggestedLRs(lr_min=9.12010818865383e-08, lr_steep=7.585775847473997e-07)"
      ]
     },
     "execution_count": 103,
     "metadata": {},
     "output_type": "execute_result"
    },
    {
     "data": {
      "image/png": "[encoded data removed]",
      "text/plain": [
       "<Figure size 432x288 with 1 Axes>"
      ]
     },
     "metadata": {
      "needs_background": "light"
     },
     "output_type": "display_data"
    }
   ],
   "source": [
    "learner.lr_find()"
   ]
  },
  {
   "cell_type": "code",
   "execution_count": 104,
   "metadata": {},
   "outputs": [
    {
     "data": {
      "text/html": [
       "<table border=\"1\" class=\"dataframe\">\n",
       "  <thead>\n",
       "    <tr style=\"text-align: left;\">\n",
       "      <th>epoch</th>\n",
       "      <th>train_loss</th>\n",
       "      <th>valid_loss</th>\n",
       "      <th>accuracy</th>\n",
       "      <th>f1</th>\n",
       "      <th>auroc</th>\n",
       "      <th>time</th>\n",
       "    </tr>\n",
       "  </thead>\n",
       "  <tbody>\n",
       "    <tr>\n",
       "      <td>0</td>\n",
       "      <td>0.659374</td>\n",
       "      <td>0.667578</td>\n",
       "      <td>0.590997</td>\n",
       "      <td>0.407465</td>\n",
       "      <td>0.537264</td>\n",
       "      <td>00:31</td>\n",
       "    </tr>\n",
       "  </tbody>\n",
       "</table>"
      ],
      "text/plain": [
       "<IPython.core.display.HTML object>"
      ]
     },
     "metadata": {},
     "output_type": "display_data"
    },
    {
     "data": {
      "image/png": "[encoded data removed]",
      "text/plain": [
       "<Figure size 432x288 with 1 Axes>"
      ]
     },
     "metadata": {},
     "output_type": "display_data"
    }
   ],
   "source": [
    "learner.fit_one_cycle(1,lr_max=2e-7,moms=(0.99,0.95, 0.99))"
   ]
  },
  {
   "cell_type": "code",
   "execution_count": 106,
   "metadata": {},
   "outputs": [
    {
     "data": {
      "text/html": [],
      "text/plain": [
       "<IPython.core.display.HTML object>"
      ]
     },
     "metadata": {},
     "output_type": "display_data"
    },
    {
     "name": "stdout",
     "output_type": "stream",
     "text": [
      "set state called\n"
     ]
    },
    {
     "data": {
      "text/plain": [
       "SuggestedLRs(lr_min=0.0009120108559727668, lr_steep=0.2089296132326126)"
      ]
     },
     "execution_count": 106,
     "metadata": {},
     "output_type": "execute_result"
    },
    {
     "data": {
      "image/png": "[encoded data removed]",
      "text/plain": [
       "<Figure size 432x288 with 1 Axes>"
      ]
     },
     "metadata": {
      "needs_background": "light"
     },
     "output_type": "display_data"
    }
   ],
   "source": [
    "learner.lr_find()"
   ]
  },
  {
   "cell_type": "code",
   "execution_count": 107,
   "metadata": {},
   "outputs": [
    {
     "data": {
      "text/html": [
       "<table border=\"1\" class=\"dataframe\">\n",
       "  <thead>\n",
       "    <tr style=\"text-align: left;\">\n",
       "      <th>epoch</th>\n",
       "      <th>train_loss</th>\n",
       "      <th>valid_loss</th>\n",
       "      <th>accuracy</th>\n",
       "      <th>f1</th>\n",
       "      <th>auroc</th>\n",
       "      <th>time</th>\n",
       "    </tr>\n",
       "  </thead>\n",
       "  <tbody>\n",
       "    <tr>\n",
       "      <td>0</td>\n",
       "      <td>0.662501</td>\n",
       "      <td>0.679655</td>\n",
       "      <td>0.508975</td>\n",
       "      <td>0.451011</td>\n",
       "      <td>0.526576</td>\n",
       "      <td>00:31</td>\n",
       "    </tr>\n",
       "    <tr>\n",
       "      <td>1</td>\n",
       "      <td>0.656570</td>\n",
       "      <td>0.656757</td>\n",
       "      <td>0.647887</td>\n",
       "      <td>0.377478</td>\n",
       "      <td>0.559897</td>\n",
       "      <td>00:31</td>\n",
       "    </tr>\n",
       "    <tr>\n",
       "      <td>2</td>\n",
       "      <td>0.646111</td>\n",
       "      <td>0.644479</td>\n",
       "      <td>0.647611</td>\n",
       "      <td>0.403503</td>\n",
       "      <td>0.575800</td>\n",
       "      <td>00:31</td>\n",
       "    </tr>\n",
       "    <tr>\n",
       "      <td>3</td>\n",
       "      <td>0.600182</td>\n",
       "      <td>0.647906</td>\n",
       "      <td>0.611433</td>\n",
       "      <td>0.438129</td>\n",
       "      <td>0.573672</td>\n",
       "      <td>00:31</td>\n",
       "    </tr>\n",
       "    <tr>\n",
       "      <td>4</td>\n",
       "      <td>0.560802</td>\n",
       "      <td>0.643939</td>\n",
       "      <td>0.631870</td>\n",
       "      <td>0.435849</td>\n",
       "      <td>0.577733</td>\n",
       "      <td>00:31</td>\n",
       "    </tr>\n",
       "  </tbody>\n",
       "</table>"
      ],
      "text/plain": [
       "<IPython.core.display.HTML object>"
      ]
     },
     "metadata": {},
     "output_type": "display_data"
    },
    {
     "data": {
      "image/png": "[encoded data removed]",
      "text/plain": [
       "<Figure size 432x288 with 1 Axes>"
      ]
     },
     "metadata": {},
     "output_type": "display_data"
    },
    {
     "name": "stderr",
     "output_type": "stream",
     "text": [
      "/python/lib/python3.8/site-packages/sklearn/metrics/_classification.py:1464: UndefinedMetricWarning: F-score is ill-defined and being set to 0.0 due to no true nor predicted samples. Use `zero_division` parameter to control this behavior.\n",
      "  _warn_prf(\n",
      "/python/lib/python3.8/site-packages/sklearn/metrics/_classification.py:1464: UndefinedMetricWarning: F-score is ill-defined and being set to 0.0 due to no true nor predicted samples. Use `zero_division` parameter to control this behavior.\n",
      "  _warn_prf(\n",
      "/python/lib/python3.8/site-packages/sklearn/metrics/_classification.py:1464: UndefinedMetricWarning: F-score is ill-defined and being set to 0.0 due to no true nor predicted samples. Use `zero_division` parameter to control this behavior.\n",
      "  _warn_prf(\n",
      "/python/lib/python3.8/site-packages/sklearn/metrics/_classification.py:1464: UndefinedMetricWarning: F-score is ill-defined and being set to 0.0 due to no true nor predicted samples. Use `zero_division` parameter to control this behavior.\n",
      "  _warn_prf(\n"
     ]
    }
   ],
   "source": [
    "learner.fit_one_cycle(5,lr_max=1e-3,moms=(0.99,0.95, 0.99))"
   ]
  },
  {
   "cell_type": "code",
   "execution_count": 109,
   "metadata": {},
   "outputs": [
    {
     "data": {
      "text/html": [],
      "text/plain": [
       "<IPython.core.display.HTML object>"
      ]
     },
     "metadata": {},
     "output_type": "display_data"
    },
    {
     "name": "stdout",
     "output_type": "stream",
     "text": [
      "set state called\n"
     ]
    },
    {
     "data": {
      "text/plain": [
       "SuggestedLRs(lr_min=3.6307807022240014e-06, lr_steep=5.754399353463668e-06)"
      ]
     },
     "execution_count": 109,
     "metadata": {},
     "output_type": "execute_result"
    },
    {
     "data": {
      "image/png": "[encoded data removed]",
      "text/plain": [
       "<Figure size 432x288 with 1 Axes>"
      ]
     },
     "metadata": {
      "needs_background": "light"
     },
     "output_type": "display_data"
    }
   ],
   "source": [
    "learner.lr_find()"
   ]
  },
  {
   "cell_type": "code",
   "execution_count": 110,
   "metadata": {},
   "outputs": [
    {
     "data": {
      "text/html": [
       "<table border=\"1\" class=\"dataframe\">\n",
       "  <thead>\n",
       "    <tr style=\"text-align: left;\">\n",
       "      <th>epoch</th>\n",
       "      <th>train_loss</th>\n",
       "      <th>valid_loss</th>\n",
       "      <th>accuracy</th>\n",
       "      <th>f1</th>\n",
       "      <th>auroc</th>\n",
       "      <th>time</th>\n",
       "    </tr>\n",
       "  </thead>\n",
       "  <tbody>\n",
       "    <tr>\n",
       "      <td>0</td>\n",
       "      <td>0.562848</td>\n",
       "      <td>0.644095</td>\n",
       "      <td>0.632146</td>\n",
       "      <td>0.436590</td>\n",
       "      <td>0.577936</td>\n",
       "      <td>00:32</td>\n",
       "    </tr>\n",
       "    <tr>\n",
       "      <td>1</td>\n",
       "      <td>0.553357</td>\n",
       "      <td>0.643960</td>\n",
       "      <td>0.630765</td>\n",
       "      <td>0.433522</td>\n",
       "      <td>0.578168</td>\n",
       "      <td>00:31</td>\n",
       "    </tr>\n",
       "    <tr>\n",
       "      <td>2</td>\n",
       "      <td>0.557477</td>\n",
       "      <td>0.643870</td>\n",
       "      <td>0.630489</td>\n",
       "      <td>0.435738</td>\n",
       "      <td>0.578386</td>\n",
       "      <td>00:31</td>\n",
       "    </tr>\n",
       "    <tr>\n",
       "      <td>3</td>\n",
       "      <td>0.554863</td>\n",
       "      <td>0.644092</td>\n",
       "      <td>0.631593</td>\n",
       "      <td>0.435463</td>\n",
       "      <td>0.577655</td>\n",
       "      <td>00:31</td>\n",
       "    </tr>\n",
       "    <tr>\n",
       "      <td>4</td>\n",
       "      <td>0.551004</td>\n",
       "      <td>0.644074</td>\n",
       "      <td>0.631870</td>\n",
       "      <td>0.435983</td>\n",
       "      <td>0.577810</td>\n",
       "      <td>00:31</td>\n",
       "    </tr>\n",
       "  </tbody>\n",
       "</table>"
      ],
      "text/plain": [
       "<IPython.core.display.HTML object>"
      ]
     },
     "metadata": {},
     "output_type": "display_data"
    },
    {
     "name": "stderr",
     "output_type": "stream",
     "text": [
      "/python/lib/python3.8/site-packages/sklearn/metrics/_classification.py:1464: UndefinedMetricWarning: F-score is ill-defined and being set to 0.0 due to no true nor predicted samples. Use `zero_division` parameter to control this behavior.\n",
      "  _warn_prf(\n"
     ]
    },
    {
     "data": {
      "image/png": "[encoded data removed]",
      "text/plain": [
       "<Figure size 432x288 with 1 Axes>"
      ]
     },
     "metadata": {},
     "output_type": "display_data"
    },
    {
     "name": "stderr",
     "output_type": "stream",
     "text": [
      "/python/lib/python3.8/site-packages/sklearn/metrics/_classification.py:1464: UndefinedMetricWarning: F-score is ill-defined and being set to 0.0 due to no true nor predicted samples. Use `zero_division` parameter to control this behavior.\n",
      "  _warn_prf(\n",
      "/python/lib/python3.8/site-packages/sklearn/metrics/_classification.py:1464: UndefinedMetricWarning: F-score is ill-defined and being set to 0.0 due to no true nor predicted samples. Use `zero_division` parameter to control this behavior.\n",
      "  _warn_prf(\n",
      "/python/lib/python3.8/site-packages/sklearn/metrics/_classification.py:1464: UndefinedMetricWarning: F-score is ill-defined and being set to 0.0 due to no true nor predicted samples. Use `zero_division` parameter to control this behavior.\n",
      "  _warn_prf(\n",
      "/python/lib/python3.8/site-packages/sklearn/metrics/_classification.py:1464: UndefinedMetricWarning: F-score is ill-defined and being set to 0.0 due to no true nor predicted samples. Use `zero_division` parameter to control this behavior.\n",
      "  _warn_prf(\n"
     ]
    }
   ],
   "source": [
    "learner.fit_one_cycle(5,lr_max=1e-5,moms=(0.99,0.95, 0.99))"
   ]
  },
  {
   "cell_type": "code",
   "execution_count": 105,
   "metadata": {},
   "outputs": [
    {
     "data": {
      "text/plain": [
       "Path('models/2rd.pth')"
      ]
     },
     "execution_count": 105,
     "metadata": {},
     "output_type": "execute_result"
    }
   ],
   "source": [
    "learner.save('2rd')"
   ]
  },
  {
   "cell_type": "code",
   "execution_count": null,
   "metadata": {},
   "outputs": [],
   "source": [
    "learner.load('2rd')"
   ]
  },
  {
   "cell_type": "code",
   "execution_count": 104,
   "metadata": {},
   "outputs": [
    {
     "data": {
      "text/html": [
       "<table border=\"1\" class=\"dataframe\">\n",
       "  <thead>\n",
       "    <tr style=\"text-align: left;\">\n",
       "      <th>epoch</th>\n",
       "      <th>train_loss</th>\n",
       "      <th>valid_loss</th>\n",
       "      <th>accuracy</th>\n",
       "      <th>f1</th>\n",
       "      <th>auroc</th>\n",
       "      <th>time</th>\n",
       "    </tr>\n",
       "  </thead>\n",
       "  <tbody>\n",
       "    <tr>\n",
       "      <td>0</td>\n",
       "      <td>0.411804</td>\n",
       "      <td>0.401853</td>\n",
       "      <td>0.912771</td>\n",
       "      <td>0.850260</td>\n",
       "      <td>0.944224</td>\n",
       "      <td>00:13</td>\n",
       "    </tr>\n",
       "    <tr>\n",
       "      <td>1</td>\n",
       "      <td>0.487536</td>\n",
       "      <td>0.488596</td>\n",
       "      <td>0.777696</td>\n",
       "      <td>0.691667</td>\n",
       "      <td>0.891131</td>\n",
       "      <td>00:13</td>\n",
       "    </tr>\n",
       "    <tr>\n",
       "      <td>2</td>\n",
       "      <td>0.457522</td>\n",
       "      <td>0.410073</td>\n",
       "      <td>0.894001</td>\n",
       "      <td>0.829770</td>\n",
       "      <td>0.934793</td>\n",
       "      <td>00:14</td>\n",
       "    </tr>\n",
       "    <tr>\n",
       "      <td>3</td>\n",
       "      <td>0.400275</td>\n",
       "      <td>0.377638</td>\n",
       "      <td>0.934855</td>\n",
       "      <td>0.889572</td>\n",
       "      <td>0.951471</td>\n",
       "      <td>00:14</td>\n",
       "    </tr>\n",
       "    <tr>\n",
       "      <td>4</td>\n",
       "      <td>0.379050</td>\n",
       "      <td>0.372143</td>\n",
       "      <td>0.936695</td>\n",
       "      <td>0.892293</td>\n",
       "      <td>0.953579</td>\n",
       "      <td>00:14</td>\n",
       "    </tr>\n",
       "  </tbody>\n",
       "</table>"
      ],
      "text/plain": [
       "<IPython.core.display.HTML object>"
      ]
     },
     "metadata": {},
     "output_type": "display_data"
    },
    {
     "data": {
      "image/png": "[encoded data removed]",
      "text/plain": [
       "<Figure size 432x288 with 1 Axes>"
      ]
     },
     "metadata": {},
     "output_type": "display_data"
    }
   ],
   "source": [
    "# Option khac\n",
    "learner.fit_one_cycle(5,lr_max=1e-3,moms=(0.99,0.95, 0.99))"
   ]
  },
  {
   "cell_type": "code",
   "execution_count": 111,
   "metadata": {},
   "outputs": [
    {
     "ename": "AttributeError",
     "evalue": "'Learner' object has no attribute 'plot'",
     "output_type": "error",
     "traceback": [
      "\u001b[0;31m---------------------------------------------------------------------------\u001b[0m",
      "\u001b[0;31mAttributeError\u001b[0m                            Traceback (most recent call last)",
      "\u001b[0;32m<ipython-input-111-30b7e7ccdb87>\u001b[0m in \u001b[0;36m<module>\u001b[0;34m\u001b[0m\n\u001b[0;32m----> 1\u001b[0;31m \u001b[0mlearner\u001b[0m\u001b[0;34m.\u001b[0m\u001b[0mrecorder\u001b[0m\u001b[0;34m.\u001b[0m\u001b[0mplot\u001b[0m\u001b[0;34m(\u001b[0m\u001b[0;34m)\u001b[0m\u001b[0;34m\u001b[0m\u001b[0;34m\u001b[0m\u001b[0m\n\u001b[0m",
      "\u001b[0;32m/python/lib/python3.8/site-packages/fastcore/foundation.py\u001b[0m in \u001b[0;36m__getattr__\u001b[0;34m(self, k)\u001b[0m\n\u001b[1;32m     92\u001b[0m         \u001b[0;32mif\u001b[0m \u001b[0mself\u001b[0m\u001b[0;34m.\u001b[0m\u001b[0m_component_attr_filter\u001b[0m\u001b[0;34m(\u001b[0m\u001b[0mk\u001b[0m\u001b[0;34m)\u001b[0m\u001b[0;34m:\u001b[0m\u001b[0;34m\u001b[0m\u001b[0;34m\u001b[0m\u001b[0m\n\u001b[1;32m     93\u001b[0m             \u001b[0mattr\u001b[0m \u001b[0;34m=\u001b[0m \u001b[0mgetattr\u001b[0m\u001b[0;34m(\u001b[0m\u001b[0mself\u001b[0m\u001b[0;34m,\u001b[0m\u001b[0mself\u001b[0m\u001b[0;34m.\u001b[0m\u001b[0m_default\u001b[0m\u001b[0;34m,\u001b[0m\u001b[0;32mNone\u001b[0m\u001b[0;34m)\u001b[0m\u001b[0;34m\u001b[0m\u001b[0;34m\u001b[0m\u001b[0m\n\u001b[0;32m---> 94\u001b[0;31m             \u001b[0;32mif\u001b[0m \u001b[0mattr\u001b[0m \u001b[0;32mis\u001b[0m \u001b[0;32mnot\u001b[0m \u001b[0;32mNone\u001b[0m\u001b[0;34m:\u001b[0m \u001b[0;32mreturn\u001b[0m \u001b[0mgetattr\u001b[0m\u001b[0;34m(\u001b[0m\u001b[0mattr\u001b[0m\u001b[0;34m,\u001b[0m\u001b[0mk\u001b[0m\u001b[0;34m)\u001b[0m\u001b[0;34m\u001b[0m\u001b[0;34m\u001b[0m\u001b[0m\n\u001b[0m\u001b[1;32m     95\u001b[0m         \u001b[0;32mraise\u001b[0m \u001b[0mAttributeError\u001b[0m\u001b[0;34m(\u001b[0m\u001b[0mk\u001b[0m\u001b[0;34m)\u001b[0m\u001b[0;34m\u001b[0m\u001b[0;34m\u001b[0m\u001b[0m\n\u001b[1;32m     96\u001b[0m     \u001b[0;32mdef\u001b[0m \u001b[0m__dir__\u001b[0m\u001b[0;34m(\u001b[0m\u001b[0mself\u001b[0m\u001b[0;34m)\u001b[0m\u001b[0;34m:\u001b[0m \u001b[0;32mreturn\u001b[0m \u001b[0mcustom_dir\u001b[0m\u001b[0;34m(\u001b[0m\u001b[0mself\u001b[0m\u001b[0;34m,\u001b[0m\u001b[0mself\u001b[0m\u001b[0;34m.\u001b[0m\u001b[0m_dir\u001b[0m\u001b[0;34m(\u001b[0m\u001b[0;34m)\u001b[0m\u001b[0;34m)\u001b[0m\u001b[0;34m\u001b[0m\u001b[0;34m\u001b[0m\u001b[0m\n",
      "\u001b[0;31mAttributeError\u001b[0m: 'Learner' object has no attribute 'plot'"
     ]
    }
   ],
   "source": [
    "learner.recorder.plot()"
   ]
  },
  {
   "cell_type": "code",
   "execution_count": 65,
   "metadata": {},
   "outputs": [
    {
     "name": "stdout",
     "output_type": "stream",
     "text": [
      "Ranger optimizer loaded. \n",
      "Gradient Centralization usage = True\n",
      "GC applied to both conv and fc layers\n",
      "set state called\n"
     ]
    }
   ],
   "source": [
    "learner.export('drqa02.pkl')"
   ]
  },
  {
   "cell_type": "code",
   "execution_count": 99,
   "metadata": {},
   "outputs": [
    {
     "data": {
      "text/html": [],
      "text/plain": [
       "<IPython.core.display.HTML object>"
      ]
     },
     "metadata": {},
     "output_type": "display_data"
    }
   ],
   "source": [
    "o,_ =learner.get_preds(ds_idx=1)\n",
    "labels = np.argmax(o.cpu().numpy(), axis=1) == 1"
   ]
  },
  {
   "cell_type": "code",
   "execution_count": 88,
   "metadata": {},
   "outputs": [
    {
     "name": "stdout",
     "output_type": "stream",
     "text": [
      "tỉ lệ nhãn dự đoán là true\n",
      "0.35112256164887745\n"
     ]
    }
   ],
   "source": [
    "print('tỉ lệ nhãn dự đoán là true')\n",
    "print(np.sum(labels) / labels.shape[0])"
   ]
  },
  {
   "cell_type": "code",
   "execution_count": 58,
   "metadata": {},
   "outputs": [],
   "source": [
    "orig_val = pd.read_csv('dataset/qaset/valid_set.csv')\n",
    "results = pd.DataFrame({'Question': orig_val['question'], 'Text': orig_val['text'], 'Pred': labels,'True Label': orig_val['label']})"
   ]
  },
  {
   "cell_type": "code",
   "execution_count": 97,
   "metadata": {},
   "outputs": [
    {
     "data": {
      "text/html": [
       "<div>\n",
       "<style scoped>\n",
       "    .dataframe tbody tr th:only-of-type {\n",
       "        vertical-align: middle;\n",
       "    }\n",
       "\n",
       "    .dataframe tbody tr th {\n",
       "        vertical-align: top;\n",
       "    }\n",
       "\n",
       "    .dataframe thead th {\n",
       "        text-align: right;\n",
       "    }\n",
       "</style>\n",
       "<table border=\"1\" class=\"dataframe\">\n",
       "  <thead>\n",
       "    <tr style=\"text-align: right;\">\n",
       "      <th></th>\n",
       "      <th>Question</th>\n",
       "      <th>Text</th>\n",
       "      <th>Pred</th>\n",
       "      <th>True Label</th>\n",
       "    </tr>\n",
       "  </thead>\n",
       "  <tbody>\n",
       "    <tr>\n",
       "      <th>1928</th>\n",
       "      <td>Tỉnh Kon Tum có dãy núi nổi tiếng nào</td>\n",
       "      <td>Dãy núi Alpes maritimes là một dãy núi ở phía tây nam của dãy núi Alpes. Dãy núi này làm thành biên giới giữa tỉnh Alpes-Maritimes của Pháp và tỉnh Cuneo của Ý. Đèo Col de Tende chia cách dãy núi này với dãy núi Ligurian Alps; trong khi đèo Maddalena chia cách dãy núi này với dãy núi Cottian Alps. Vườn quốc gia Mercantour của Pháp nằm trong dãy núi này.</td>\n",
       "      <td>True</td>\n",
       "      <td>False</td>\n",
       "    </tr>\n",
       "    <tr>\n",
       "      <th>2649</th>\n",
       "      <td>chủ tịch ủy ban nhân dân hiện tại của tỉnh Gia Lai là người nào</td>\n",
       "      <td>Tỉnh Gia Lai hiện có 4 nhà máy thuỷ điện lớn có công suất lớn hơn 100MW , gồm có Yali , Kanak-An Khê , Sêsan 3 , và Sêsan 4 .</td>\n",
       "      <td>False</td>\n",
       "      <td>False</td>\n",
       "    </tr>\n",
       "    <tr>\n",
       "      <th>1150</th>\n",
       "      <td>Iran nằm ở khu vực nào</td>\n",
       "      <td>Cuộc Cách mạng năm 1979 dẫn tới việc thành lập nhà nước thần quyền \" Cộng hoà Hồi giáo Iran \" .</td>\n",
       "      <td>False</td>\n",
       "      <td>False</td>\n",
       "    </tr>\n",
       "    <tr>\n",
       "      <th>473</th>\n",
       "      <td>Thủ đô của Myanmar là gì</td>\n",
       "      <td>So với các nước khu vực Đông Nam Á , Myanmar có giá mại dâm tương đối rẻ . Một khu đèn đỏ cũng xuất hiện ở Naypyidaw , thủ đô mới của Myanmar , với những nhà chứa ẩn mình trong các tiệm làm đẹp và các tiệm mát xa thu hút chủ yếu là doanh nhân và nhân viên quân sự .</td>\n",
       "      <td>True</td>\n",
       "      <td>True</td>\n",
       "    </tr>\n",
       "    <tr>\n",
       "      <th>1318</th>\n",
       "      <td>Vai trò của phù dâu và phù rể trong đám cưới</td>\n",
       "      <td>Em gái của cô là phù dâu trong đám cưới của cô với David Leepson trong năm 2012 của cô.</td>\n",
       "      <td>False</td>\n",
       "      <td>False</td>\n",
       "    </tr>\n",
       "  </tbody>\n",
       "</table>\n",
       "</div>"
      ],
      "text/plain": [
       "                                                             Question  \\\n",
       "1928                            Tỉnh Kon Tum có dãy núi nổi tiếng nào   \n",
       "2649  chủ tịch ủy ban nhân dân hiện tại của tỉnh Gia Lai là người nào   \n",
       "1150                                           Iran nằm ở khu vực nào   \n",
       "473                                          Thủ đô của Myanmar là gì   \n",
       "1318                     Vai trò của phù dâu và phù rể trong đám cưới   \n",
       "\n",
       "                                                                                                                                                                                                                                                                                                                                                                     Text  \\\n",
       "1928  Dãy núi Alpes maritimes là một dãy núi ở phía tây nam của dãy núi Alpes. Dãy núi này làm thành biên giới giữa tỉnh Alpes-Maritimes của Pháp và tỉnh Cuneo của Ý. Đèo Col de Tende chia cách dãy núi này với dãy núi Ligurian Alps; trong khi đèo Maddalena chia cách dãy núi này với dãy núi Cottian Alps. Vườn quốc gia Mercantour của Pháp nằm trong dãy núi này.   \n",
       "2649                                                                                                                                                                                                                                        Tỉnh Gia Lai hiện có 4 nhà máy thuỷ điện lớn có công suất lớn hơn 100MW , gồm có Yali , Kanak-An Khê , Sêsan 3 , và Sêsan 4 .   \n",
       "1150                                                                                                                                                                                                                                                                      Cuộc Cách mạng năm 1979 dẫn tới việc thành lập nhà nước thần quyền \" Cộng hoà Hồi giáo Iran \" .   \n",
       "473                                                                                             So với các nước khu vực Đông Nam Á , Myanmar có giá mại dâm tương đối rẻ . Một khu đèn đỏ cũng xuất hiện ở Naypyidaw , thủ đô mới của Myanmar , với những nhà chứa ẩn mình trong các tiệm làm đẹp và các tiệm mát xa thu hút chủ yếu là doanh nhân và nhân viên quân sự .   \n",
       "1318                                                                                                                                                                                                                                                                              Em gái của cô là phù dâu trong đám cưới của cô với David Leepson trong năm 2012 của cô.   \n",
       "\n",
       "       Pred  True Label  \n",
       "1928   True       False  \n",
       "2649  False       False  \n",
       "1150  False       False  \n",
       "473    True        True  \n",
       "1318  False       False  "
      ]
     },
     "execution_count": 97,
     "metadata": {},
     "output_type": "execute_result"
    }
   ],
   "source": [
    "results.sample(frac=1).head(5)"
   ]
  },
  {
   "cell_type": "code",
   "execution_count": 89,
   "metadata": {},
   "outputs": [],
   "source": [
    "wrong = results.loc[results['Pred'] != results['True Label']]"
   ]
  },
  {
   "cell_type": "code",
   "execution_count": 90,
   "metadata": {},
   "outputs": [
    {
     "data": {
      "text/html": [
       "<div>\n",
       "<style scoped>\n",
       "    .dataframe tbody tr th:only-of-type {\n",
       "        vertical-align: middle;\n",
       "    }\n",
       "\n",
       "    .dataframe tbody tr th {\n",
       "        vertical-align: top;\n",
       "    }\n",
       "\n",
       "    .dataframe thead th {\n",
       "        text-align: right;\n",
       "    }\n",
       "</style>\n",
       "<table border=\"1\" class=\"dataframe\">\n",
       "  <thead>\n",
       "    <tr style=\"text-align: right;\">\n",
       "      <th></th>\n",
       "      <th>Question</th>\n",
       "      <th>Text</th>\n",
       "      <th>Pred</th>\n",
       "      <th>True Label</th>\n",
       "    </tr>\n",
       "  </thead>\n",
       "  <tbody>\n",
       "    <tr>\n",
       "      <th>1</th>\n",
       "      <td>Đơn vị tiền tệ của Thái Lan là gì</td>\n",
       "      <td>Cho đến ngày 27 tháng 11 năm 1902, đồng tical đã được cố định trên một cơ sở bạc ròng, với 15 g bạc là 1 bạt. Điều này khiến cho giá trị đơn vị tiền tệ của Thái Lan dễ biến động so với các đồng tiền theo chế độ bản vị vàng. Năm 1857, giá trị của một số đồng tiền bạc nhất định đã được cố định theo quy định của pháp luật, với 1 bạt= 0,6 Straits dollar và 5 bạt = 7 rupee Ấn Độ. Trước năm 1880, tỷ giá hối đoái đã được cố định ở mức 8 bạt một Bảng Anh, song đã tụt xuống 10 bạt một bảng trong thập niên 1880.</td>\n",
       "      <td>False</td>\n",
       "      <td>True</td>\n",
       "    </tr>\n",
       "    <tr>\n",
       "      <th>25</th>\n",
       "      <td>Hoàng đế đầu tiên của Đại Việt từng chọn Huế làm kinh đô</td>\n",
       "      <td>Từ thời các chúa Nguyễn, Huế đã từng được chọn làm thủ phủ xứ Đàng Trong: năm 1635-1687 Nguyễn Phúc Lan, Nguyễn Phúc Tần dựng phủ ở Kim Long; đến thời Nguyễn Phúc Thái, Nguyễn Phúc Khoát đã dời phủ về Phú Xuân trong những năm 1687-1712; 1739-1774. Đến thời Tây Sơn, Huế vẫn được vua Quang Trung chọn làm thành kinh đô cho vương quốc của ông. Năm 1802, khi Nguyễn Phúc Ánh lên ngôi hoàng đế, mở đầu cho vương triều Nguyễn kéo dài suốt 143 năm, một lần nữa lại chọn Huế làm nơi đóng đô.</td>\n",
       "      <td>False</td>\n",
       "      <td>True</td>\n",
       "    </tr>\n",
       "    <tr>\n",
       "      <th>38</th>\n",
       "      <td>Địa danh Mù Cang Chải thuộc tỉnh nào ở Việt Nam</td>\n",
       "      <td>Khao Mang là một xã thuộc huyện Mù Cang Chải, tỉnh Yên Bái, Việt Nam.</td>\n",
       "      <td>False</td>\n",
       "      <td>True</td>\n",
       "    </tr>\n",
       "    <tr>\n",
       "      <th>45</th>\n",
       "      <td>vấn đề tranh chấp các đảo với các nước trong khu vực</td>\n",
       "      <td>Chính phủ Malaysia theo chủ nghĩa thực dụng trong chính sách đối với các tranh chấp lãnh thổ, giải quyết các tranh chấp theo một số phương pháp, chẳng hạn như đưa vụ việc ra Tòa án Công lý Quốc tế. Nhiều quốc gia trong khu vực tranh chấp chủ quyền đối với quần đảo Trường Sa. Brunei và Malaysia vào năm 2008 tuyên bố kết thúc tuyên bố chủ quyền đối với các vùng đất của nhau, và giải quyết các vấn đề liên quan đến biên giới trên biển. Philippines có tuyên bố chủ quyền không thi hành đối với Sabah. Hoạt động cải tạo đất của Singapore gây ra căng thẳng giữa hai bên, và Malaysia cũng có tranh ch...</td>\n",
       "      <td>False</td>\n",
       "      <td>True</td>\n",
       "    </tr>\n",
       "    <tr>\n",
       "      <th>46</th>\n",
       "      <td>Châu Phi chiếm bao nhiêu phần trăm diện tích đất đai Trái Đất</td>\n",
       "      <td>Châu Phi ( hay Phi châu ) là châu lục đứng thứ hai trên thế giới về dân số ( sau châu Á ) , thứ ba về diện tích ( sau châu Á và châu Mỹ ) . Với diện tích khoảng 30.221.532 km2 ( 11.668.599 mi2 ) bao gồm cả các đảo cận kề thì nó chiếm 20,4% tổng diện tích đất đai của Trái Đất .</td>\n",
       "      <td>False</td>\n",
       "      <td>True</td>\n",
       "    </tr>\n",
       "  </tbody>\n",
       "</table>\n",
       "</div>"
      ],
      "text/plain": [
       "                                                         Question  \\\n",
       "1                               Đơn vị tiền tệ của Thái Lan là gì   \n",
       "25       Hoàng đế đầu tiên của Đại Việt từng chọn Huế làm kinh đô   \n",
       "38                Địa danh Mù Cang Chải thuộc tỉnh nào ở Việt Nam   \n",
       "45           vấn đề tranh chấp các đảo với các nước trong khu vực   \n",
       "46  Châu Phi chiếm bao nhiêu phần trăm diện tích đất đai Trái Đất   \n",
       "\n",
       "                                                                                                                                                                                                                                                                                                                                                                                                                                                                                                                                                                                                                       Text  \\\n",
       "1                                                                                               Cho đến ngày 27 tháng 11 năm 1902, đồng tical đã được cố định trên một cơ sở bạc ròng, với 15 g bạc là 1 bạt. Điều này khiến cho giá trị đơn vị tiền tệ của Thái Lan dễ biến động so với các đồng tiền theo chế độ bản vị vàng. Năm 1857, giá trị của một số đồng tiền bạc nhất định đã được cố định theo quy định của pháp luật, với 1 bạt= 0,6 Straits dollar và 5 bạt = 7 rupee Ấn Độ. Trước năm 1880, tỷ giá hối đoái đã được cố định ở mức 8 bạt một Bảng Anh, song đã tụt xuống 10 bạt một bảng trong thập niên 1880.   \n",
       "25                                                                                                                     Từ thời các chúa Nguyễn, Huế đã từng được chọn làm thủ phủ xứ Đàng Trong: năm 1635-1687 Nguyễn Phúc Lan, Nguyễn Phúc Tần dựng phủ ở Kim Long; đến thời Nguyễn Phúc Thái, Nguyễn Phúc Khoát đã dời phủ về Phú Xuân trong những năm 1687-1712; 1739-1774. Đến thời Tây Sơn, Huế vẫn được vua Quang Trung chọn làm thành kinh đô cho vương quốc của ông. Năm 1802, khi Nguyễn Phúc Ánh lên ngôi hoàng đế, mở đầu cho vương triều Nguyễn kéo dài suốt 143 năm, một lần nữa lại chọn Huế làm nơi đóng đô.   \n",
       "38                                                                                                                                                                                                                                                                                                                                                                                                                                                                                                                                                    Khao Mang là một xã thuộc huyện Mù Cang Chải, tỉnh Yên Bái, Việt Nam.   \n",
       "45  Chính phủ Malaysia theo chủ nghĩa thực dụng trong chính sách đối với các tranh chấp lãnh thổ, giải quyết các tranh chấp theo một số phương pháp, chẳng hạn như đưa vụ việc ra Tòa án Công lý Quốc tế. Nhiều quốc gia trong khu vực tranh chấp chủ quyền đối với quần đảo Trường Sa. Brunei và Malaysia vào năm 2008 tuyên bố kết thúc tuyên bố chủ quyền đối với các vùng đất của nhau, và giải quyết các vấn đề liên quan đến biên giới trên biển. Philippines có tuyên bố chủ quyền không thi hành đối với Sabah. Hoạt động cải tạo đất của Singapore gây ra căng thẳng giữa hai bên, và Malaysia cũng có tranh ch...   \n",
       "46                                                                                                                                                                                                                                                                                                                                    Châu Phi ( hay Phi châu ) là châu lục đứng thứ hai trên thế giới về dân số ( sau châu Á ) , thứ ba về diện tích ( sau châu Á và châu Mỹ ) . Với diện tích khoảng 30.221.532 km2 ( 11.668.599 mi2 ) bao gồm cả các đảo cận kề thì nó chiếm 20,4% tổng diện tích đất đai của Trái Đất .   \n",
       "\n",
       "     Pred  True Label  \n",
       "1   False        True  \n",
       "25  False        True  \n",
       "38  False        True  \n",
       "45  False        True  \n",
       "46  False        True  "
      ]
     },
     "execution_count": 90,
     "metadata": {},
     "output_type": "execute_result"
    }
   ],
   "source": [
    "wrong.head(5)"
   ]
  },
  {
   "cell_type": "code",
   "execution_count": 84,
   "metadata": {},
   "outputs": [
    {
     "data": {
      "text/plain": [
       "241"
      ]
     },
     "execution_count": 84,
     "metadata": {},
     "output_type": "execute_result"
    }
   ],
   "source": [
    "len(wrong_idx)"
   ]
  },
  {
   "cell_type": "code",
   "execution_count": 82,
   "metadata": {},
   "outputs": [],
   "source": [
    "\n"
   ]
  },
  {
   "cell_type": "code",
   "execution_count": 83,
   "metadata": {},
   "outputs": [
    {
     "data": {
      "text/html": [
       "<div>\n",
       "<style scoped>\n",
       "    .dataframe tbody tr th:only-of-type {\n",
       "        vertical-align: middle;\n",
       "    }\n",
       "\n",
       "    .dataframe tbody tr th {\n",
       "        vertical-align: top;\n",
       "    }\n",
       "\n",
       "    .dataframe thead th {\n",
       "        text-align: right;\n",
       "    }\n",
       "</style>\n",
       "<table border=\"1\" class=\"dataframe\">\n",
       "  <thead>\n",
       "    <tr style=\"text-align: right;\">\n",
       "      <th></th>\n",
       "      <th>Question</th>\n",
       "      <th>Text</th>\n",
       "      <th>Pred</th>\n",
       "      <th>True Label</th>\n",
       "    </tr>\n",
       "  </thead>\n",
       "  <tbody>\n",
       "    <tr>\n",
       "      <th>2542</th>\n",
       "      <td>ai là giám đốc công an hiện tại của Hòa Bình</td>\n",
       "      <td>Hệ thống Ứng phó Tình trạng Khẩn cấp đã từng lộ diện để đối phó với Nạn diệt chủng Rwanda vào năm 1994 . Ngày 19 tháng 11 năm 2007 Giám đốc Đoàn Hoà bình là Ronald Tschetter đổi tên Đoàn Khủng hoảng thành Đoàn Hoà bình Ứng phó .</td>\n",
       "      <td>False</td>\n",
       "      <td>False</td>\n",
       "    </tr>\n",
       "    <tr>\n",
       "      <th>1215</th>\n",
       "      <td>Hươu cao cổ sống ở đâu nhiều nhất</td>\n",
       "      <td>Các họ hàng hóa thạch gần nhất của chúng bao gồm họ Palaeomerycidae và họ Climacoceratidae trông tương tự như hươu, nhiều chi của họ thứ hai từng có thời được nhận dạng thành hươu cao cổ.</td>\n",
       "      <td>False</td>\n",
       "      <td>False</td>\n",
       "    </tr>\n",
       "    <tr>\n",
       "      <th>1889</th>\n",
       "      <td>Tỉnh Kon Tum có dãy núi nổi tiếng nào</td>\n",
       "      <td>Bayankhongor có hai rặng núi chính, dãy núi Khangai ở phía bắc và dãy núi Altay ở khu vự trung tâm. Ikh Bogd là ngọn núi cao nhất trong tỉnh với 3957 mét, là một phần của dãy Altai và nằm tại sum Bogd.</td>\n",
       "      <td>True</td>\n",
       "      <td>False</td>\n",
       "    </tr>\n",
       "    <tr>\n",
       "      <th>2254</th>\n",
       "      <td>châu Á có bao nhiêu quốc gia và vùng lãnh thổ</td>\n",
       "      <td>Đại hội Thể thao Trong nhà châu Á 2009 lần thứ 3 được tổ chức tại Hà Nội và một số địa phương khác của Việt Nam từ ngày 30 tháng 10 đến 8 tháng 11 năm 2009. Đại hội có 21 môn thi đấu, với 219 bộ huy chương để các vận động viên của 43 quốc gia và vùng lãnh thổ ở châu Á tranh tài.</td>\n",
       "      <td>False</td>\n",
       "      <td>False</td>\n",
       "    </tr>\n",
       "    <tr>\n",
       "      <th>429</th>\n",
       "      <td>Bà Nguyễn Thị Duệ đã dạy học ở đâu</td>\n",
       "      <td>Phủ chúa Trịnh Cảm phục tài năng của bà, vua Mạc không những không trách tội mà còn phong làm Tinh phi. Sau khi nhà Mạc sụp đổ, bà được chúa Trịnh mời vào dạy học trong phủ chúa.</td>\n",
       "      <td>True</td>\n",
       "      <td>True</td>\n",
       "    </tr>\n",
       "    <tr>\n",
       "      <th>979</th>\n",
       "      <td>Sa mạc Sahara ở đâu</td>\n",
       "      <td>Kiến bạc Sahara (Danh pháp khoa học: Cataglyphis bombycina) là một loài kiến trong họ Formicidae sống ở sa mạc Sahara. Chúng là một động vật sa mạc, cái nắng, cái nóng thiêu như đốt ở sa mạc không ảnh hướng tới chúng do chúng có cấu tạo đặc biệt.</td>\n",
       "      <td>False</td>\n",
       "      <td>False</td>\n",
       "    </tr>\n",
       "    <tr>\n",
       "      <th>806</th>\n",
       "      <td>Hội nghị Potsdam diễn ra vào ngày tháng năm nào</td>\n",
       "      <td>Hội nghị Potsdam được tổ chức ở Cecilienhof, cung điện của thái tử Wilhelm Hohenzollern, tại Potsdam, Đức từ 16 tháng 7 đến 2 tháng 8 năm 1945. Các quốc gia tham dự hội nghị là Liên bang Xô Viết, Anh và Mỹ. Đại diện của ba quốc gia gồm có tổng bí thư đảng cộng sản Liên Xô Joseph Stalin, thủ tướng Anh Winston Churchill người sau đó được thay bởi Clement Attlee, và tổng thống Mỹ Harry S. Truman. Stalin, Churchill và Truman - cũng như Atlee, người thay thế Churchill làm thủ tướng Anh sau khi đảng Lao động giành chiến thắng trước đảng Bảo Thủ trong cuộc bầu cử năm 1945 - đã nhóm họp để thống n...</td>\n",
       "      <td>True</td>\n",
       "      <td>True</td>\n",
       "    </tr>\n",
       "    <tr>\n",
       "      <th>850</th>\n",
       "      <td>Trần Trinh Huy chết năm bao nhiêu</td>\n",
       "      <td>Ông mất vào tháng 1 năm 1974 ở Sài Gòn và được đưa về an táng trong phần mộ gia đình tại ấp Cái Dầy , xã Châu Hưng , huyện Vĩnh Lợi , Bạc Liêu . Ba Huy mất sau khi hoang phí gần hết gia sản , chỉ để lại cho các con mấy căn phố lầu .</td>\n",
       "      <td>True</td>\n",
       "      <td>True</td>\n",
       "    </tr>\n",
       "    <tr>\n",
       "      <th>406</th>\n",
       "      <td>Hiện nay đã phát hiện bao nhiêu loại ung thư</td>\n",
       "      <td>Hiện có khoảng 200 loại ung thư. Không phải tất cả các khối u là ung thư ngoài ra còn có khối u lành tính không lan sang các bộ phận khác của cơ thể. Có thể dấu hiệu và triệu chứng bao gồm một khối u, chảy máu bất thường, ho kéo dài, không giải thích được, giảm cân , và một sự thay đổi trong đại tiểu tiện. Hiện nay có khoảng hơn 100 bệnh ung thư.</td>\n",
       "      <td>True</td>\n",
       "      <td>True</td>\n",
       "    </tr>\n",
       "    <tr>\n",
       "      <th>1904</th>\n",
       "      <td>Trận đấu bóng đá quốc tế đầu tiên trên thế giới diễn ra vào năm bao nhiêu</td>\n",
       "      <td>Cơ quan quản lý bóng đá thế giới , FIFA ( Fédération Internationale de Football Association , Liên đoàn bóng đá quốc tế ) được thành lập vào năm 1904 tại Paris với chủ tịch đầu tiên là ông Robert Guérin , một người Pháp , ngay từ khi thành lập FIFA đã tuyên bố sử dụng và tôn trọng bộ luật bóng đá do FA đưa ra .</td>\n",
       "      <td>True</td>\n",
       "      <td>False</td>\n",
       "    </tr>\n",
       "  </tbody>\n",
       "</table>\n",
       "</div>"
      ],
      "text/plain": [
       "                                                                       Question  \\\n",
       "2542                               ai là giám đốc công an hiện tại của Hòa Bình   \n",
       "1215                                          Hươu cao cổ sống ở đâu nhiều nhất   \n",
       "1889                                      Tỉnh Kon Tum có dãy núi nổi tiếng nào   \n",
       "2254                              châu Á có bao nhiêu quốc gia và vùng lãnh thổ   \n",
       "429                                          Bà Nguyễn Thị Duệ đã dạy học ở đâu   \n",
       "979                                                         Sa mạc Sahara ở đâu   \n",
       "806                             Hội nghị Potsdam diễn ra vào ngày tháng năm nào   \n",
       "850                                           Trần Trinh Huy chết năm bao nhiêu   \n",
       "406                                Hiện nay đã phát hiện bao nhiêu loại ung thư   \n",
       "1904  Trận đấu bóng đá quốc tế đầu tiên trên thế giới diễn ra vào năm bao nhiêu   \n",
       "\n",
       "                                                                                                                                                                                                                                                                                                                                                                                                                                                                                                                                                                                                                         Text  \\\n",
       "2542                                                                                                                                                                                                                                                                                                                                                                                     Hệ thống Ứng phó Tình trạng Khẩn cấp đã từng lộ diện để đối phó với Nạn diệt chủng Rwanda vào năm 1994 . Ngày 19 tháng 11 năm 2007 Giám đốc Đoàn Hoà bình là Ronald Tschetter đổi tên Đoàn Khủng hoảng thành Đoàn Hoà bình Ứng phó .   \n",
       "1215                                                                                                                                                                                                                                                                                                                                                                                                                              Các họ hàng hóa thạch gần nhất của chúng bao gồm họ Palaeomerycidae và họ Climacoceratidae trông tương tự như hươu, nhiều chi của họ thứ hai từng có thời được nhận dạng thành hươu cao cổ.   \n",
       "1889                                                                                                                                                                                                                                                                                                                                                                                                                Bayankhongor có hai rặng núi chính, dãy núi Khangai ở phía bắc và dãy núi Altay ở khu vự trung tâm. Ikh Bogd là ngọn núi cao nhất trong tỉnh với 3957 mét, là một phần của dãy Altai và nằm tại sum Bogd.   \n",
       "2254                                                                                                                                                                                                                                                                                                                                  Đại hội Thể thao Trong nhà châu Á 2009 lần thứ 3 được tổ chức tại Hà Nội và một số địa phương khác của Việt Nam từ ngày 30 tháng 10 đến 8 tháng 11 năm 2009. Đại hội có 21 môn thi đấu, với 219 bộ huy chương để các vận động viên của 43 quốc gia và vùng lãnh thổ ở châu Á tranh tài.   \n",
       "429                                                                                                                                                                                                                                                                                                                                                                                                                                        Phủ chúa Trịnh Cảm phục tài năng của bà, vua Mạc không những không trách tội mà còn phong làm Tinh phi. Sau khi nhà Mạc sụp đổ, bà được chúa Trịnh mời vào dạy học trong phủ chúa.   \n",
       "979                                                                                                                                                                                                                                                                                                                                                                    Kiến bạc Sahara (Danh pháp khoa học: Cataglyphis bombycina) là một loài kiến trong họ Formicidae sống ở sa mạc Sahara. Chúng là một động vật sa mạc, cái nắng, cái nóng thiêu như đốt ở sa mạc không ảnh hướng tới chúng do chúng có cấu tạo đặc biệt.   \n",
       "806   Hội nghị Potsdam được tổ chức ở Cecilienhof, cung điện của thái tử Wilhelm Hohenzollern, tại Potsdam, Đức từ 16 tháng 7 đến 2 tháng 8 năm 1945. Các quốc gia tham dự hội nghị là Liên bang Xô Viết, Anh và Mỹ. Đại diện của ba quốc gia gồm có tổng bí thư đảng cộng sản Liên Xô Joseph Stalin, thủ tướng Anh Winston Churchill người sau đó được thay bởi Clement Attlee, và tổng thống Mỹ Harry S. Truman. Stalin, Churchill và Truman - cũng như Atlee, người thay thế Churchill làm thủ tướng Anh sau khi đảng Lao động giành chiến thắng trước đảng Bảo Thủ trong cuộc bầu cử năm 1945 - đã nhóm họp để thống n...   \n",
       "850                                                                                                                                                                                                                                                                                                                                                                                  Ông mất vào tháng 1 năm 1974 ở Sài Gòn và được đưa về an táng trong phần mộ gia đình tại ấp Cái Dầy , xã Châu Hưng , huyện Vĩnh Lợi , Bạc Liêu . Ba Huy mất sau khi hoang phí gần hết gia sản , chỉ để lại cho các con mấy căn phố lầu .   \n",
       "406                                                                                                                                                                                                                                                              Hiện có khoảng 200 loại ung thư. Không phải tất cả các khối u là ung thư ngoài ra còn có khối u lành tính không lan sang các bộ phận khác của cơ thể. Có thể dấu hiệu và triệu chứng bao gồm một khối u, chảy máu bất thường, ho kéo dài, không giải thích được, giảm cân , và một sự thay đổi trong đại tiểu tiện. Hiện nay có khoảng hơn 100 bệnh ung thư.   \n",
       "1904                                                                                                                                                                                                                                                                                                 Cơ quan quản lý bóng đá thế giới , FIFA ( Fédération Internationale de Football Association , Liên đoàn bóng đá quốc tế ) được thành lập vào năm 1904 tại Paris với chủ tịch đầu tiên là ông Robert Guérin , một người Pháp , ngay từ khi thành lập FIFA đã tuyên bố sử dụng và tôn trọng bộ luật bóng đá do FA đưa ra .   \n",
       "\n",
       "       Pred  True Label  \n",
       "2542  False       False  \n",
       "1215  False       False  \n",
       "1889   True       False  \n",
       "2254  False       False  \n",
       "429    True        True  \n",
       "979   False       False  \n",
       "806    True        True  \n",
       "850    True        True  \n",
       "406    True        True  \n",
       "1904   True       False  "
      ]
     },
     "execution_count": 83,
     "metadata": {},
     "output_type": "execute_result"
    }
   ],
   "source": [
    "results.sample(frac=1).head(10)"
   ]
  },
  {
   "cell_type": "code",
   "execution_count": null,
   "metadata": {},
   "outputs": [],
   "source": []
  }
 ],
 "metadata": {
  "kernelspec": {
   "display_name": "Python 3",
   "language": "python",
   "name": "python3"
  },
  "language_info": {
   "codemirror_mode": {
    "name": "ipython",
    "version": 3
   },
   "file_extension": ".py",
   "mimetype": "text/x-python",
   "name": "python",
   "nbconvert_exporter": "python",
   "pygments_lexer": "ipython3",
   "version": "3.8.3"
  }
 },
 "nbformat": 4,
 "nbformat_minor": 4
}
