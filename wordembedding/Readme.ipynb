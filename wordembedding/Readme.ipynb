{
 "metadata": {
  "language_info": {
   "codemirror_mode": {
    "name": "ipython",
    "version": 3
   },
   "file_extension": ".py",
   "mimetype": "text/x-python",
   "name": "python",
   "nbconvert_exporter": "python",
   "pygments_lexer": "ipython3",
   "version": "3.8.3-final"
  },
  "orig_nbformat": 2,
  "kernelspec": {
   "name": "python3",
   "display_name": "Python 3"
  }
 },
 "nbformat": 4,
 "nbformat_minor": 2,
 "cells": [
  {
   "cell_type": "code",
   "execution_count": 1,
   "metadata": {},
   "outputs": [
    {
     "output_type": "execute_result",
     "data": {
      "text/plain": [
       "'/home/hnigeouc/Workspace/QASystem/Final'"
      ]
     },
     "metadata": {},
     "execution_count": 1
    }
   ],
   "source": [
    "import os\n",
    "os.chdir('..')\n",
    "os.getcwd()"
   ]
  },
  {
   "cell_type": "code",
   "execution_count": 12,
   "metadata": {},
   "outputs": [],
   "source": [
    "from wordembedding.trainer import *\n",
    "from gensim.models.fasttext import FastText\n",
    "from gensim.models.keyedvectors import KeyedVectors"
   ]
  },
  {
   "cell_type": "code",
   "execution_count": 17,
   "metadata": {},
   "outputs": [],
   "source": [
    "pre_wv = KeyedVectors.load_word2vec_format('wordembedding/pretrain_models/fasttext/02/FastText_ner.vec')"
   ]
  },
  {
   "cell_type": "code",
   "execution_count": 19,
   "metadata": {},
   "outputs": [
    {
     "output_type": "stream",
     "name": "stdout",
     "text": [
      "trai\ngái\ncon_nhỏ\nút\nđầu_lòng\nđứa\ncon_cả\ncháu\ncháu_đích_tôn\ntrưởng_thành\n"
     ]
    }
   ],
   "source": [
    "for word in pre_wv.wv.most_similar(\"con\"):\n",
    "    print(word[0])"
   ]
  },
  {
   "cell_type": "code",
   "execution_count": null,
   "metadata": {},
   "outputs": [],
   "source": [
    "words = \"\"\"tôi\n",
    "em\n",
    "giàu_sang\n",
    "phụ_nữ\n",
    "con_gái\n",
    "đàn_ông\n",
    "con_trai\n",
    "tiền_bạc\n",
    "thời_gian\n",
    "2013\n",
    "2014\n",
    "2015\n",
    "21312\"\"\".split('\\n')"
   ]
  }
 ]
}