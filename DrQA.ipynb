{
 "cells": [
  {
   "cell_type": "code",
   "execution_count": 1,
   "metadata": {},
   "outputs": [],
   "source": [
    "from argparse import ArgumentParser\n",
    "from datetime import datetime\n",
    "from typing import Optional\n",
    "import numpy as np\n",
    "import pytorch_lightning as pl\n",
    "import torch\n",
    "from torch import nn\n",
    "from torch.nn import CrossEntropyLoss\n",
    "from torch.utils.data import DataLoader\n",
    "from torch.utils.data.sampler import Sampler\n",
    "import torch.nn.functional as F\n",
    "import pandas as pd\n",
    "\n",
    "#Data\n",
    "from readers.data import GensimDataModule, W2VVocab, ReaderVocab\n",
    "\n",
    "#Model\n",
    "from gensim.models import KeyedVectors\n",
    "from readers.DrQA.config import add_model_args\n",
    "from readers import modules as reader_module\n",
    "from readers.DrQA.lightningmodule import DrQA\n",
    "\n",
    "from readers.DrQA import config as DrQAConfig\n",
    "\n",
    "#Optim\n",
    "from torch.optim import AdamW\n",
    "\n",
    "# Logger\n",
    "from pytorch_lightning.loggers import TensorBoardLogger\n",
    "from pytorch_lightning.callbacks import ModelCheckpoint\n",
    "\n",
    "# Metrics\n",
    "from pytorch_lightning.metrics.classification import F1\n",
    "from pytorch_lightning.metrics import Accuracy"
   ]
  },
  {
   "cell_type": "markdown",
   "metadata": {},
   "source": [
    "# Config"
   ]
  },
  {
   "cell_type": "markdown",
   "metadata": {},
   "source": [
    "Chỉnh sửa config `--question-merge-self-attn` thành `n` để không dùng self attn ở trên bilstm.  \n",
    "Chỉnh sửa config `--num-attn-head` thành `0` để không dùng encodemodule khi attent giữa question và context trước khi đưa vào rnn"
   ]
  },
  {
   "cell_type": "code",
   "execution_count": 2,
   "metadata": {},
   "outputs": [
    {
     "data": {
      "text/plain": [
       "42"
      ]
     },
     "execution_count": 2,
     "metadata": {},
     "output_type": "execute_result"
    }
   ],
   "source": [
    "def parse_args(args=None):\n",
    "    parser = ArgumentParser()\n",
    "    parser = pl.Trainer.add_argparse_args(parser)\n",
    "    parser = GensimDataModule.add_argparse_args(parser)\n",
    "    parser = DrQA.add_model_specific_args(parser)\n",
    "    parser.add_argument('--seed', type=int, default=42)\n",
    "    return parser.parse_args(args)\n",
    "\n",
    "mocked_args = \"\"\"\n",
    "    --hidden-size 300\n",
    "    --num-features 2\n",
    "    --embedding-dim 300\n",
    "    --context-layers 3\n",
    "    --question-layers 2\n",
    "    --concat-rnn-layers y\n",
    "    --question-merge-self-attn n\n",
    "    --rnn-type lstm\n",
    "    --num-attn-head 4\n",
    "    --dropout-rnn 0.2\n",
    "    --dropout-emb 0.1\n",
    "    --layernorm-emb y\n",
    "    --dropout-rnn-output n\n",
    "    --max_epochs 20\n",
    "    --gpus 1\n",
    "    --learning-rate 0.001\n",
    "    --adam-epsilon 1e-8\n",
    "    --weight-decay 1e-1\n",
    "    --warmup-steps 40\n",
    "    --max_seq_length 200\n",
    "    --train_batch_size 64\n",
    "    --eval_batch_size 64\"\"\".split()\n",
    "\n",
    "args = parse_args(mocked_args)\n",
    "pl.seed_everything(args.seed)"
   ]
  },
  {
   "cell_type": "markdown",
   "metadata": {},
   "source": [
    "# Prepare Word Embedding"
   ]
  },
  {
   "cell_type": "code",
   "execution_count": 3,
   "metadata": {},
   "outputs": [],
   "source": [
    "wv_path = 'wordembedding/pretrain_models/word2vec/baomoi.window2.vn.model.bin'\n",
    "wv = KeyedVectors.load_word2vec_format(wv_path,binary=True)\n",
    "vocab = W2VVocab(['<unk>', '<pad>', '<cls>'], 0, 1, wv)\n",
    "ner_vocab = ReaderVocab.from_file('dataset/vocabs/train_feat_ner_vocab.txt')\n",
    "ner_vocab.UNK='<unk>'\n",
    "pos_vocab = ReaderVocab.from_file('dataset/vocabs/train_feat_pos_vocab.txt')\n",
    "pos_vocab.UNK='<unk>'\n",
    "w_in_train = []\n",
    "with open('dataset/vocabs/zlqa_token_list.txt', 'r') as f:\n",
    "    while True:\n",
    "        line = f.readline()\n",
    "        if not line:\n",
    "            break\n",
    "        w_in_train.append(line.split(' ')[-1][:-1].lower())"
   ]
  },
  {
   "cell_type": "markdown",
   "metadata": {},
   "source": [
    "# Prepare Dataset"
   ]
  },
  {
   "cell_type": "code",
   "execution_count": 4,
   "metadata": {},
   "outputs": [],
   "source": [
    "BASE_DATASET_DIR = \"dataset/qaset\"\n",
    "NORM_DATASET_DIR = \"dataset/qaset/normset/set1\""
   ]
  },
  {
   "cell_type": "code",
   "execution_count": 5,
   "metadata": {},
   "outputs": [],
   "source": [
    "train_df = pd.read_csv(f'{NORM_DATASET_DIR}/train_filted_feature.csv').sample(frac=1).reset_index(drop=True)\n",
    "aug_df = pd.read_csv(f'{NORM_DATASET_DIR}/train_filted_feature.csv').sample(frac=1).reset_index(drop=True)\n",
    "valid_df = pd.read_csv(f'{NORM_DATASET_DIR}/valid_filted_feature.csv').sample(frac=1).reset_index(drop=True)\n",
    "test_df = pd.read_csv(f'{NORM_DATASET_DIR}/test_filted_feature.csv').sample(frac=1).reset_index(drop=True)"
   ]
  },
  {
   "cell_type": "code",
   "execution_count": 6,
   "metadata": {},
   "outputs": [
    {
     "name": "stdout",
     "output_type": "stream",
     "text": [
      "len aug 12676\n"
     ]
    }
   ],
   "source": [
    "dm = GensimDataModule.from_argparse_args(args,vocab=vocab,pos_vocab=pos_vocab, ner_vocab=ner_vocab)\n",
    "dm.prepare_data()\n",
    "# dm.setup('fit', [train_df, valid_df, aug_df)])\n",
    "dm.setup('fit', train_df, valid_df, test_df=test_df, aug_df=aug_df)"
   ]
  },
  {
   "cell_type": "code",
   "execution_count": 7,
   "metadata": {
    "scrolled": true
   },
   "outputs": [
    {
     "data": {
      "text/plain": [
       "397"
      ]
     },
     "execution_count": 7,
     "metadata": {},
     "output_type": "execute_result"
    }
   ],
   "source": [
    "# next(iter(dm.train_dataloader()))\n",
    "len(dm.train_dataloader())"
   ]
  },
  {
   "cell_type": "markdown",
   "metadata": {},
   "source": [
    "# Training"
   ]
  },
  {
   "cell_type": "code",
   "execution_count": 8,
   "metadata": {},
   "outputs": [
    {
     "name": "stdout",
     "output_type": "stream",
     "text": [
      "Loaded 24631 embeddings (100.00%)\n"
     ]
    }
   ],
   "source": [
    "model = DrQA(vocab, [len(pos_vocab), len(ner_vocab)], **vars(args))\n",
    "model.embedding.load_embeddings(w_in_train, wv)"
   ]
  },
  {
   "cell_type": "code",
   "execution_count": 9,
   "metadata": {
    "scrolled": true
   },
   "outputs": [
    {
     "name": "stdout",
     "output_type": "stream",
     "text": [
      "DrQA(\n",
      "  (embedding): EmbeddingModule(\n",
      "    (embedding): Embedding(439057, 300, padding_idx=1)\n",
      "    (layernorm): LayerNorm((300,), eps=1e-05, elementwise_affine=True)\n",
      "    (dropout): Dropout(p=0.1, inplace=False)\n",
      "  )\n",
      "  (embedding_feature): ModuleList(\n",
      "    (0): Embedding(29, 1, padding_idx=1)\n",
      "    (1): Embedding(12, 1, padding_idx=1)\n",
      "  )\n",
      "  (network): RnnDocReader(\n",
      "    (qemb_match): EncodeModule(\n",
      "      (linear1): Linear(in_features=302, out_features=604, bias=True)\n",
      "      (linear2): Linear(in_features=604, out_features=302, bias=True)\n",
      "      (norm1): LayerNorm((302,), eps=1e-05, elementwise_affine=True)\n",
      "      (norm2): LayerNorm((302,), eps=1e-05, elementwise_affine=True)\n",
      "      (dropout): Dropout(p=0.1, inplace=False)\n",
      "      (mul_head): Multihead(\n",
      "        (proj_Q): LinearWithChannel()\n",
      "        (proj_K): LinearWithChannel()\n",
      "        (proj_V): LinearWithChannel()\n",
      "        (linear_out): Linear(in_features=1208, out_features=302, bias=True)\n",
      "      )\n",
      "    )\n",
      "    (context_rnn): CustomBRNN(\n",
      "      (rnns): ModuleList(\n",
      "        (0): BRNNBlock(\n",
      "          (rnn): LSTM(604, 300, bidirectional=True)\n",
      "          (dropout): Dropout(p=0.2, inplace=False)\n",
      "        )\n",
      "        (1): BRNNBlock(\n",
      "          (rnn): LSTM(600, 300, bidirectional=True)\n",
      "          (dropout): Dropout(p=0.2, inplace=False)\n",
      "        )\n",
      "        (2): BRNNBlock(\n",
      "          (rnn): LSTM(600, 300, bidirectional=True)\n",
      "          (dropout): Dropout(p=0.2, inplace=False)\n",
      "        )\n",
      "      )\n",
      "    )\n",
      "    (question_rnn): CustomBRNN(\n",
      "      (rnns): ModuleList(\n",
      "        (0): BRNNBlock(\n",
      "          (rnn): LSTM(302, 300, bidirectional=True)\n",
      "          (dropout): Dropout(p=0.2, inplace=False)\n",
      "        )\n",
      "        (1): BRNNBlock(\n",
      "          (rnn): LSTM(600, 300, bidirectional=True)\n",
      "          (dropout): Dropout(p=0.2, inplace=False)\n",
      "        )\n",
      "      )\n",
      "    )\n",
      "    (q_merge): LinearSeqAttn(\n",
      "      (linear): Linear(in_features=1200, out_features=1, bias=True)\n",
      "    )\n",
      "    (context_attn): BilinearSeqAttn(\n",
      "      (linear): Linear(in_features=1200, out_features=1800, bias=True)\n",
      "    )\n",
      "    (out): Linear(in_features=1800, out_features=2, bias=True)\n",
      "  )\n",
      "  (loss_fct): CrossEntropyLoss()\n",
      "  (train_acc): Accuracy()\n",
      "  (valid_acc): Accuracy()\n",
      "  (train_f1): F1()\n",
      "  (valid_f1): F1()\n",
      ")\n"
     ]
    }
   ],
   "source": [
    "print(model)"
   ]
  },
  {
   "cell_type": "code",
   "execution_count": 10,
   "metadata": {},
   "outputs": [],
   "source": [
    "logger = TensorBoardLogger('tb_logs', name='DrQA01_without_self_attn_above_rnn_aug')"
   ]
  },
  {
   "cell_type": "code",
   "execution_count": 11,
   "metadata": {},
   "outputs": [],
   "source": [
    "checkpoint_callback = ModelCheckpoint(monitor='val_loss', filename='model-{epoch:02d}-{val_loss:.2f}',mode='min')"
   ]
  },
  {
   "cell_type": "code",
   "execution_count": 12,
   "metadata": {},
   "outputs": [
    {
     "name": "stderr",
     "output_type": "stream",
     "text": [
      "GPU available: True, used: True\n",
      "TPU available: None, using: 0 TPU cores\n",
      "LOCAL_RANK: 0 - CUDA_VISIBLE_DEVICES: [0]\n"
     ]
    }
   ],
   "source": [
    "trainer = pl.Trainer.from_argparse_args(args, logger=logger, auto_lr_find=True, callbacks=[checkpoint_callback])"
   ]
  },
  {
   "cell_type": "code",
   "execution_count": 13,
   "metadata": {},
   "outputs": [
    {
     "name": "stderr",
     "output_type": "stream",
     "text": [
      "/home/user/.local/lib/python3.8/site-packages/pytorch_lightning/utilities/distributed.py:49: UserWarning: you defined a validation_step but have no val_dataloader. Skipping validation loop\n",
      "  warnings.warn(*args, **kwargs)\n",
      "\n",
      "  | Name              | Type             | Params\n",
      "-------------------------------------------------------\n",
      "0 | embedding         | EmbeddingModule  | 131 M \n",
      "1 | embedding_feature | ModuleList       | 41    \n",
      "2 | network           | RnnDocReader     | 14.1 M\n",
      "3 | loss_fct          | CrossEntropyLoss | 0     \n",
      "4 | train_acc         | Accuracy         | 0     \n",
      "5 | valid_acc         | Accuracy         | 0     \n",
      "6 | train_f1          | F1               | 0     \n",
      "7 | valid_f1          | F1               | 0     \n",
      "-------------------------------------------------------\n",
      "145 M     Trainable params\n",
      "0         Non-trainable params\n",
      "145 M     Total params\n"
     ]
    },
    {
     "data": {
      "application/vnd.jupyter.widget-view+json": {
       "model_id": "f5bf69453c374cb48d727c916eb5c3a3",
       "version_major": 2,
       "version_minor": 0
      },
      "text/plain": [
       "HBox(children=(HTML(value='Finding best initial lr'), FloatProgress(value=0.0), HTML(value='')))"
      ]
     },
     "metadata": {},
     "output_type": "display_data"
    },
    {
     "name": "stdout",
     "output_type": "stream",
     "text": [
      "\n"
     ]
    },
    {
     "name": "stderr",
     "output_type": "stream",
     "text": [
      "LR finder stopped early due to diverging loss.\n"
     ]
    },
    {
     "data": {
      "image/png": "[encoded data removed]",
      "text/plain": [
       "<Figure size 432x288 with 1 Axes>"
      ]
     },
     "metadata": {
      "needs_background": "light"
     },
     "output_type": "display_data"
    }
   ],
   "source": [
    "lr_finder = trainer.tuner.lr_find(model, train_dataloader=dm.train_dataloader())\n",
    "fig = lr_finder.plot(suggest=True)\n",
    "fig.show()"
   ]
  },
  {
   "cell_type": "code",
   "execution_count": 14,
   "metadata": {},
   "outputs": [],
   "source": [
    "model.hparams.learning_rate = 3e-3"
   ]
  },
  {
   "cell_type": "code",
   "execution_count": 15,
   "metadata": {},
   "outputs": [
    {
     "name": "stderr",
     "output_type": "stream",
     "text": [
      "\n",
      "  | Name              | Type             | Params\n",
      "-------------------------------------------------------\n",
      "0 | embedding         | EmbeddingModule  | 131 M \n",
      "1 | embedding_feature | ModuleList       | 41    \n",
      "2 | network           | RnnDocReader     | 14.1 M\n",
      "3 | loss_fct          | CrossEntropyLoss | 0     \n",
      "4 | train_acc         | Accuracy         | 0     \n",
      "5 | valid_acc         | Accuracy         | 0     \n",
      "6 | train_f1          | F1               | 0     \n",
      "7 | valid_f1          | F1               | 0     \n",
      "-------------------------------------------------------\n",
      "145 M     Trainable params\n",
      "0         Non-trainable params\n",
      "145 M     Total params\n"
     ]
    },
    {
     "data": {
      "application/vnd.jupyter.widget-view+json": {
       "model_id": "",
       "version_major": 2,
       "version_minor": 0
      },
      "text/plain": [
       "HBox(children=(HTML(value='Validation sanity check'), FloatProgress(value=1.0, bar_style='info', layout=Layout…"
      ]
     },
     "metadata": {},
     "output_type": "display_data"
    },
    {
     "data": {
      "application/vnd.jupyter.widget-view+json": {
       "model_id": "25de594c713041b2a239437d5c939a64",
       "version_major": 2,
       "version_minor": 0
      },
      "text/plain": [
       "HBox(children=(HTML(value='Training'), FloatProgress(value=1.0, bar_style='info', layout=Layout(flex='2'), max…"
      ]
     },
     "metadata": {},
     "output_type": "display_data"
    },
    {
     "data": {
      "application/vnd.jupyter.widget-view+json": {
       "model_id": "",
       "version_major": 2,
       "version_minor": 0
      },
      "text/plain": [
       "HBox(children=(HTML(value='Validating'), FloatProgress(value=1.0, bar_style='info', layout=Layout(flex='2'), m…"
      ]
     },
     "metadata": {},
     "output_type": "display_data"
    },
    {
     "name": "stderr",
     "output_type": "stream",
     "text": [
      "/python/lib/python3.8/site-packages/torch/optim/lr_scheduler.py:216: UserWarning: Please also save or load the state of the optimizer when saving or loading the scheduler.\n",
      "  warnings.warn(SAVE_STATE_WARNING, UserWarning)\n"
     ]
    },
    {
     "data": {
      "application/vnd.jupyter.widget-view+json": {
       "model_id": "",
       "version_major": 2,
       "version_minor": 0
      },
      "text/plain": [
       "HBox(children=(HTML(value='Validating'), FloatProgress(value=1.0, bar_style='info', layout=Layout(flex='2'), m…"
      ]
     },
     "metadata": {},
     "output_type": "display_data"
    },
    {
     "data": {
      "application/vnd.jupyter.widget-view+json": {
       "model_id": "",
       "version_major": 2,
       "version_minor": 0
      },
      "text/plain": [
       "HBox(children=(HTML(value='Validating'), FloatProgress(value=1.0, bar_style='info', layout=Layout(flex='2'), m…"
      ]
     },
     "metadata": {},
     "output_type": "display_data"
    },
    {
     "data": {
      "application/vnd.jupyter.widget-view+json": {
       "model_id": "",
       "version_major": 2,
       "version_minor": 0
      },
      "text/plain": [
       "HBox(children=(HTML(value='Validating'), FloatProgress(value=1.0, bar_style='info', layout=Layout(flex='2'), m…"
      ]
     },
     "metadata": {},
     "output_type": "display_data"
    },
    {
     "data": {
      "application/vnd.jupyter.widget-view+json": {
       "model_id": "",
       "version_major": 2,
       "version_minor": 0
      },
      "text/plain": [
       "HBox(children=(HTML(value='Validating'), FloatProgress(value=1.0, bar_style='info', layout=Layout(flex='2'), m…"
      ]
     },
     "metadata": {},
     "output_type": "display_data"
    },
    {
     "name": "stderr",
     "output_type": "stream",
     "text": [
      "/home/user/.local/lib/python3.8/site-packages/pytorch_lightning/utilities/distributed.py:49: UserWarning: Detected KeyboardInterrupt, attempting graceful shutdown...\n",
      "  warnings.warn(*args, **kwargs)\n"
     ]
    },
    {
     "data": {
      "text/plain": [
       "1"
      ]
     },
     "execution_count": 15,
     "metadata": {},
     "output_type": "execute_result"
    }
   ],
   "source": [
    "trainer.fit(model, dm)"
   ]
  },
  {
   "cell_type": "code",
   "execution_count": null,
   "metadata": {},
   "outputs": [],
   "source": []
  }
 ],
 "metadata": {
  "kernelspec": {
   "display_name": "Python 3",
   "language": "python",
   "name": "python3"
  },
  "language_info": {
   "codemirror_mode": {
    "name": "ipython",
    "version": 3
   },
   "file_extension": ".py",
   "mimetype": "text/x-python",
   "name": "python",
   "nbconvert_exporter": "python",
   "pygments_lexer": "ipython3",
   "version": "3.8.6"
  }
 },
 "nbformat": 4,
 "nbformat_minor": 4
}
