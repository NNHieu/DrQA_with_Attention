{
 "cells": [
  {
   "cell_type": "code",
   "execution_count": null,
   "metadata": {},
   "outputs": [],
   "source": [
    "!pip install fastai"
   ]
  },
  {
   "cell_type": "code",
   "execution_count": 2,
   "metadata": {},
   "outputs": [],
   "source": [
    "from fastai.data.all import *\n",
    "from fastai.text.all import *\n",
    "from torch.utils.data import DataLoader as TorchDataLoader\n",
    "from fastai.callback.all import *\n",
    "from fastai.torch_core import *\n",
    "\n",
    "from readers.DrQA import data, model, module as reader_module\n",
    "from readers.DrQA import config as cfg\n",
    "from gensim.models import KeyedVectors\n",
    "import importlib\n",
    "import numpy as np\n",
    "import pandas as pd\n",
    "\n",
    "from fastaifix.learner import summary\n",
    "\n",
    "from transformers import RobertaForSequenceClassification, RobertaModel, RobertaTokenizer, RobertaConfig\n",
    "# transformers\n",
    "from transformers import PreTrainedModel, PreTrainedTokenizer, PretrainedConfig\n",
    "from transformers import AutoTokenizer\n",
    "\n",
    "from textprocessor.normalization import VncorenlpTokenizer"
   ]
  },
  {
   "cell_type": "code",
   "execution_count": 3,
   "metadata": {},
   "outputs": [
    {
     "data": {
      "text/plain": [
       "<module 'readers.DrQA.module' from '/code/readers/DrQA/module.py'>"
      ]
     },
     "execution_count": 3,
     "metadata": {},
     "output_type": "execute_result"
    }
   ],
   "source": [
    "importlib.reload(data)\n",
    "importlib.reload(cfg)\n",
    "importlib.reload(model)\n",
    "importlib.reload(reader_module)"
   ]
  },
  {
   "cell_type": "code",
   "execution_count": 4,
   "metadata": {},
   "outputs": [],
   "source": [
    "def seed_all(seed_value):\n",
    "    random.seed(seed_value) # Python\n",
    "    np.random.seed(seed_value) # cpu vars\n",
    "    torch.manual_seed(seed_value) # cpu  vars\n",
    "    \n",
    "    if torch.cuda.is_available(): \n",
    "        torch.cuda.manual_seed(seed_value)\n",
    "        torch.cuda.manual_seed_all(seed_value) # gpu vars\n",
    "        torch.backends.cudnn.deterministic = True  #needed\n",
    "        torch.backends.cudnn.benchmark = False"
   ]
  },
  {
   "cell_type": "code",
   "execution_count": 5,
   "metadata": {},
   "outputs": [],
   "source": [
    "seed_all(42)"
   ]
  },
  {
   "cell_type": "code",
   "execution_count": 72,
   "metadata": {},
   "outputs": [],
   "source": [
    "args = cfg.Args()\n",
    "args.weight_decay = 0.001\n",
    "args.max_len = 200\n",
    "args.hidden_size = 300\n",
    "args.context_layers = 2\n",
    "args.question_layers = 2\n",
    "args.concat_rnn_layers = True\n",
    "args.dropout_rnn = 0.2\n",
    "args.dropout_emb = 0\n",
    "args.layernorm_emb = True\n",
    "args.dropout_rnn_output = True\n",
    "args.embedding_dim = 300\n",
    "args.num_features = 2\n",
    "\n",
    "\n",
    "seed = 42\n",
    "use_fp16 = False\n",
    "bs = 32"
   ]
  },
  {
   "cell_type": "code",
   "execution_count": 7,
   "metadata": {},
   "outputs": [
    {
     "name": "stdout",
     "output_type": "stream",
     "text": [
      "0.2\n",
      "lstm\n",
      "self_attn\n",
      "dict_items([('model_type', 'rnn'), ('embedding_dim', 300), ('hidden_size', 600), ('context_layers', 4), ('question_layers', 3), ('rnn_unit_type', 'lstm'), ('concat_rnn_layers', True), ('question_merge', 'self_attn'), ('use_qemb', True), ('rnn_padding', True), ('fix_embeddings', True), ('optimizer', 'adamax'), ('learning_rate', 0.0001), ('momentum', 0), ('dropout_rnn', 0.2), ('dropout_rnn_output', True), ('grad_clipping', True), ('max_len', 200), ('num_features', 2), ('weight_decay', 0.001), ('dropout_emb', 0), ('layernorm_emb', True)])\n"
     ]
    }
   ],
   "source": [
    "print(args.dropout_rnn)\n",
    "print(args.rnn_unit_type)\n",
    "print(args.question_merge)\n",
    "print(args.__dict__.items())"
   ]
  },
  {
   "cell_type": "code",
   "execution_count": 8,
   "metadata": {},
   "outputs": [
    {
     "data": {
      "text/html": [
       "<div>\n",
       "<style scoped>\n",
       "    .dataframe tbody tr th:only-of-type {\n",
       "        vertical-align: middle;\n",
       "    }\n",
       "\n",
       "    .dataframe tbody tr th {\n",
       "        vertical-align: top;\n",
       "    }\n",
       "\n",
       "    .dataframe thead th {\n",
       "        text-align: right;\n",
       "    }\n",
       "</style>\n",
       "<table border=\"1\" class=\"dataframe\">\n",
       "  <thead>\n",
       "    <tr style=\"text-align: right;\">\n",
       "      <th></th>\n",
       "      <th>Unnamed: 0</th>\n",
       "      <th>id</th>\n",
       "      <th>title</th>\n",
       "      <th>label</th>\n",
       "      <th>q_toks</th>\n",
       "      <th>q_pos</th>\n",
       "      <th>q_ner</th>\n",
       "      <th>t_toks</th>\n",
       "      <th>t_pos</th>\n",
       "      <th>t_ner</th>\n",
       "      <th>is_valid</th>\n",
       "    </tr>\n",
       "  </thead>\n",
       "  <tbody>\n",
       "    <tr>\n",
       "      <th>0</th>\n",
       "      <td>13548</td>\n",
       "      <td>u8-1555488942_3</td>\n",
       "      <td>Kerala</td>\n",
       "      <td>False</td>\n",
       "      <td>Nước nào trên thế_giới có độ tuổi trung_bình cao nhất</td>\n",
       "      <td>N P E N V N N A A A</td>\n",
       "      <td>O O O O O O O O O O</td>\n",
       "      <td>Trong các bang của Ấn_Độ , Kerala nổi_bật về mặt nhân_khẩu với một_số đặc_điểm sau : chỉ_số phát_triển con_người ( HDI ) cao nhất , đạt 0,790 năm 2011 ( so với mức trung_bình cả nước 0,513 ) ; tỷ_lệ biết chữ cao nhất , 93,91% năm 2011 ( trung_bình cả nước là 74,04% ) ; tuổi_thọ trung_bình cao nhất , 77 tuổi năm 2004 ( trung_bình cả nước là 63,5 tuổi ) ; và tỷ_lệ giới_tính nữ trên nam_cao nhất , 1084 nữ trên 1000 nam năm 2011 ( trung_bình cả nước là 940 nữ trên 1000 nam ) . Trong thập_niên 1970 và 1980 , kinh_tế các nước Ả_Rập vùng Vịnh phát_triển mạnh đã thu_hút một số_lượng lớn người lao_...</td>\n",
       "      <td>E L N E Np CH Np A E N N E L N N CH N V N CH Ny CH A R CH V M N M CH V E N A P N M CH CH N V N A R CH M N M CH A P N V M CH CH N A A R CH M N N M CH A P N V M N CH CH Cc N N N E N A CH M N E M N N M CH A P N V M N E M N CH CH E N M Cc M CH N L N V N N V A R V M N A N N Np V V L N P CH V E N N N N Np V E N N E N Np E N CH Np V N V R E Np CH N N Np Cc Np CH</td>\n",
       "      <td>O O O O B-LOC O B-LOC O O O O O O O O O O O O O O O O O O O O O O O O O O O O O O O O O O O O O O O O O O O O O O O O O O O O O O O O O O O O O O O O O O O O O O O O O O O O O O O O O O O O O O O O O O O O O O O O O O O O O O O O O O O O O O O O O O O B-LOC O O O O O O O O O O O B-LOC I-LOC O O O O O O B-LOC O O O O O O O O O B-LOC O O O B-ORG O B-ORG O</td>\n",
       "      <td>False</td>\n",
       "    </tr>\n",
       "    <tr>\n",
       "      <th>1</th>\n",
       "      <td>5377</td>\n",
       "      <td>u5-1554270743_2</td>\n",
       "      <td>Chuncheon</td>\n",
       "      <td>False</td>\n",
       "      <td>Đập thuỷ_điện lớn nhất thế_giới tên là gì</td>\n",
       "      <td>V N A A N N V P</td>\n",
       "      <td>O O O O O O O O</td>\n",
       "      <td>Có những nhà_máy thuỷ_điện ở khu_vực xung_quanh Chuncheon . Đập_Soyang là đập cát lớn nhất ở Đông_Á</td>\n",
       "      <td>V L N N E N N Np CH N V V N A A E Np</td>\n",
       "      <td>O O O O O O O B-LOC O O O O O O O O B-LOC</td>\n",
       "      <td>False</td>\n",
       "    </tr>\n",
       "    <tr>\n",
       "      <th>2</th>\n",
       "      <td>13742</td>\n",
       "      <td>u3-1558513148_3</td>\n",
       "      <td>Trần Vũ Phương Vy</td>\n",
       "      <td>False</td>\n",
       "      <td>Marie_Curie từng giành giải Nobel ở hai lĩnh_vực nào</td>\n",
       "      <td>Np R V N Np E M N P</td>\n",
       "      <td>B-PER O O O O O O O O</td>\n",
       "      <td>Trần_Vũ_Phương_Vy được xem là thế_hệ hot girl tiếp_theo trường Marie_Curie . Phương_Vy là minh_chứng con gái trường Marie_Curie xinh xuất_sắc , khó có_thể rời mắt . Gái đẹp thì trường nào cũng có nhưng \" đẹp đều \" thì chắc_chắn chỉ có trường Marie_Curie . Đông_Nhi , Hoàng_Yến , Thuỳ_Lâm , Hạ_Anh cũng đều xuất_thân từ ngôi trường danh_tiếng này . Thế_hệ hot girl tiếp_theo của trường Marie_Curie phải kể đến Vương_Hoàng_Mai_Diz , Nguyễn_Thị_Thu_Tâm ... Ngôi trường tràn_ngập những cô gái xinh_đẹp khiến nam_sinh tất_cả những trường khác phải ghen_tị với nam_sinh trường Marie_Curie .</td>\n",
       "      <td>Np V V C N A N V N Np CH Np V V Nc N N Np A A CH A R V N CH N A C N P R V C CH A R CH C A R V N Np CH Np CH Np CH Np CH Np R R V E Nc N N P CH N A N V E N Np V V E Np CH Np CH Nc N A L Nc N A V N P L N A V V E N N Np CH</td>\n",
       "      <td>B-PER O O O O O O O O O O B-PER O O O O O O O O O O O O O O O O O O O O O O O O O O O O O O O O O B-PER O B-PER O B-PER O B-PER O O O O O O O O O O O O O O B-ORG I-ORG O O O B-PER O B-PER O O O O O O O O O O O O O O O O O O O O O</td>\n",
       "      <td>False</td>\n",
       "    </tr>\n",
       "    <tr>\n",
       "      <th>3</th>\n",
       "      <td>13262</td>\n",
       "      <td>u6-1566570987_10</td>\n",
       "      <td>Thành uỷ Hà Nội</td>\n",
       "      <td>False</td>\n",
       "      <td>phó bí_thư thành_uỷ của Hà_Nội là ai</td>\n",
       "      <td>Z N N E Np V P</td>\n",
       "      <td>O O O O B-LOC O O</td>\n",
       "      <td>Tháng 2/1945 Ban Cán_sự đổi thành Ban Thành_uỷ do Nguyễn_Khang phụ_trách Bí_thư . Tháng 3/1945 Ban Thành_uỷ được kiện_toàn chuẩn_bị cách_mạng tháng 8 , Nguyễn_Quyết được cử làm Bí_thư . Ngày 25/8/1945 , Thành_uỷ Hà_Nội được bổ_sung thêm nhiều uỷ_viên mới , chỉ_định Nguyễn_Huy_Khôi ( tức Trần_Quang_Huy ) làm Bí_thư Thành_uỷ , Nguyễn_Quyết chuyển sang phụ_trách quân_sự .</td>\n",
       "      <td>N M N N V V N Np E Np V N CH N M N Np V V V N N M CH Np V V V N CH N M CH N Np V V V A N A CH V Np CH E Np CH V N Np CH Np V V V N CH</td>\n",
       "      <td>O O O O O O O O O B-PER O O O O O O O O O O O O O O B-PER O O O O O O O O B-ORG I-ORG O O O O O O O O B-PER O O B-PER O O O O O B-PER O O O O O</td>\n",
       "      <td>False</td>\n",
       "    </tr>\n",
       "    <tr>\n",
       "      <th>4</th>\n",
       "      <td>460</td>\n",
       "      <td>u8-1557310759_0</td>\n",
       "      <td>NaN</td>\n",
       "      <td>True</td>\n",
       "      <td>Lá cờ của liên_minh châu_âu ( EU ) có bao_nhiêu ngôi_sao</td>\n",
       "      <td>N N E N Np CH Ny CH V P N</td>\n",
       "      <td>O O O B-ORG I-ORG O B-ORG O O O O</td>\n",
       "      <td>Một vòng_tròn của mười_hai ngôi_sao màu vàng năm cánh trên một lĩnh_vực màu xanh . Quốc_kỳ châu_Âu hoặc Cờ của châu_Âu là một biểu_tượng chính_thức của hai tổ chức-the riêng_biệt Uỷ_hội châu_Âu ( CoE ) và Liên_minh châu_Âu ( EU ) . Nó bao_gồm một vòng_tròn của 1205 cánh màu vàng hoặc sao trên một màu xanh lĩnh_vực .</td>\n",
       "      <td>M N E M N N A M N E M N N A CH N Np Cc N E Np V M N A E M N N A Np Np CH Np CH Cc Np Np CH Ny CH CH P V M N E M N N A Cc P E M N A N CH</td>\n",
       "      <td>O O O O O O O O O O O O O O O O B-LOC O O O B-LOC O O O O O O O O O O B-LOC O B-ORG O O B-ORG I-ORG O B-ORG O O O O O O O O O O O O O O O O O O O</td>\n",
       "      <td>False</td>\n",
       "    </tr>\n",
       "  </tbody>\n",
       "</table>\n",
       "</div>"
      ],
      "text/plain": [
       "   Unnamed: 0                id              title  label  \\\n",
       "0       13548   u8-1555488942_3             Kerala  False   \n",
       "1        5377   u5-1554270743_2          Chuncheon  False   \n",
       "2       13742   u3-1558513148_3  Trần Vũ Phương Vy  False   \n",
       "3       13262  u6-1566570987_10    Thành uỷ Hà Nội  False   \n",
       "4         460   u8-1557310759_0                NaN   True   \n",
       "\n",
       "                                                      q_toks  \\\n",
       "0     Nước nào trên thế_giới có độ tuổi trung_bình cao nhất    \n",
       "1                 Đập thuỷ_điện lớn nhất thế_giới tên là gì    \n",
       "2      Marie_Curie từng giành giải Nobel ở hai lĩnh_vực nào    \n",
       "3                      phó bí_thư thành_uỷ của Hà_Nội là ai    \n",
       "4  Lá cờ của liên_minh châu_âu ( EU ) có bao_nhiêu ngôi_sao    \n",
       "\n",
       "                        q_pos                               q_ner  \\\n",
       "0        N P E N V N N A A A                 O O O O O O O O O O    \n",
       "1            V N A A N N V P                     O O O O O O O O    \n",
       "2        Np R V N Np E M N P               B-PER O O O O O O O O    \n",
       "3             Z N N E Np V P                   O O O O B-LOC O O    \n",
       "4  N N E N Np CH Ny CH V P N   O O O B-ORG I-ORG O B-ORG O O O O    \n",
       "\n",
       "                                                                                                                                                                                                                                                                                                                                                                                                                                                                                                                                                                                                                    t_toks  \\\n",
       "0  Trong các bang của Ấn_Độ , Kerala nổi_bật về mặt nhân_khẩu với một_số đặc_điểm sau : chỉ_số phát_triển con_người ( HDI ) cao nhất , đạt 0,790 năm 2011 ( so với mức trung_bình cả nước 0,513 ) ; tỷ_lệ biết chữ cao nhất , 93,91% năm 2011 ( trung_bình cả nước là 74,04% ) ; tuổi_thọ trung_bình cao nhất , 77 tuổi năm 2004 ( trung_bình cả nước là 63,5 tuổi ) ; và tỷ_lệ giới_tính nữ trên nam_cao nhất , 1084 nữ trên 1000 nam năm 2011 ( trung_bình cả nước là 940 nữ trên 1000 nam ) . Trong thập_niên 1970 và 1980 , kinh_tế các nước Ả_Rập vùng Vịnh phát_triển mạnh đã thu_hút một số_lượng lớn người lao_...   \n",
       "1                                                                                                                                                                                                                                                                                                                                                                                                                                                                                                                     Có những nhà_máy thuỷ_điện ở khu_vực xung_quanh Chuncheon . Đập_Soyang là đập cát lớn nhất ở Đông_Á    \n",
       "2                Trần_Vũ_Phương_Vy được xem là thế_hệ hot girl tiếp_theo trường Marie_Curie . Phương_Vy là minh_chứng con gái trường Marie_Curie xinh xuất_sắc , khó có_thể rời mắt . Gái đẹp thì trường nào cũng có nhưng \" đẹp đều \" thì chắc_chắn chỉ có trường Marie_Curie . Đông_Nhi , Hoàng_Yến , Thuỳ_Lâm , Hạ_Anh cũng đều xuất_thân từ ngôi trường danh_tiếng này . Thế_hệ hot girl tiếp_theo của trường Marie_Curie phải kể đến Vương_Hoàng_Mai_Diz , Nguyễn_Thị_Thu_Tâm ... Ngôi trường tràn_ngập những cô gái xinh_đẹp khiến nam_sinh tất_cả những trường khác phải ghen_tị với nam_sinh trường Marie_Curie .    \n",
       "3                                                                                                                                                                                                                                     Tháng 2/1945 Ban Cán_sự đổi thành Ban Thành_uỷ do Nguyễn_Khang phụ_trách Bí_thư . Tháng 3/1945 Ban Thành_uỷ được kiện_toàn chuẩn_bị cách_mạng tháng 8 , Nguyễn_Quyết được cử làm Bí_thư . Ngày 25/8/1945 , Thành_uỷ Hà_Nội được bổ_sung thêm nhiều uỷ_viên mới , chỉ_định Nguyễn_Huy_Khôi ( tức Trần_Quang_Huy ) làm Bí_thư Thành_uỷ , Nguyễn_Quyết chuyển sang phụ_trách quân_sự .    \n",
       "4                                                                                                                                                                                                                                                                                           Một vòng_tròn của mười_hai ngôi_sao màu vàng năm cánh trên một lĩnh_vực màu xanh . Quốc_kỳ châu_Âu hoặc Cờ của châu_Âu là một biểu_tượng chính_thức của hai tổ chức-the riêng_biệt Uỷ_hội châu_Âu ( CoE ) và Liên_minh châu_Âu ( EU ) . Nó bao_gồm một vòng_tròn của 1205 cánh màu vàng hoặc sao trên một màu xanh lĩnh_vực .    \n",
       "\n",
       "                                                                                                                                                                                                                                                                                                                                                                    t_pos  \\\n",
       "0  E L N E Np CH Np A E N N E L N N CH N V N CH Ny CH A R CH V M N M CH V E N A P N M CH CH N V N A R CH M N M CH A P N V M CH CH N A A R CH M N N M CH A P N V M N CH CH Cc N N N E N A CH M N E M N N M CH A P N V M N E M N CH CH E N M Cc M CH N L N V N N V A R V M N A N N Np V V L N P CH V E N N N N Np V E N N E N Np E N CH Np V N V R E Np CH N N Np Cc Np CH    \n",
       "1                                                                                                                                                                                                                                                                                                                                   V L N N E N N Np CH N V V N A A E Np    \n",
       "2                                                                                                                                            Np V V C N A N V N Np CH Np V V Nc N N Np A A CH A R V N CH N A C N P R V C CH A R CH C A R V N Np CH Np CH Np CH Np CH Np R R V E Nc N N P CH N A N V E N Np V V E Np CH Np CH Nc N A L Nc N A V N P L N A V V E N N Np CH    \n",
       "3                                                                                                                                                                                                                                  N M N N V V N Np E Np V N CH N M N Np V V V N N M CH Np V V V N CH N M CH N Np V V V A N A CH V Np CH E Np CH V N Np CH Np V V V N CH    \n",
       "4                                                                                                                                                                                                                                M N E M N N A M N E M N N A CH N Np Cc N E Np V M N A E M N N A Np Np CH Np CH Cc Np Np CH Ny CH CH P V M N E M N N A Cc P E M N A N CH    \n",
       "\n",
       "                                                                                                                                                                                                                                                                                                                                                                  t_ner  \\\n",
       "0  O O O O B-LOC O B-LOC O O O O O O O O O O O O O O O O O O O O O O O O O O O O O O O O O O O O O O O O O O O O O O O O O O O O O O O O O O O O O O O O O O O O O O O O O O O O O O O O O O O O O O O O O O O O O O O O O O O O O O O O O O O O O O O O O O O B-LOC O O O O O O O O O O O B-LOC I-LOC O O O O O O B-LOC O O O O O O O O O B-LOC O O O B-ORG O B-ORG O    \n",
       "1                                                                                                                                                                                                                                                                                                                            O O O O O O O B-LOC O O O O O O O O B-LOC    \n",
       "2                                                                                                                                B-PER O O O O O O O O O O B-PER O O O O O O O O O O O O O O O O O O O O O O O O O O O O O O O O O B-PER O B-PER O B-PER O B-PER O O O O O O O O O O O O O O B-ORG I-ORG O O O B-PER O B-PER O O O O O O O O O O O O O O O O O O O O O    \n",
       "3                                                                                                                                                                                                                      O O O O O O O O O B-PER O O O O O O O O O O O O O O B-PER O O O O O O O O B-ORG I-ORG O O O O O O O O B-PER O O B-PER O O O O O B-PER O O O O O    \n",
       "4                                                                                                                                                                                                                    O O O O O O O O O O O O O O O O B-LOC O O O B-LOC O O O O O O O O O O B-LOC O B-ORG O O B-ORG I-ORG O B-ORG O O O O O O O O O O O O O O O O O O O    \n",
       "\n",
       "   is_valid  \n",
       "0     False  \n",
       "1     False  \n",
       "2     False  \n",
       "3     False  \n",
       "4     False  "
      ]
     },
     "execution_count": 8,
     "metadata": {},
     "output_type": "execute_result"
    }
   ],
   "source": [
    "# DATASET_PATH = 'Dataset'\n",
    "# BATCH_SIZE = 32\n",
    "# # max_seq_length = 256\n",
    "# zltp = ZaloTextPreprocess()\n",
    "# zltp.load_data(DATASET_PATH)\n",
    "# train_df = zltp.train_df\n",
    "train_df = pd.read_csv('dataset/qaset/train_feature_set2.csv')\n",
    "valid_df = pd.read_csv('dataset/qaset/valid_feature_set2.csv')\n",
    "# test_df = pd.read_csv('dataset/qaset/test_feature.csv')\n",
    "train_df['is_valid'] = False\n",
    "# test_df['is_valid'] = False # Do chia nhầm, gộp test này vào train\n",
    "valid_df['is_valid'] = True\n",
    "\n",
    "\n",
    "trainset = pd.concat([train_df, valid_df])\n",
    "trainset = trainset.sample(frac=1).reset_index(drop=True)\n",
    "trainset.head(5)"
   ]
  },
  {
   "cell_type": "code",
   "execution_count": 9,
   "metadata": {},
   "outputs": [
    {
     "data": {
      "text/plain": [
       "False    14487\n",
       "True      3621\n",
       "Name: is_valid, dtype: int64"
      ]
     },
     "execution_count": 9,
     "metadata": {},
     "output_type": "execute_result"
    }
   ],
   "source": [
    "trainset['is_valid'].value_counts()"
   ]
  },
  {
   "cell_type": "code",
   "execution_count": 73,
   "metadata": {},
   "outputs": [],
   "source": [
    "ner_vocab = data.ReaderVocab.from_file('dataset/vocabs/train_feat_ner_vocab.txt')\n",
    "pos_vocab = data.ReaderVocab.from_file('dataset/vocabs/train_feat_pos_vocab.txt')\n",
    "args.dim_feature = [len(pos_vocab), len(ner_vocab)]"
   ]
  },
  {
   "cell_type": "code",
   "execution_count": 11,
   "metadata": {},
   "outputs": [
    {
     "data": {
      "text/plain": [
       "{0: '<unk>',\n",
       " 1: '<pad>',\n",
       " 2: '<cls>',\n",
       " 3: 'n',\n",
       " 4: 'm',\n",
       " 5: 'ch',\n",
       " 6: 'np',\n",
       " 7: 'v',\n",
       " 8: 'ny',\n",
       " 9: 'a',\n",
       " 10: 'e',\n",
       " 11: 'cc',\n",
       " 12: 'nc',\n",
       " 13: 'r',\n",
       " 14: 'l',\n",
       " 15: 'nu',\n",
       " 16: 'p',\n",
       " 17: 'c',\n",
       " 18: 'y',\n",
       " 19: 'z',\n",
       " 20: 't',\n",
       " 21: 'x',\n",
       " 22: 'nb',\n",
       " 23: 'i',\n",
       " 24: 'xy',\n",
       " 25: 'b',\n",
       " 26: 'ni',\n",
       " 27: 'vb',\n",
       " 28: 'ab'}"
      ]
     },
     "execution_count": 11,
     "metadata": {},
     "output_type": "execute_result"
    }
   ],
   "source": [
    "pos_vocab.ind2tok"
   ]
  },
  {
   "cell_type": "code",
   "execution_count": 12,
   "metadata": {},
   "outputs": [],
   "source": [
    "wv_path = 'wordembedding/pretrain_models/word2vec/baomoi.window2.vn.model.bin'\n",
    "wv = KeyedVectors.load_word2vec_format(wv_path,binary=True)\n",
    "vocab = data.W2VVocab(['<unk>', '<pad>', '<cls>'], 0, 1, wv)"
   ]
  },
  {
   "cell_type": "code",
   "execution_count": 13,
   "metadata": {},
   "outputs": [],
   "source": [
    "w_in_train = []\n",
    "with open('dataset/vocabs/zlqa_token_list.txt', 'r') as f:\n",
    "    while True:\n",
    "        line = f.readline()\n",
    "        if not line:\n",
    "            break\n",
    "        w_in_train.append(line.split(' ')[-1][:-1].lower())"
   ]
  },
  {
   "cell_type": "markdown",
   "metadata": {},
   "source": [
    "# Data Prepair"
   ]
  },
  {
   "cell_type": "markdown",
   "metadata": {},
   "source": [
    "## DataBlock"
   ]
  },
  {
   "cell_type": "markdown",
   "metadata": {},
   "source": [
    "### Transform"
   ]
  },
  {
   "cell_type": "code",
   "execution_count": 14,
   "metadata": {},
   "outputs": [],
   "source": [
    "class SimpleTokenizer(Transform):\n",
    "    def __init__(self, vocab):\n",
    "        self.vocab = vocab\n",
    "        \n",
    "    def tok2id(self, tokens):\n",
    "#         if(len(tokens) < 100):\n",
    "#             print(tokens)\n",
    "#             print([self.vocab[tok] for tok in tokens])\n",
    "        return tensor([self.vocab[tok.lower()] for tok in tokens], dtype=torch.int64)\n",
    "    \n",
    "    def ids2toks(self, ids):\n",
    "        return ' '.join([self.vocab[ind] for ind in ids.tolist()])\n",
    "        \n",
    "    def encodes(self, x:str):\n",
    "        t = TensorText(self.tok2id(x.lower().split()))\n",
    "#         print('.', end='')\n",
    "        return t\n",
    "    \n",
    "    def decodes(self, x):\n",
    "        return TitledStr(self.ids2toks(x))\n",
    "    \n",
    "def simple_tokenize(items):\n",
    "    return (L(doc) for doc in map(lambda x: x.split(),items))"
   ]
  },
  {
   "cell_type": "code",
   "execution_count": 15,
   "metadata": {},
   "outputs": [],
   "source": [
    "def _is_tuple(o): return isinstance(o, tuple) and not hasattr(o, '_fields')\n",
    "class CustomPad(DisplayedTransform):\n",
    "    \"Pad `samples` by adding padding by chunks of size `seq_len`\"\n",
    "    def __init__(self, max_avai_len, pad_idx=1, pad_first=False, seq_len=72,decode=True,**kwargs):\n",
    "        store_attr('pad_idx, pad_first, seq_len,seq_len')\n",
    "        self.max_avai_len = max_avai_len\n",
    "        super().__init__(**kwargs)\n",
    "    \n",
    "    def _do_call(self, f, x, **kwargs):\n",
    "        if not _is_tuple(x):\n",
    "            if f is None: return x\n",
    "            ret = f.returns_none(x) if hasattr(f,'returns_none') else None\n",
    "            return retain_type(f(x, **kwargs), x, ret)\n",
    "        if 'index' in kwargs:\n",
    "            del kwargs['index']\n",
    "        res = tuple(self._do_call(f, x_, index=i, **kwargs) for i, x_ in enumerate(x))\n",
    "        return retain_type(res, x)\n",
    "    \n",
    "    def before_call(self, b):\n",
    "        \"Set `self.max_len` before encodes\"\n",
    "        self.max_len = [0 for i in b[0]]\n",
    "        for xs in b:\n",
    "            for i, x in enumerate(xs):\n",
    "                if isinstance(x, TensorText):\n",
    "                    self.max_len[i] = max(self.max_len[i], x.shape[0])\n",
    "        self.max_len = [min(l, self.max_avai_len) for l in self.max_len]\n",
    "        \n",
    "    def __call__(self, b, **kwargs):\n",
    "        self.before_call(b)\n",
    "        return super().__call__(tuple(b), **kwargs)\n",
    "    def encodes(self, x:TensorText, **kwargs):\n",
    "        if(x.shape[0] >= self.max_avai_len):\n",
    "            return x[:self.max_avai_len]\n",
    "        else:\n",
    "            return pad_chunk(x,pad_idx=self.pad_idx, pad_first=self.pad_first, seq_len=self.seq_len, pad_len=self.max_len[kwargs['index']])\n",
    "    def decodes(self, o:TensorText, **kwargs):\n",
    "        return o[o != self.pad_idx] if self.decode else o\n",
    "\n",
    "class ConCat(DisplayedTransform):\n",
    "    def before_call(self, b):\n",
    "        \"Set `self.max_len` before encodes\"\n",
    "        feat = torch.stack((b[1], b[2]), dim=2)\n",
    "        b = L(b[0], feat, b[3], b[4])\n",
    "        return b\n",
    "    \n",
    "    def before_decode(self, b):\n",
    "        return L(b[0], b[1][0], b[1][1] , b[3], b[4])\n",
    "        \n",
    "    def decode  (self, x, **kwargs):\n",
    "        b = self.before_decode(b)\n",
    "        return super().decode(tuple(b), **kwargs)\n",
    "    \n",
    "    def __call__(self, b, **kwargs):\n",
    "        b = self.before_call(b)\n",
    "        return super().__call__(tuple(b), **kwargs)"
   ]
  },
  {
   "cell_type": "markdown",
   "metadata": {},
   "source": [
    "### Transform Block"
   ]
  },
  {
   "cell_type": "code",
   "execution_count": 16,
   "metadata": {},
   "outputs": [],
   "source": [
    "class CustomTextBlock(TransformBlock):\n",
    "    \"A `TransformBlock` for texts\"\n",
    "    def __init__(self, vocab, seq_len=72, **kwargs):\n",
    "        type_tfms = [SimpleTokenizer(vocab)]\n",
    "        return super().__init__(type_tfms=type_tfms,\n",
    "                                dl_type=SortedDL,\n",
    "                                dls_kwargs={'before_batch': CustomPad(args.max_len, seq_len=seq_len, pad_first=False)})"
   ]
  },
  {
   "cell_type": "code",
   "execution_count": 17,
   "metadata": {},
   "outputs": [],
   "source": [
    "DataBlock??"
   ]
  },
  {
   "cell_type": "code",
   "execution_count": 18,
   "metadata": {},
   "outputs": [],
   "source": [
    "Datasets.dataloaders??"
   ]
  },
  {
   "cell_type": "markdown",
   "metadata": {},
   "source": [
    "### DataBlock"
   ]
  },
  {
   "cell_type": "code",
   "execution_count": 19,
   "metadata": {},
   "outputs": [],
   "source": [
    "# b1 = TextBlock.from_df('text')\n",
    "b1 = CustomTextBlock(vocab, args.max_len)\n",
    "b_ner = CustomTextBlock(ner_vocab, args.max_len)\n",
    "b_pos = CustomTextBlock(pos_vocab, args.max_len)\n",
    "get_x = [ColReader(\"t_toks\"), ColReader(\"t_pos\"), ColReader(\"t_ner\"), ColReader(\"q_toks\"), ColReader(\"q_pos\"), ColReader(\"q_ner\"), ]\n",
    "blocks = [b1, b_pos, b_ner, b1, b_pos, b_ner, CategoryBlock(vocab=[False, True])]\n",
    "# dtb = DataBlock(blocks=blocks, get_x=get_x, get_y=ColReader('label'), splitter=ColSplitter(col='is_valid'), n_inp=6)\n",
    "dtb = DataBlock(blocks=blocks, get_x=get_x, get_y=ColReader('label'), splitter=RandomSplitter(), n_inp=6)"
   ]
  },
  {
   "cell_type": "code",
   "execution_count": 59,
   "metadata": {},
   "outputs": [],
   "source": [
    "dls = dtb.dataloaders(trainset[:8000], path='.', bs=bs)"
   ]
  },
  {
   "cell_type": "code",
   "execution_count": 58,
   "metadata": {},
   "outputs": [],
   "source": [
    "torch.cuda.empty_cache()"
   ]
  },
  {
   "cell_type": "code",
   "execution_count": 22,
   "metadata": {},
   "outputs": [
    {
     "name": "stdout",
     "output_type": "stream",
     "text": [
      "tại sri_lanka <unk> phật_giáo là quốc_giáo <unk> thời_gian lễ_hội vesak <unk> người_dân được nghỉ lễ <unk> gần đây <unk> lễ vesak được tổ_chức vào ngày trăng_tròn trong tháng <unk> dương_lịch và kéo_dài <unk> tuần <unk> ngoài những buổi lễ tụng kinh và cầu_nguyện mang tính tôn_giáo <unk> lễ_hội vesak còn có nhiều chương_trình mang tính lễ_hội dân_gian <unk> trong những ngày lễ_hội <unk> việc bán rượu và thịt thường bị cấm <unk> tất_cả quán bia rượu và lò giết_mổ phải đóng_cửa <unk> người_dân nước này phóng sanh một số_lượng lớn thú_vật <unk> chim <unk> cá <unk> việc bố_thí <unk> <unk> <unk> dana <unk> <unk> <unk> cũng được xem rất trọng <unk> họ thường đến thăm và phát quà cho trẻ mồ_côi và người già neo_đơn cũng như lập những quầy cung_cấp miễn_phí thức_ăn uống cho khách_qua_đường <unk> người_dân thường mặc áo trắng và đi đến đền thờ <unk> tu_viện và tham_gia vào các nghi_lễ truyền_thống tại đó <unk> nhiều người ở lại đền thờ cả ngày và thực_hành bát giới <unk> hầu_hết tư_gia phật_tử đều trang_trí cờ phật_giáo <unk> lồng đèn và đèn nến <unk> những nơi công_cộng diễn ra nhiều chương_trình lễ_hội <unk> trong đó chương_trình rước và diễn\n",
      "tại bắc_mỹ và châu_âu <unk> kỷ ordovic là thời_gian của các biển cạn rất giàu sự sống <unk> cụ_thể là các loài bọ ba thuỳ <unk> ngành <unk> <unk> và động_vật tay cuốn <unk> ngành <unk> <unk> đã rất nhiều và đa_dạng <unk> những động_vật hình rêu <unk> ngành <unk> <unk> đầu_tiên đã xuất_hiện trong kỷ ordovic cũng giống như là các loài san_hô <unk> lớp <unk> <unk> tạo đá ngầm đầu_tiên <unk> các loại san_hô đơn_độc thì đã xuất_hiện ít_nhất là từ kỷ cambri <unk> động_vật thân_mềm <unk> ngành <unk> <unk> đã xuất_hiện từ kỷ cambri trở_thành phổ_biến và đa_dạng trong kỷ này <unk> đặc_biệt là các nhóm động_vật hai mảnh vỏ <unk> lớp <unk> <unk> <unk> động_vật chân bụng <unk> lớp <unk> <unk> và <unk> <unk> của động_vật chân đầu <unk> lớp <unk> <unk> <unk> trong một thời_gian dài người ta cho rằng những động_vật có xương_sống thực_sự đầu_tiên <unk> cá thuộc lớp <unk> <unk> cũng xuất_hiện trong kỷ ordovic <unk> nhưng các phát_hiện gần đây ở trung_quốc đã cho thấy chúng có_lẽ có nguồn_gốc vào đầu kỷ cambri <unk> những loài cá có hàm đầu_tiên xuất_hiện vào cuối kỷ này <unk> các loài động_vật biển hiện_nay đã\n",
      "lá phong được sử_dụng làm một biểu_tượng của canada kể từ thập_niên <unk> <unk> năm <unk> <unk> lần đầu_tiên lá phong sử_dụng làm một biểu_tượng quốc_gia <unk> khi đó nó xuất_hiện trên huy_hiệu của cả ontario và quebec <unk> năm <unk> <unk> <unk> sáng_tác ca_khúc <unk> <unk> <unk> <unk> ca_khúc này trở_thành một <unk> không chính_thức tại canada anh ngữ <unk> đến năm <unk> <unk> lá phong được đưa vào quốc_huy canada <unk> từ năm <unk> đến năm <unk> <unk> lá phong xuất_hiện trên toàn_bộ các đồng xu canada <unk> và vẫn còn trên đồng xu penny sau năm <unk> <unk> lực_lượng vương thất canada sử_dụng lá phong làm một biểu_tượng trung_đoàn kéo_dài từ năm <unk> <unk> trong chiến_tranh thế_giới thứ nhất và thứ hai <unk> các huy_chương của quân_đội canada thường dựa theo một thiết_kế lá phong <unk> thiết_kế lá phong cuối_cùng được dùng để trang_trí bia của các phần_mộ quân_sự canada <unk> số mũi_nhọn của lá phong không có ý_nghĩa ; số_lượng và sắp_xếp các mũi_nhọn được lựa_chọn sau các cuộc kiểm_nghiệm hang gió cho thấy thiết_kế hiện_tại bị mờ ít_nhất trong các thiết_kế khác nhau khi đưa chúng ra kiểm_nghiệm dưới điều_kiện gió lớn năm <unk> <unk>\n",
      "sản_xuất thuốc kháng_sinh là một sự_kiện xảy ra tự_nhiên <unk> nhờ vào những tiến_bộ trong khoa_học hiện_nay có_thể được nhân rộng và cải_thiện trong các môi_trường phòng_thí_nghiệm <unk> do sự phát_hiện của penicillin nhờ có alexander_fleming <unk> và những nỗ_lực của <unk> và chain vào năm <unk> <unk> việc sản_xuất dược_phẩm quy_mô lớn đã được thực_hiện <unk> như với phát_hiện ban_đầu của penicillin <unk> hầu_hết các kháng_sinh đã được phát_hiện là kết_quả của sự xảy ra <unk> sản_xuất kháng_sinh có_thể được nhóm lại thành ba phương_pháp : lên_men tự_nhiên <unk> bán tổng_hợp và tổng_hợp <unk> khi ngày_càng có nhiều vi_khuẩn tiếp_tục phát_triển tính kháng với kháng_sinh hiện đang được sản_xuất <unk> việc nghiên_cứu và phát_triển thuốc kháng_sinh mới tiếp_tục là quan_trọng <unk> ngoài việc nghiên_cứu và phát_triển sản_xuất kháng_sinh mới <unk> hệ_thống phân_phối đóng_gói lại quan_trọng để cải_thiện hiệu_quả của các loại thuốc kháng_sinh hiện đang được sản_xuất <unk> những cải_thiện cho lĩnh_vực này đã chứng_kiến khả_năng bổ_sung kháng_sinh trực_tiếp vào thiết_bị cấy_ghép <unk> phun thuốc kháng_sinh để phân_phối trực_tiếp và kết_hợp kháng_sinh với kháng_sinh không nhằm cải_thiện kết_cục <unk> sự gia_tăng của các chủng vi_khuẩn gây bệnh kháng_sinh đã dẫn đến sự gia_tăng khẩn_cấp về tài_trợ nghiên_cứu và phát_triển\n",
      "sự_nghiệp chinh_phục các công_trình đồ_sộ của robert rất đặc_biệt bởi một danh_sách dài các địa_danh nổi_tiếng trên thế_giới gồm có tháp eiffel <unk> nhà_hát opera_sydney và tháp montparnasse ở paris <unk> tháp đôi petronas ở kuala_lumpur cũng như công_trình cao nhất thế_giới hiện_nay là burj_khalifa tại dubai <unk> trong những năm <unk> <unk> trên toàn thế_giới đã biết đến ông thông_qua các phương_tiện truyền_thông qua những pha leo_trèo ngoạn_mục và mục_tiêu lúc này của ông là chinh_phục toà nhà cao nhất thế_giới vào thời_gian này tháp đôi petronas ở kuala_lumpur <unk> malaysia <unk> mặc_dù các nhà_chức_trách ở malaysia đã nỗ_lực ngăn_chặn hành_động này của robert nhưng họ vẫn bất_ngờ khi vào một ngày trong năm <unk> ông bất_ngờ xuất_hiện bên ngoài một_số tầng của tháp và anh bị bắt_giữ khi đang ở tầng thứ <unk> <unk> khó_khăn nhất trong sự_nghiệp leo_trèo của ông cần phải kể đến tháp sears bây_giờ tên là <unk> tại <unk> vào năm <unk> <unk> một lớp sương_mù dày_đặc làm cho các tấm kính và kim_loại của <unk> tầng cuối_cùng trở_nên ẩm_ướt và trơn trượt <unk> tuy_nhiên <unk> ông đã vượt qua các khó_khăn đó và lên đến đỉnh <unk> ông trở_thành người thứ hai trên\n",
      "nỏ liên châu do tướng_quân cao_lỗ chế_tạo dưới thời thục_phán_an_dương_vương nhà_nước <unk> <unk> đặt tên là <unk> thần <unk> tương_truyền bắn một lần được nhiều phát mà các mũi_tên đều bịt đồng sắc nhọn <unk> đầu mũi_tên được chia làm <unk> cạnh làm tăng tiết_diện vết_thương <unk> khiến vết_thương mất máu nhiều <unk> khó lành <unk> sử_sách cũ đã <unk> gọi là : <unk> <unk> <unk> <unk> sách lĩnh_nam chích quái chép rằng : cứ đem nỏ ra chĩa vào quân giặc là chúng không dám đến <unk> lỗ huấn_luyện cho hàng vạn binh_sĩ ngày_đêm tập bắn nỏ <unk> <unk> thường xem tập bắn trên <unk> ngự xạ đài <unk> <unk> dấu_vết này nay vẫn còn <unk> góc đông bắc ngoài thành_nội <unk> <unk> khi <unk> cho quân xâm_lược <unk> <unk> quân triệu đã bị các tay nỏ liên châu bắn tên ra như mưa <unk> thây chết đầy nội và phải lui <unk> thời <unk> nỏ liên châu trở_thành thứ vũ_khí thần dũng vô_địch của nước âu <unk> một_số nhận_định thì nỏ thần thực_chất chỉ là hư_cấu tình_tiết <unk> một lần bắn được hàng trăm mũi_tên <unk> <unk> nỏ thần ghi_nhận sự phát_triển về chế_tạo vũ_khí thô_sơ sát_thương cao\n",
      "hồ hoàn_kiếm <unk> chữ_nôm : <unk> hoặc <unk> <unk> còn được gọi là hồ gươm <unk> trong bản_đồ hà_nội năm <unk> <unk> hồ này được gọi là hồ <unk> <unk> lac de <unk> <unk> <unk> là một hồ nước_ngọt tự_nhiên nằm ở trung_tâm thành_phố hà_nội <unk> hồ có diện_tích khoảng <unk> ha [ <unk> ] <unk> trước_kia <unk> hồ còn có các tên gọi là hồ <unk> <unk> vì nước có màu xanh quanh_năm <unk> <unk> hồ thuỷ_quân <unk> dùng để duyệt <unk> <unk> <unk> <unk> và hữu_vọng <unk> trong thời lê_mạt <unk> <unk> tên gọi hoàn_kiếm xuất_hiện vào đầu thế_kỷ <unk> gắn với truyền_thuyết vua lê_lợi trả gươm báu cho rùa thần <unk> theo truyền_thuyết <unk> trong một lần vua lê_lợi dạo chơi trên thuyền <unk> bỗng một con rùa vàng nổi lên mặt nước đòi nhà_vua trả thanh gươm mà long_vương cho mượn để đánh_đuổi quân minh xâm_lược <unk> nhà_vua liền trả gươm cho rùa thần và rùa lặn xuống_nước biến mất <unk> từ đó hồ được lấy tên là hồ hoàn_kiếm <unk> tên hồ còn được lấy để đặt cho một quận trung_tâm của hà_nội <unk> quận hoàn_kiếm <unk> và là hồ nước duy_nhất của quận này\n",
      "sự phổ_biến cũng như các hậu_quả của chứng nghiện rượu thường được coi_nhẹ <unk> theo đánh_giá mới_đây <unk> ở đức có <unk> triệu người nghiện rượu <unk> trong đó <unk> là phụ_nữ <unk> thêm vào đó là khoảng <unk> triệu người uống rượu ở mức_độ nguy_hiểm <unk> có_thể nghiện <unk> <unk> tổng_cục thống_kê đức đã ghi_nhận trong năm <unk> có <unk> người chết vì uống rượu <unk> trong số đó có <unk> trường_hợp chết là do xơ_gan <unk> thậm_chí vào năm <unk> thanh_tra về các chất gây nghiện của chính_phủ liên_bang <unk> <unk> <unk> der <unk> <unk> <unk> đã báo_cáo có <unk> trường_hợp chết tại đức mà hậu_quả là do uống quá nhiều rượu <unk> trong số đó <unk> người là do xơ_gan <unk> thêm vào đó là hằng năm có vào_khoảng <unk> trẻ sinh ra có khuyết_tật vì người mẹ lạm_dụng rượu <unk> ngoài_ra còn dự_đoán là khoảng <unk> thanh_thiếu_niên và những người trưởng_thành còn trẻ tuổi có nguy_hiểm nghiện rượu hay đã nghiện rượu <unk> người nghiện rượu có trong mọi tầng_lớp của xã_hội <unk> đặc_biệt là không ít người nghiện rượu trẻ tuổi là từ các tầng_lớp trên <unk> những người này thường là thiếu_thốn tình_cảm của\n",
      "mặt_trời là ngôi_sao ở trung_tâm hệ_mặt_trời <unk> chiếm khoảng <unk> khối_lượng của hệ_mặt_trời <unk> [ <unk> ] trái_đất và các thiên_thể khác như các hành_tinh <unk> tiểu hành_tinh <unk> thiên_thạch <unk> sao_chổi <unk> và bụi quay quanh mặt_trời <unk> khoảng_cách trung_bình giữa mặt_trời và trái_đất xấp_xỉ <unk> triệu kilômét <unk> <unk> đơn_vị thiên_văn au <unk> nên ánh_sáng mặt_trời cần <unk> phút <unk> giây mới đến được trái_đất <unk> trong một năm <unk> khoảng_cách này thay_đổi từ <unk> triệu kilômét <unk> <unk> au <unk> ở điểm cận nhật <unk> khoảng ngày <unk> tháng <unk> <unk> <unk> tới xa nhất_là <unk> triệu kilômét <unk> <unk> au <unk> ở điểm viễn nhật <unk> khoảng ngày <unk> tháng <unk> <unk> <unk> [ <unk> ] năng_lượng mặt_trời ở dạng ánh_sáng hỗ_trợ cho hầu_hết sự sống trên trái_đất thông_qua quá_trình quang_hợp <unk> [ <unk> ] và điều_khiển khí_hậu cũng như thời_tiết trên trái_đất <unk> thành_phần của mặt_trời gồm hydro <unk> khoảng <unk> khối_lượng <unk> hay <unk> thể_tích <unk> <unk> heli <unk> khoảng <unk> khối_lượng <unk> <unk> thể_tích <unk> <unk> và một lượng nhỏ các nguyên_tố khác <unk> gồm sắt <unk> nickel <unk> oxy <unk> silic <unk> lưu_huỳnh <unk> magiê <unk> carbon <unk> neon <unk> canxi <unk>\n",
      "e np ch np v n ch n n np ch n v v n ch a p ch n np v v e n a e n m np cc v m n ch e l n n v v cc v v n n ch n np r v a n v n n n ch e l n n ch n v n cc n r v v ch p n n n cc n v v v ch n n p v a m n a n ch n ch n ch nc n ch ch ch np ch ch ch r v v r a ch p r v v cc v n e n a cc n a a r c v l n v v n v e n ch n r v n a cc v e n n ch n cc v e l n n e p ch a n v r n v p n cc v n n ch l n np r v n np ch n n cc n n ch l n a v r a n n ch e p n v cc v\n",
      "e np cc np ch n np v n e l n a r a nc v ch a v l n n m n ch n n ch cc n n v ch n np ch r r a cc a ch l n n n ch n np ch a r v e n np r a c v l n n ch n n ch v n a a ch l n n a c r v a v e n np ch n n ch n np ch r v e n np v a cc a e n p ch a t l n n m nc n ch nc np ch ch n n n ch nc np ch cc n np e n n n ch nc np ch ch e m n a n p v c l n v n a a ch n v n np ch r v e n np ch c l v a p e np r v v p x v n e n n np ch l n n v n a v e n n p ch l n n n n r\n",
      "n v v v v m n e np v e n m ch n m ch n a n n v v m n n ch n p p v e n e p np cc np ch n m ch np v n ch np ch ch n p v m n r a e np np n ch e n m ch n v v v e n np ch e n m e n m ch n n v e l l n n np ch cc r v e n n n e n m ch n np v np v n v v m n n v e n m ch e n n n m cc n m ch l n e n np r v v m n n n ch v n n a v v e v n e l n n np ch n n e nc n r v n ch n cc v l n v v e l n v n n v v v n v a a e l n a n n v p v v e n n a np m ch\n",
      "v n n v m n v r a ch v e l n e n n r v v a cc v e l n n ch e nc v e n v v np ch cc l n e np cc np e n m ch n v n n a r v v ch c e v n e n ch r l n r v v v n e n v v ch v n r v n r v m n ch v a ch v v cc v ch n x v a n v v n v e n n r v v ch n v cc v n n r v v a ch e n v cc v v n a ch n v v r a e v n e l n n n n r v v ch l v e n p r v n v n a e n v ch v n n e v a cc v n e n r v v n ch n v e l n n v n n r v e n v a e n v cc v\n",
      "n v l n a e np r a e m n a l n a e n v v n np ch n np cc n np e np ch n m np e np r c n a a n n v np e np ch e l n m ch e n n r v e n v l n n e l n v a cc n n p e n v v n n a r n e n p np m np e np ch np ch c l n e np r v v n p e np c p r a n v m n e n m n a v n n l n e n cc n v v n r v n n m ch a r e n a e n v v v e n np p n v np e np e n m ch m n n a v e l nc n cc n e m n a v a cc a v ch c ch n r v v l n p cc v e n ch n v n n m e\n",
      "n z n e n np v e n np n np ch v n v np np np v v m n v a n c l n r v n n a ch n n v v v m n v v n n ch v n v n a ch a a ch n a r v v c ch ch np ch ch n np v n v c ch r v v r v e n n v p r v v np np v e r m n n v v n ch n r v n v e ch np v n ch ch n p p r v ch n n n e n ch ch n np e n v np ch n np r v l n n z n v n v c n ch n v a n cc v v n n ch n z n v nc n n v n e n np np l n c v n n r v n n ch m n v r r m n ch ch n n v n v e v n a v a\n",
      "n np ch n ch ch cc ch ch r v v c np np ch e n np n m ch n p v v c np np ch np n np ch ch v m n n a v e n n np ch n v n n m nu ch m ch ch n ch n r v l n v c n np ch e n v n a n ch ch n np ch v e v n ch ch np cc np ch e n np ch ch n v np v e n n m v e n n np v n a e np n ch v n ch e m n n np v v e n ch r m nc n n v r n n v n v n n c np v v e v n np v ch n r v n e n n cc n v v v v ch e p n r v n v n np ch n n r v v e v e m n n e np ch n np ch cc v n n a e n p\n",
      "n v r c l n e n v n r v v ch v v x ch e np v m m n v n ch e p m v n ch v e p v n m m n v n e n a ch r v ch ch n v np r v e n m v m n v e v n ch e n p v m n v v e n ch r e n m v e l n v v e n n ch ch n nb np ch ch r v v m n v e np c n v e v r a n ch e n p m n v e n ch v e p v r n v x m n v r v n e n n v n ch x r v v n m n cc l n v r a n v n v n c r v n ch n v n v e l n e n ch a c r a n v n a n c e l n n ch l n p r v a n e\n",
      "n v n e n np ch v n m n e np ch ch m ch n cc l n a c l n ch v n ch n ch n ch cc n v n n ch n a e n cc n a m m nu ch m n n ny ch c n n v m nu m nu r v r n ch e m n ch n p v e m m nu ch m ny ch e n a n ch n n m n m ch ch v a x m m nu ch m ny ch e n v n ch n n m n m ch ch ch m ch n n e n n v e l nc v e n v n n ch ch m ch cc v n r c n e n ch n e n v n ch n m n ch cc m n ch ch n ch n m n ch m n ch ch cc m n a l n a ch v n ch n ch n ch n ch n ch n ch n ch n ch n ch\n",
      "o b-loc o b-org o o o o o o o o o o o o o o o o o o o o o o o o o o o o o o o o o o o o o o o o o o o o o o o o o o o o o o o o o o o o o o o o o o o o o o o o o o o o o o o o o o o o o o o o o o o o o o o o o o o o o o o o o o o o o o o o o o o o o o o o o o o o o o o o o o o o o o o o o o o o o o o o o o o o o o o o o o o o o o o o o o o o o o o o o o o o o b-org o o o o o o o o o o o o o o o o o o o o o o\n",
      "o b-loc o b-loc o o o o o o o o o o o o o o o o o o o o o o o o o o o o o o o o o o o o o o o o o o o o o o o o o o o o o o o o o o o o o o o o o o o o o o o o o o o o o o o o o o o o o o o o o o o o o o o o o o o o o o o o o o o o o o o o o o o o o o o o o o o o o o o o o o o o o o o o o o o o o o o o o o o o o o o o o o o o o o o o o o o o o b-loc o o o o o o o o o o o o o o o o o o o o o o o o o o o o o o\n",
      "o o o o o o o o b-loc o o o o o o o o o o o o o o o o o o o o o o o o o o b-loc o b-loc o o o o b-per o o o o o o o o o o o o o o b-loc b-misc i-misc o o o o o o o o o o o b-loc o o o o o o o o o o o o o o o o b-loc o o o o o o o o o o o o o o o b-loc o o o o o o o o o o o o o o o o o o o o o o o o o b-loc o o o o o o o o o o o o o o o o o o o o o b-loc o o o o o o o o o o o o o o o o o o o o o o o o o o o o o o o o o o o o o o o o o o o o o o o\n",
      "o o o o o o o o o o o o o o o o o o o o o o o o o o o o o o o o o o o b-per o o o o o b-per o b-per o o o o o o o o o o o o o o o o o o o o o o o o o o o o o o o o o o o o o o o o o o o o o o o o o o o o o o o o o o o o o o o o o o o o o o o o o o o o o o o o o o o o o o o o o o o o o o o o o o o o o o o o o o o o o o o o o o o o o o o o o o o o o o o o o o o o o o o o o o o o o o o o o o o o o o o o o o o o\n",
      "o o o o o o b-per o o o o o o o o o o o o o o b-loc o b-loc i-loc o b-loc i-loc o b-loc o o o o o b-loc o o o o o o o o o o b-loc o o o o o o o o o o o o o o o o o o o o o o o o o o o o o o o o o o o o o o o o o o b-loc o b-loc o o o o o b-loc o o o o o o b-per o o o o o o o o o o o o o o o o o o o o o o o o o o o o o o o o o o o o o o o o o o b-loc i-loc o o o b-per o b-loc o o o o o o o o o o o o o o o o o o o o o o o o o o o o o o o o o o o o o o o o o o o o o\n",
      "o o o o o b-per o o o o o o o o o o b-loc i-loc i-loc o o o o o o o o o o o o o o o o o o o o o o o o o o o o o o o o o o o o o o o o o o o o o b-per o o o b-loc o o o o o o o o o o o o o o o o o o o o o o o o o o o o o o o o o o o o o o o o o o o o o o o o o o o o o o o o b-per o o o o o o b-loc o o o o o o o o o o o o o o o o o o o o o o o o o o o o o o o o o o b-loc o o o o o o o o o o o o o o o o o o o o o o o o o o o o o o o o\n",
      "b-loc i-loc o o o o o o o o o o o b-loc i-loc o o o b-loc o o o o o o o o b-loc i-loc o o o o o o o o o o o o o o b-loc i-loc o o o o o o o o o o o o o o o o o o o o b-loc i-loc o o o o o o o o o b-loc i-loc o o o o o o o b-per o b-per o o o o o o o o b-loc o o o o o o o o o o o o o o o o o o o o o o o o o o o o o o o o o o o o o o o o o o o o o b-per o o o o o b-per o o o o o o o o o o o o o o o o o o o o o o o b-loc i-loc o o o o o o o o o o o o o b-loc o b-loc i-loc o o o o o o o o o\n",
      "o o o o o o o o o o o o o o o o o o o b-loc o o o o o o o o o o o o o o o o o o o o o o o o o o o o o o o b-org i-org i-org o o o o o o o o o o o o o o o o o o o o o o o o o o o o o o o o o o o o o o o o o o o o o o o o o o o b-loc o o o o o o o o o o o o o o o o o o o o o o o o o o o o o o o o o o o o o o o o o o o o o o o o o o o o o o o o o o o o o o o o o o o o o o o o o o o o o o o o o o o o o o o o o o o o o o\n",
      "o o o o o b-misc o o o o o o b-misc o o o o b-loc o o o o o o o o o o o o o o o o o o o o o o o o o o b-loc o o o o o o o o o o o o o o o o o o o o o b-loc o o o o o o o o o o o o o o o o o o o o o o o o o o o o o o o o o o o o o o o o o o o o o o o o o o o o o o o o o o o o o o o o b-loc o o o o o o o o o o o o o o b-loc o o o o o o o o o o o o o o o o o o o o o o o o o o o o o o o o o o o o o o o o o o o o o o o o o o o o o\n",
      "tôn_giáo nào là quốc_giáo của sri_lanka\n",
      "động_vật có sương sống xuất_hiện đầu_tiên là động_vật nào\n",
      "loài lá nào được chọn làm biểu_tượng của canada\n",
      "thuốc kháng_sinh được ra_đời năm nào\n",
      "tháp đôi petronas ở thành_phố kuala_lumpur hiện giữ danh_hiệu gì\n",
      "ai là người phát_minh ra nỏ thần liên_châu\n",
      "ngoài những tên gọi nêu trên <unk> hồ hoàn_kiếm còn có tên gọi nào khác\n",
      "tình_hình giới trẻ nghiện mạng xã_hội là do đâu\n",
      "ai cũng biết mặt_trời cung_cấp ánh_sáng và nhiệt <unk> nhưng mặt_trời là gì\n",
      "n p v n e np\n",
      "n v n v v a v n p\n",
      "n n p v v v n e np\n",
      "n n r v n p\n",
      "n m np e n np v v n p\n",
      "p v n v v n n np\n",
      "e l n v v n ch n np r v n v p a\n",
      "n nc n v n n v e p\n",
      "p r v n v n cc n ch c n v p\n",
      "o o o o o b-loc\n",
      "o o o o o o o o o\n",
      "o o o o o o o o b-loc\n",
      "o o o o o o\n",
      "o o o o b-loc i-loc o o o o\n",
      "o o o o o o o b-loc\n",
      "o o o o o o o b-loc i-loc o o o o o o\n",
      "o o o o o o o o o\n",
      "o o o o o o o o o o o o o\n",
      "True\n",
      "True\n",
      "True\n",
      "False\n",
      "False\n",
      "True\n",
      "True\n",
      "False\n",
      "True\n"
     ]
    }
   ],
   "source": [
    "dls.show_batch()"
   ]
  },
  {
   "cell_type": "code",
   "execution_count": 23,
   "metadata": {},
   "outputs": [
    {
     "name": "stdout",
     "output_type": "stream",
     "text": [
      "torch.cuda.LongTensor\n",
      "(32, 200)\n",
      "(32, 200)\n",
      "(32, 200)\n",
      "(32, 16)\n",
      "(32, 16)\n",
      "(32, 16)\n",
      "(32,)\n"
     ]
    }
   ],
   "source": [
    "b = dls.one_batch()\n",
    "print(b[0].type())\n",
    "for i in b:\n",
    "    print(i.size())"
   ]
  },
  {
   "cell_type": "code",
   "execution_count": 91,
   "metadata": {},
   "outputs": [
    {
     "data": {
      "text/plain": [
       "TensorText([ 2668,     7,   731,    23,   335, 18361,     0,   657,   135,     0,\n",
       "         1212,     5, 18361,     0,  3757,     0,  3759,  3173,     6,     8,\n",
       "        28120,    83,    42,     8,  3109,     0,  3267,  3109,     0, 11747,\n",
       "            0, 20892,     0,     6,  2830,   560,  1267,  2668,     0,  1920,\n",
       "         1086,   159,  2668,     6,  3173,  4077,     0,    98, 26902,     0,\n",
       "            0,   361, 14353, 10299,     0,    76,  2197,  2668,   106,     0,\n",
       "          296,     0,  2182,    62,    28,    11,  3173,     0,     9,    16,\n",
       "           25,     0,  1920,    20,   382,    29,     0,    98, 26902,     0,\n",
       "            0, 10299,     0,    23,   145,  4101,  1064,     0,   135,    39,\n",
       "            0,    78,     0,     0,     0,    75,   546,   993,     0,    98,\n",
       "        26902,     0,     0, 10299,     0,    23,   145, 10541,  1064,     0,\n",
       "          135,    39,     0,    78,     0,     0,     0,  3757,     0,  3759,\n",
       "         1107,  2668,    23,  1462,  2197,   293,    12,   938,    63,   269,\n",
       "           33,  3173,   625,   532, 34006,     0,  3757,     0,  3759,     6,\n",
       "         1399,  2645,    26,    42,  1622,    33,  3173,     0,  1983,     5,\n",
       "         2668,   559, 16576,     0,   135,     0,  1212,     0,   107,     0,\n",
       "        17163,     0,     0, 48546,     0,   135,     0,  1212,     0,     0,\n",
       "        17163,     0,     0,     6,    16,   346,   247,     8, 11728,    83,\n",
       "            0,   559,  1831,     0, 36480,     0,  6919,     0, 26920,     0,\n",
       "        15116,     0, 40038,     0,  8032,     0, 19304,     0,  4940,     0],\n",
       "       device='cuda:0')"
      ]
     },
     "execution_count": 91,
     "metadata": {},
     "output_type": "execute_result"
    }
   ],
   "source": [
    "b[0][8]"
   ]
  },
  {
   "cell_type": "code",
   "execution_count": 25,
   "metadata": {},
   "outputs": [
    {
     "name": "stdout",
     "output_type": "stream",
     "text": [
      "1600\n",
      "416\n"
     ]
    }
   ],
   "source": [
    "print(len(dls.train)*dls.bs)\n",
    "print(len(dls.valid)*dls.bs)"
   ]
  },
  {
   "cell_type": "markdown",
   "metadata": {},
   "source": [
    "# Model"
   ]
  },
  {
   "cell_type": "code",
   "execution_count": 26,
   "metadata": {},
   "outputs": [],
   "source": [
    "from sklearn.metrics import roc_auc_score, f1_score\n",
    "def auroc(inp, targ, axis=-1):\n",
    "    inp, targ = inp.cpu().numpy()[:,1], targ.cpu().numpy()\n",
    "    try:\n",
    "        auc = roc_auc_score(targ, inp)\n",
    "    except ValueError:\n",
    "        auc = 0\n",
    "    return auc\n",
    "\n",
    "def f1(inp, targ, axis=-1):\n",
    "    inp, targ = inp.cpu().numpy(), targ.cpu().numpy()\n",
    "    inp = np.argmax(inp, axis=1)\n",
    "    try:\n",
    "        f1 = f1_score(targ, inp)\n",
    "    except ValueError:\n",
    "        f1 = 0\n",
    "    return f1"
   ]
  },
  {
   "cell_type": "code",
   "execution_count": 27,
   "metadata": {},
   "outputs": [],
   "source": [
    "# from .config import override_model_args\n",
    "# from reader.reader import RnnDocReader, EmbeddingModule\n",
    "import logging\n",
    "\n",
    "class FastTextReader(nn.Module):\n",
    "    def __init__(self, args, vocab, normalize=True):\n",
    "        super(FastTextReader, self).__init__()\n",
    "        self.args = args\n",
    "        self.args.vocab_size = len(vocab)\n",
    "        self.vocab = vocab\n",
    "        \n",
    "        self.embedding = reader_module.EmbeddingModule(args, vocab)\n",
    "        self.embedding_feature = nn.ModuleList()\n",
    "        for i in range(args.num_features):\n",
    "            self.embedding_feature.append(nn.Embedding(args.dim_feature[i], 1))\n",
    "        self.feature_project = nn.Conv1d(self.args.num_features, self.args.num_features, 1)\n",
    "        # Building network. If normalize if false, scores are not normalized\n",
    "        # 0-1 per paragraph (no softmax).\n",
    "        if args.model_type == 'rnn':\n",
    "            self.network = reader_module.RnnDocReader(args, normalize)\n",
    "        else:\n",
    "            raise RuntimeError('Unsupported model: %s' % args.model_type)\n",
    "    \n",
    "    def forward(self, x1, x1_f1, x1_f2, x2, x2_f1, x2_f2,):\n",
    "        x1_mask = torch.ones_like(x1)\n",
    "        x1_mask[x1 != 1] = 0\n",
    "        x2_mask = torch.ones_like(x2)\n",
    "        x2_mask[x2 != 1] = 0\n",
    "        x1_emb = self.embedding(x1)\n",
    "        x2_emb = self.embedding(x2)\n",
    "        xfs = [[x1_f1, x1_f2], [x2_f1, x2_f2]]\n",
    "        xfembs = []\n",
    "        for xf in xfs:\n",
    "            xfembs.append([])\n",
    "            for i, f in enumerate(xf):\n",
    "                xfembs[-1].append(self.embedding_feature[i](f))\n",
    "            xfembs[-1] = torch.cat((xfembs[-1]), dim=2)\n",
    "        \n",
    "        x1_emb = torch.cat((x1_emb, xfembs[0]), dim=2)\n",
    "        x2_emb = torch.cat((x2_emb, xfembs[1]), dim=2)\n",
    "        return self.network(x1_emb, x1_mask, x2_emb, x2_mask), dim = -1"
   ]
  },
  {
   "cell_type": "code",
   "execution_count": 74,
   "metadata": {},
   "outputs": [],
   "source": [
    "seed_all(seed)"
   ]
  },
  {
   "cell_type": "code",
   "execution_count": 75,
   "metadata": {},
   "outputs": [],
   "source": [
    "model = FastTextReader(args, vocab, True)\n",
    "criterion = CrossEntropyLossFlat(weight=tensor([0.3, 0.7]).cuda())"
   ]
  },
  {
   "cell_type": "code",
   "execution_count": 30,
   "metadata": {},
   "outputs": [],
   "source": [
    "# !git clone https://github.com/lessw2020/Ranger-Deep-Learning-Optimizer\n",
    "# !cd Ranger-Deep-Learning-Optimizer && pip install -e . "
   ]
  },
  {
   "cell_type": "code",
   "execution_count": 31,
   "metadata": {},
   "outputs": [],
   "source": [
    "from transformers import AdamW\n",
    "from functools import partial\n",
    "from ranger import Ranger\n",
    "# CustomAdamW = partial(AdamW, correct_bias=False)\n",
    "# CustomAdamW = torch.optim.AdamW\n",
    "# CustomAdamW.\n",
    "# opt= partial(OptimWrapper,))\n",
    "\n",
    "def opt(params, lr, **kwargs):\n",
    "    return OptimWrapper(Ranger(params))"
   ]
  },
  {
   "cell_type": "code",
   "execution_count": 32,
   "metadata": {},
   "outputs": [],
   "source": [
    "def splitter(model):\n",
    "    return [{'params': [p for p in model.embedding.parameters()]},\n",
    "            {'params': [p for p in model.embedding_feature.parameters()]},\n",
    "            {'params': [p for p in model.network.parameters()]},]"
   ]
  },
  {
   "cell_type": "code",
   "execution_count": 76,
   "metadata": {},
   "outputs": [],
   "source": [
    "learner = Learner(dls, model, loss_func=criterion, opt_func=opt, metrics=[accuracy, f1, auroc], splitter=splitter, cbs=CudaCallback,)\n",
    "# Show graph of learner stats and metrics after each epoch.\n",
    "learner.add_cbs(ShowGraphCallback())\n",
    "# learner = load_learner('drqa01.pkl')\n",
    "# learner.data = dls"
   ]
  },
  {
   "cell_type": "code",
   "execution_count": 60,
   "metadata": {},
   "outputs": [],
   "source": [
    "learner.dls = dls"
   ]
  },
  {
   "cell_type": "code",
   "execution_count": 34,
   "metadata": {},
   "outputs": [
    {
     "name": "stdout",
     "output_type": "stream",
     "text": [
      "FastTextReader(\n",
      "  (embedding): EmbeddingModule(\n",
      "    (embedding): Embedding(439057, 300, padding_idx=1)\n",
      "    (layernorm): LayerNorm((300,), eps=1e-05, elementwise_affine=True)\n",
      "  )\n",
      "  (embedding_feature): ModuleList(\n",
      "    (0): Embedding(29, 1)\n",
      "    (1): Embedding(12, 1)\n",
      "  )\n",
      "  (feature_project): Conv1d(2, 2, kernel_size=(1,), stride=(1,))\n",
      "  (network): RnnDocReader(\n",
      "    (qemb_match): SeqAttnMatch(\n",
      "      (linear): Linear(in_features=302, out_features=302, bias=True)\n",
      "    )\n",
      "    (context_rnn): CustomBRNN(\n",
      "      (rnns): ModuleList(\n",
      "        (0): BRNNBlock(\n",
      "          (rnn): LSTM(604, 600, bidirectional=True)\n",
      "          (dropout): Dropout(p=0.2, inplace=False)\n",
      "        )\n",
      "        (1): BRNNBlock(\n",
      "          (rnn): LSTM(1200, 600, bidirectional=True)\n",
      "          (dropout): Dropout(p=0.2, inplace=False)\n",
      "        )\n",
      "        (2): BRNNBlock(\n",
      "          (rnn): LSTM(1200, 600, bidirectional=True)\n",
      "          (dropout): Dropout(p=0.2, inplace=False)\n",
      "        )\n",
      "        (3): BRNNBlock(\n",
      "          (rnn): LSTM(1200, 600, bidirectional=True)\n",
      "          (dropout): Dropout(p=0.2, inplace=False)\n",
      "        )\n",
      "      )\n",
      "      (dropout): Dropout(p=0.2, inplace=False)\n",
      "    )\n",
      "    (question_rnn): CustomBRNN(\n",
      "      (rnns): ModuleList(\n",
      "        (0): BRNNBlock(\n",
      "          (rnn): LSTM(302, 600, bidirectional=True)\n",
      "          (dropout): Dropout(p=0.2, inplace=False)\n",
      "        )\n",
      "        (1): BRNNBlock(\n",
      "          (rnn): LSTM(1200, 600, bidirectional=True)\n",
      "          (dropout): Dropout(p=0.2, inplace=False)\n",
      "        )\n",
      "        (2): BRNNBlock(\n",
      "          (rnn): LSTM(1200, 600, bidirectional=True)\n",
      "          (dropout): Dropout(p=0.2, inplace=False)\n",
      "        )\n",
      "      )\n",
      "      (dropout): Dropout(p=0.2, inplace=False)\n",
      "    )\n",
      "    (self_attn): LinearSeqAttn(\n",
      "      (linear): Linear(in_features=3600, out_features=1, bias=True)\n",
      "    )\n",
      "    (context_attn): BilinearSeqAttn(\n",
      "      (mask): MaskLayer()\n",
      "      (linear): Linear(in_features=3600, out_features=4800, bias=True)\n",
      "    )\n",
      "    (out): Linear(in_features=4800, out_features=2, bias=True)\n",
      "  )\n",
      ")\n"
     ]
    }
   ],
   "source": [
    "print(learner.model)"
   ]
  },
  {
   "cell_type": "code",
   "execution_count": 46,
   "metadata": {},
   "outputs": [
    {
     "name": "stdout",
     "output_type": "stream",
     "text": [
      "Ranger optimizer loaded. \n",
      "Gradient Centralization usage = True\n",
      "GC applied to both conv and fc layers\n"
     ]
    }
   ],
   "source": [
    "learner.freeze_to(1)"
   ]
  },
  {
   "cell_type": "code",
   "execution_count": 36,
   "metadata": {},
   "outputs": [
    {
     "data": {
      "text/html": [],
      "text/plain": [
       "<IPython.core.display.HTML object>"
      ]
     },
     "metadata": {},
     "output_type": "display_data"
    },
    {
     "ename": "ValueError",
     "evalue": "too many values to unpack (expected 4)",
     "output_type": "error",
     "traceback": [
      "\u001b[0;31m---------------------------------------------------------------------------\u001b[0m",
      "\u001b[0;31mValueError\u001b[0m                                Traceback (most recent call last)",
      "\u001b[0;32m<ipython-input-36-c574edd1e160>\u001b[0m in \u001b[0;36m<module>\u001b[0;34m\u001b[0m\n\u001b[0;32m----> 1\u001b[0;31m \u001b[0msummary\u001b[0m\u001b[0;34m(\u001b[0m\u001b[0mlearner\u001b[0m\u001b[0;34m)\u001b[0m\u001b[0;34m\u001b[0m\u001b[0;34m\u001b[0m\u001b[0m\n\u001b[0m",
      "\u001b[0;32m/code/fastaifix/learner.py\u001b[0m in \u001b[0;36msummary\u001b[0;34m(learner)\u001b[0m\n\u001b[1;32m     38\u001b[0m     \u001b[0;34m\"Print a summary of the model, optimizer and loss function.\"\u001b[0m\u001b[0;34m\u001b[0m\u001b[0;34m\u001b[0m\u001b[0m\n\u001b[1;32m     39\u001b[0m     \u001b[0mxb\u001b[0m \u001b[0;34m=\u001b[0m \u001b[0mlearner\u001b[0m\u001b[0;34m.\u001b[0m\u001b[0mdls\u001b[0m\u001b[0;34m.\u001b[0m\u001b[0mtrain\u001b[0m\u001b[0;34m.\u001b[0m\u001b[0mone_batch\u001b[0m\u001b[0;34m(\u001b[0m\u001b[0;34m)\u001b[0m\u001b[0;34m[\u001b[0m\u001b[0;34m:\u001b[0m\u001b[0mlearner\u001b[0m\u001b[0;34m.\u001b[0m\u001b[0mdls\u001b[0m\u001b[0;34m.\u001b[0m\u001b[0mtrain\u001b[0m\u001b[0;34m.\u001b[0m\u001b[0mn_inp\u001b[0m\u001b[0;34m]\u001b[0m\u001b[0;34m\u001b[0m\u001b[0;34m\u001b[0m\u001b[0m\n\u001b[0;32m---> 40\u001b[0;31m     \u001b[0mres\u001b[0m \u001b[0;34m=\u001b[0m \u001b[0mmodule_summary\u001b[0m\u001b[0;34m(\u001b[0m\u001b[0mlearner\u001b[0m\u001b[0;34m,\u001b[0m \u001b[0;34m*\u001b[0m\u001b[0mxb\u001b[0m\u001b[0;34m)\u001b[0m\u001b[0;34m\u001b[0m\u001b[0;34m\u001b[0m\u001b[0m\n\u001b[0m\u001b[1;32m     41\u001b[0m     \u001b[0mres\u001b[0m \u001b[0;34m+=\u001b[0m \u001b[0;34mf\"Optimizer used: {learner.opt_func}\\nLoss function: {learner.loss_func}\\n\\n\"\u001b[0m\u001b[0;34m\u001b[0m\u001b[0;34m\u001b[0m\u001b[0m\n\u001b[1;32m     42\u001b[0m     \u001b[0;32mif\u001b[0m \u001b[0mlearner\u001b[0m\u001b[0;34m.\u001b[0m\u001b[0mopt\u001b[0m \u001b[0;32mis\u001b[0m \u001b[0;32mnot\u001b[0m \u001b[0;32mNone\u001b[0m\u001b[0;34m:\u001b[0m\u001b[0;34m\u001b[0m\u001b[0;34m\u001b[0m\u001b[0m\n",
      "\u001b[0;32m/code/fastaifix/learner.py\u001b[0m in \u001b[0;36mmodule_summary\u001b[0;34m(learn, *xb)\u001b[0m\n\u001b[1;32m     24\u001b[0m     \u001b[0mps\u001b[0m\u001b[0;34m,\u001b[0m\u001b[0mtrn_ps\u001b[0m \u001b[0;34m=\u001b[0m \u001b[0;36m0\u001b[0m\u001b[0;34m,\u001b[0m\u001b[0;36m0\u001b[0m\u001b[0;34m\u001b[0m\u001b[0;34m\u001b[0m\u001b[0m\n\u001b[1;32m     25\u001b[0m     \u001b[0minfos\u001b[0m \u001b[0;34m=\u001b[0m \u001b[0;34m[\u001b[0m\u001b[0mo\u001b[0m \u001b[0;32mfor\u001b[0m \u001b[0mo\u001b[0m \u001b[0;32min\u001b[0m \u001b[0minfos\u001b[0m \u001b[0;32mif\u001b[0m \u001b[0mo\u001b[0m \u001b[0;32mis\u001b[0m \u001b[0;32mnot\u001b[0m \u001b[0;32mNone\u001b[0m\u001b[0;34m]\u001b[0m \u001b[0;31m#see comment in previous cell\u001b[0m\u001b[0;34m\u001b[0m\u001b[0;34m\u001b[0m\u001b[0m\n\u001b[0;32m---> 26\u001b[0;31m     \u001b[0;32mfor\u001b[0m \u001b[0mtyp\u001b[0m\u001b[0;34m,\u001b[0m\u001b[0mnp\u001b[0m\u001b[0;34m,\u001b[0m\u001b[0mtrn\u001b[0m\u001b[0;34m,\u001b[0m\u001b[0msz\u001b[0m \u001b[0;32min\u001b[0m \u001b[0minfos\u001b[0m\u001b[0;34m:\u001b[0m\u001b[0;34m\u001b[0m\u001b[0;34m\u001b[0m\u001b[0m\n\u001b[0m\u001b[1;32m     27\u001b[0m         \u001b[0;32mif\u001b[0m \u001b[0msz\u001b[0m \u001b[0;32mis\u001b[0m \u001b[0;32mNone\u001b[0m\u001b[0;34m:\u001b[0m \u001b[0;32mcontinue\u001b[0m\u001b[0;34m\u001b[0m\u001b[0;34m\u001b[0m\u001b[0m\n\u001b[1;32m     28\u001b[0m         \u001b[0mps\u001b[0m \u001b[0;34m+=\u001b[0m \u001b[0mnp\u001b[0m\u001b[0;34m\u001b[0m\u001b[0;34m\u001b[0m\u001b[0m\n",
      "\u001b[0;31mValueError\u001b[0m: too many values to unpack (expected 4)"
     ]
    }
   ],
   "source": [
    "# summary(learner)"
   ]
  },
  {
   "cell_type": "code",
   "execution_count": 50,
   "metadata": {},
   "outputs": [
    {
     "data": {
      "text/plain": [
       "False    1394\n",
       "True      606\n",
       "Name: label, dtype: int64"
      ]
     },
     "execution_count": 50,
     "metadata": {},
     "output_type": "execute_result"
    }
   ],
   "source": [
    "# learner = learner.to_fp16()\n",
    "# trainset[:2000]['label'].value_counts()"
   ]
  },
  {
   "cell_type": "code",
   "execution_count": 143,
   "metadata": {},
   "outputs": [
    {
     "data": {
      "text/plain": [
       "Path('models/untrain.pth')"
      ]
     },
     "execution_count": 143,
     "metadata": {},
     "output_type": "execute_result"
    }
   ],
   "source": [
    "learner.save('untrain')"
   ]
  },
  {
   "cell_type": "code",
   "execution_count": 144,
   "metadata": {},
   "outputs": [
    {
     "name": "stdout",
     "output_type": "stream",
     "text": [
      "set state called\n"
     ]
    },
    {
     "data": {
      "text/plain": [
       "<fastai.learner.Learner at 0x7fbc9beca850>"
      ]
     },
     "execution_count": 144,
     "metadata": {},
     "output_type": "execute_result"
    }
   ],
   "source": [
    "learner.load('untrain')"
   ]
  },
  {
   "cell_type": "code",
   "execution_count": 77,
   "metadata": {},
   "outputs": [
    {
     "data": {
      "text/html": [],
      "text/plain": [
       "<IPython.core.display.HTML object>"
      ]
     },
     "metadata": {},
     "output_type": "display_data"
    },
    {
     "data": {
      "text/plain": [
       "(#4) [0.6937046647071838,0.47062501311302185,0.36685645435144737,0.4884960728836895]"
      ]
     },
     "execution_count": 77,
     "metadata": {},
     "output_type": "execute_result"
    }
   ],
   "source": [
    "learner.validate()"
   ]
  },
  {
   "cell_type": "code",
   "execution_count": 78,
   "metadata": {},
   "outputs": [
    {
     "name": "stdout",
     "output_type": "stream",
     "text": [
      "Ranger optimizer loaded. \n",
      "Gradient Centralization usage = True\n",
      "GC applied to both conv and fc layers\n"
     ]
    },
    {
     "data": {
      "text/html": [],
      "text/plain": [
       "<IPython.core.display.HTML object>"
      ]
     },
     "metadata": {},
     "output_type": "display_data"
    },
    {
     "name": "stdout",
     "output_type": "stream",
     "text": [
      "set state called\n"
     ]
    },
    {
     "data": {
      "text/plain": [
       "SuggestedLRs(lr_min=0.0033113110810518267, lr_steep=1.0964782238006592)"
      ]
     },
     "execution_count": 78,
     "metadata": {},
     "output_type": "execute_result"
    },
    {
     "data": {
      "image/png": "[encoded data removed]",
      "text/plain": [
       "<Figure size 432x288 with 1 Axes>"
      ]
     },
     "metadata": {
      "needs_background": "light"
     },
     "output_type": "display_data"
    }
   ],
   "source": [
    "learner.lr_find()"
   ]
  },
  {
   "cell_type": "code",
   "execution_count": 62,
   "metadata": {},
   "outputs": [],
   "source": [
    "# learner.fit_one_cycle(1, lr_max=1e-2)"
   ]
  },
  {
   "cell_type": "code",
   "execution_count": 79,
   "metadata": {},
   "outputs": [
    {
     "data": {
      "text/html": [
       "<table border=\"1\" class=\"dataframe\">\n",
       "  <thead>\n",
       "    <tr style=\"text-align: left;\">\n",
       "      <th>epoch</th>\n",
       "      <th>train_loss</th>\n",
       "      <th>valid_loss</th>\n",
       "      <th>accuracy</th>\n",
       "      <th>f1</th>\n",
       "      <th>auroc</th>\n",
       "      <th>time</th>\n",
       "    </tr>\n",
       "  </thead>\n",
       "  <tbody>\n",
       "    <tr>\n",
       "      <td>0</td>\n",
       "      <td>0.696516</td>\n",
       "      <td>0.683647</td>\n",
       "      <td>0.476875</td>\n",
       "      <td>0.444591</td>\n",
       "      <td>0.579547</td>\n",
       "      <td>00:28</td>\n",
       "    </tr>\n",
       "    <tr>\n",
       "      <td>1</td>\n",
       "      <td>0.685972</td>\n",
       "      <td>0.701125</td>\n",
       "      <td>0.565625</td>\n",
       "      <td>0.397618</td>\n",
       "      <td>0.551715</td>\n",
       "      <td>00:28</td>\n",
       "    </tr>\n",
       "    <tr>\n",
       "      <td>2</td>\n",
       "      <td>0.639696</td>\n",
       "      <td>0.692893</td>\n",
       "      <td>0.550625</td>\n",
       "      <td>0.432711</td>\n",
       "      <td>0.571870</td>\n",
       "      <td>00:28</td>\n",
       "    </tr>\n",
       "  </tbody>\n",
       "</table>"
      ],
      "text/plain": [
       "<IPython.core.display.HTML object>"
      ]
     },
     "metadata": {},
     "output_type": "display_data"
    },
    {
     "data": {
      "image/png": "[encoded data removed]",
      "text/plain": [
       "<Figure size 432x288 with 1 Axes>"
      ]
     },
     "metadata": {},
     "output_type": "display_data"
    }
   ],
   "source": [
    "# Option khac\n",
    "learner.fit_one_cycle(3,lr_max=8e-3,moms=(0.99,0.95, 0.99))"
   ]
  },
  {
   "cell_type": "code",
   "execution_count": 103,
   "metadata": {},
   "outputs": [
    {
     "data": {
      "text/html": [],
      "text/plain": [
       "<IPython.core.display.HTML object>"
      ]
     },
     "metadata": {},
     "output_type": "display_data"
    },
    {
     "name": "stdout",
     "output_type": "stream",
     "text": [
      "set state called\n"
     ]
    },
    {
     "data": {
      "text/plain": [
       "SuggestedLRs(lr_min=9.12010818865383e-08, lr_steep=7.585775847473997e-07)"
      ]
     },
     "execution_count": 103,
     "metadata": {},
     "output_type": "execute_result"
    },
    {
     "data": {
      "image/png": "[encoded data removed]",
      "text/plain": [
       "<Figure size 432x288 with 1 Axes>"
      ]
     },
     "metadata": {
      "needs_background": "light"
     },
     "output_type": "display_data"
    }
   ],
   "source": [
    "learner.lr_find()"
   ]
  },
  {
   "cell_type": "code",
   "execution_count": 104,
   "metadata": {},
   "outputs": [
    {
     "data": {
      "text/html": [
       "<table border=\"1\" class=\"dataframe\">\n",
       "  <thead>\n",
       "    <tr style=\"text-align: left;\">\n",
       "      <th>epoch</th>\n",
       "      <th>train_loss</th>\n",
       "      <th>valid_loss</th>\n",
       "      <th>accuracy</th>\n",
       "      <th>f1</th>\n",
       "      <th>auroc</th>\n",
       "      <th>time</th>\n",
       "    </tr>\n",
       "  </thead>\n",
       "  <tbody>\n",
       "    <tr>\n",
       "      <td>0</td>\n",
       "      <td>0.659374</td>\n",
       "      <td>0.667578</td>\n",
       "      <td>0.590997</td>\n",
       "      <td>0.407465</td>\n",
       "      <td>0.537264</td>\n",
       "      <td>00:31</td>\n",
       "    </tr>\n",
       "  </tbody>\n",
       "</table>"
      ],
      "text/plain": [
       "<IPython.core.display.HTML object>"
      ]
     },
     "metadata": {},
     "output_type": "display_data"
    },
    {
     "data": {
      "image/png": "[encoded data removed]",
      "text/plain": [
       "<Figure size 432x288 with 1 Axes>"
      ]
     },
     "metadata": {},
     "output_type": "display_data"
    }
   ],
   "source": [
    "learner.fit_one_cycle(1,lr_max=2e-7,moms=(0.99,0.95, 0.99))"
   ]
  },
  {
   "cell_type": "code",
   "execution_count": 106,
   "metadata": {},
   "outputs": [
    {
     "data": {
      "text/html": [],
      "text/plain": [
       "<IPython.core.display.HTML object>"
      ]
     },
     "metadata": {},
     "output_type": "display_data"
    },
    {
     "name": "stdout",
     "output_type": "stream",
     "text": [
      "set state called\n"
     ]
    },
    {
     "data": {
      "text/plain": [
       "SuggestedLRs(lr_min=0.0009120108559727668, lr_steep=0.2089296132326126)"
      ]
     },
     "execution_count": 106,
     "metadata": {},
     "output_type": "execute_result"
    },
    {
     "data": {
      "image/png": "[encoded data removed]",
      "text/plain": [
       "<Figure size 432x288 with 1 Axes>"
      ]
     },
     "metadata": {
      "needs_background": "light"
     },
     "output_type": "display_data"
    }
   ],
   "source": [
    "learner.lr_find()"
   ]
  },
  {
   "cell_type": "code",
   "execution_count": 107,
   "metadata": {},
   "outputs": [
    {
     "data": {
      "text/html": [
       "<table border=\"1\" class=\"dataframe\">\n",
       "  <thead>\n",
       "    <tr style=\"text-align: left;\">\n",
       "      <th>epoch</th>\n",
       "      <th>train_loss</th>\n",
       "      <th>valid_loss</th>\n",
       "      <th>accuracy</th>\n",
       "      <th>f1</th>\n",
       "      <th>auroc</th>\n",
       "      <th>time</th>\n",
       "    </tr>\n",
       "  </thead>\n",
       "  <tbody>\n",
       "    <tr>\n",
       "      <td>0</td>\n",
       "      <td>0.662501</td>\n",
       "      <td>0.679655</td>\n",
       "      <td>0.508975</td>\n",
       "      <td>0.451011</td>\n",
       "      <td>0.526576</td>\n",
       "      <td>00:31</td>\n",
       "    </tr>\n",
       "    <tr>\n",
       "      <td>1</td>\n",
       "      <td>0.656570</td>\n",
       "      <td>0.656757</td>\n",
       "      <td>0.647887</td>\n",
       "      <td>0.377478</td>\n",
       "      <td>0.559897</td>\n",
       "      <td>00:31</td>\n",
       "    </tr>\n",
       "    <tr>\n",
       "      <td>2</td>\n",
       "      <td>0.646111</td>\n",
       "      <td>0.644479</td>\n",
       "      <td>0.647611</td>\n",
       "      <td>0.403503</td>\n",
       "      <td>0.575800</td>\n",
       "      <td>00:31</td>\n",
       "    </tr>\n",
       "    <tr>\n",
       "      <td>3</td>\n",
       "      <td>0.600182</td>\n",
       "      <td>0.647906</td>\n",
       "      <td>0.611433</td>\n",
       "      <td>0.438129</td>\n",
       "      <td>0.573672</td>\n",
       "      <td>00:31</td>\n",
       "    </tr>\n",
       "    <tr>\n",
       "      <td>4</td>\n",
       "      <td>0.560802</td>\n",
       "      <td>0.643939</td>\n",
       "      <td>0.631870</td>\n",
       "      <td>0.435849</td>\n",
       "      <td>0.577733</td>\n",
       "      <td>00:31</td>\n",
       "    </tr>\n",
       "  </tbody>\n",
       "</table>"
      ],
      "text/plain": [
       "<IPython.core.display.HTML object>"
      ]
     },
     "metadata": {},
     "output_type": "display_data"
    },
    {
     "data": {
      "image/png": "[encoded data removed]",
      "text/plain": [
       "<Figure size 432x288 with 1 Axes>"
      ]
     },
     "metadata": {},
     "output_type": "display_data"
    },
    {
     "name": "stderr",
     "output_type": "stream",
     "text": [
      "/python/lib/python3.8/site-packages/sklearn/metrics/_classification.py:1464: UndefinedMetricWarning: F-score is ill-defined and being set to 0.0 due to no true nor predicted samples. Use `zero_division` parameter to control this behavior.\n",
      "  _warn_prf(\n",
      "/python/lib/python3.8/site-packages/sklearn/metrics/_classification.py:1464: UndefinedMetricWarning: F-score is ill-defined and being set to 0.0 due to no true nor predicted samples. Use `zero_division` parameter to control this behavior.\n",
      "  _warn_prf(\n",
      "/python/lib/python3.8/site-packages/sklearn/metrics/_classification.py:1464: UndefinedMetricWarning: F-score is ill-defined and being set to 0.0 due to no true nor predicted samples. Use `zero_division` parameter to control this behavior.\n",
      "  _warn_prf(\n",
      "/python/lib/python3.8/site-packages/sklearn/metrics/_classification.py:1464: UndefinedMetricWarning: F-score is ill-defined and being set to 0.0 due to no true nor predicted samples. Use `zero_division` parameter to control this behavior.\n",
      "  _warn_prf(\n"
     ]
    }
   ],
   "source": [
    "learner.fit_one_cycle(5,lr_max=1e-3,moms=(0.99,0.95, 0.99))"
   ]
  },
  {
   "cell_type": "code",
   "execution_count": 109,
   "metadata": {},
   "outputs": [
    {
     "data": {
      "text/html": [],
      "text/plain": [
       "<IPython.core.display.HTML object>"
      ]
     },
     "metadata": {},
     "output_type": "display_data"
    },
    {
     "name": "stdout",
     "output_type": "stream",
     "text": [
      "set state called\n"
     ]
    },
    {
     "data": {
      "text/plain": [
       "SuggestedLRs(lr_min=3.6307807022240014e-06, lr_steep=5.754399353463668e-06)"
      ]
     },
     "execution_count": 109,
     "metadata": {},
     "output_type": "execute_result"
    },
    {
     "data": {
      "image/png": "[encoded data removed]",
      "text/plain": [
       "<Figure size 432x288 with 1 Axes>"
      ]
     },
     "metadata": {
      "needs_background": "light"
     },
     "output_type": "display_data"
    }
   ],
   "source": [
    "learner.lr_find()"
   ]
  },
  {
   "cell_type": "code",
   "execution_count": 110,
   "metadata": {},
   "outputs": [
    {
     "data": {
      "text/html": [
       "<table border=\"1\" class=\"dataframe\">\n",
       "  <thead>\n",
       "    <tr style=\"text-align: left;\">\n",
       "      <th>epoch</th>\n",
       "      <th>train_loss</th>\n",
       "      <th>valid_loss</th>\n",
       "      <th>accuracy</th>\n",
       "      <th>f1</th>\n",
       "      <th>auroc</th>\n",
       "      <th>time</th>\n",
       "    </tr>\n",
       "  </thead>\n",
       "  <tbody>\n",
       "    <tr>\n",
       "      <td>0</td>\n",
       "      <td>0.562848</td>\n",
       "      <td>0.644095</td>\n",
       "      <td>0.632146</td>\n",
       "      <td>0.436590</td>\n",
       "      <td>0.577936</td>\n",
       "      <td>00:32</td>\n",
       "    </tr>\n",
       "    <tr>\n",
       "      <td>1</td>\n",
       "      <td>0.553357</td>\n",
       "      <td>0.643960</td>\n",
       "      <td>0.630765</td>\n",
       "      <td>0.433522</td>\n",
       "      <td>0.578168</td>\n",
       "      <td>00:31</td>\n",
       "    </tr>\n",
       "    <tr>\n",
       "      <td>2</td>\n",
       "      <td>0.557477</td>\n",
       "      <td>0.643870</td>\n",
       "      <td>0.630489</td>\n",
       "      <td>0.435738</td>\n",
       "      <td>0.578386</td>\n",
       "      <td>00:31</td>\n",
       "    </tr>\n",
       "    <tr>\n",
       "      <td>3</td>\n",
       "      <td>0.554863</td>\n",
       "      <td>0.644092</td>\n",
       "      <td>0.631593</td>\n",
       "      <td>0.435463</td>\n",
       "      <td>0.577655</td>\n",
       "      <td>00:31</td>\n",
       "    </tr>\n",
       "    <tr>\n",
       "      <td>4</td>\n",
       "      <td>0.551004</td>\n",
       "      <td>0.644074</td>\n",
       "      <td>0.631870</td>\n",
       "      <td>0.435983</td>\n",
       "      <td>0.577810</td>\n",
       "      <td>00:31</td>\n",
       "    </tr>\n",
       "  </tbody>\n",
       "</table>"
      ],
      "text/plain": [
       "<IPython.core.display.HTML object>"
      ]
     },
     "metadata": {},
     "output_type": "display_data"
    },
    {
     "name": "stderr",
     "output_type": "stream",
     "text": [
      "/python/lib/python3.8/site-packages/sklearn/metrics/_classification.py:1464: UndefinedMetricWarning: F-score is ill-defined and being set to 0.0 due to no true nor predicted samples. Use `zero_division` parameter to control this behavior.\n",
      "  _warn_prf(\n"
     ]
    },
    {
     "data": {
      "image/png": "[encoded data removed]",
      "text/plain": [
       "<Figure size 432x288 with 1 Axes>"
      ]
     },
     "metadata": {},
     "output_type": "display_data"
    },
    {
     "name": "stderr",
     "output_type": "stream",
     "text": [
      "/python/lib/python3.8/site-packages/sklearn/metrics/_classification.py:1464: UndefinedMetricWarning: F-score is ill-defined and being set to 0.0 due to no true nor predicted samples. Use `zero_division` parameter to control this behavior.\n",
      "  _warn_prf(\n",
      "/python/lib/python3.8/site-packages/sklearn/metrics/_classification.py:1464: UndefinedMetricWarning: F-score is ill-defined and being set to 0.0 due to no true nor predicted samples. Use `zero_division` parameter to control this behavior.\n",
      "  _warn_prf(\n",
      "/python/lib/python3.8/site-packages/sklearn/metrics/_classification.py:1464: UndefinedMetricWarning: F-score is ill-defined and being set to 0.0 due to no true nor predicted samples. Use `zero_division` parameter to control this behavior.\n",
      "  _warn_prf(\n",
      "/python/lib/python3.8/site-packages/sklearn/metrics/_classification.py:1464: UndefinedMetricWarning: F-score is ill-defined and being set to 0.0 due to no true nor predicted samples. Use `zero_division` parameter to control this behavior.\n",
      "  _warn_prf(\n"
     ]
    }
   ],
   "source": [
    "learner.fit_one_cycle(5,lr_max=1e-5,moms=(0.99,0.95, 0.99))"
   ]
  },
  {
   "cell_type": "code",
   "execution_count": 105,
   "metadata": {},
   "outputs": [
    {
     "data": {
      "text/plain": [
       "Path('models/2rd.pth')"
      ]
     },
     "execution_count": 105,
     "metadata": {},
     "output_type": "execute_result"
    }
   ],
   "source": [
    "learner.save('2rd')"
   ]
  },
  {
   "cell_type": "code",
   "execution_count": null,
   "metadata": {},
   "outputs": [],
   "source": [
    "learner.load('2rd')"
   ]
  },
  {
   "cell_type": "code",
   "execution_count": 57,
   "metadata": {},
   "outputs": [
    {
     "data": {
      "image/png": "[encoded data removed]",
      "text/plain": [
       "<Figure size 432x288 with 1 Axes>"
      ]
     },
     "metadata": {
      "needs_background": "light"
     },
     "output_type": "display_data"
    }
   ],
   "source": [
    "learner.recorder.plot_loss()"
   ]
  },
  {
   "cell_type": "code",
   "execution_count": 65,
   "metadata": {},
   "outputs": [
    {
     "name": "stdout",
     "output_type": "stream",
     "text": [
      "Ranger optimizer loaded. \n",
      "Gradient Centralization usage = True\n",
      "GC applied to both conv and fc layers\n",
      "set state called\n"
     ]
    }
   ],
   "source": [
    "learner.export('drqa02.pkl')"
   ]
  },
  {
   "cell_type": "code",
   "execution_count": 99,
   "metadata": {},
   "outputs": [
    {
     "data": {
      "text/html": [],
      "text/plain": [
       "<IPython.core.display.HTML object>"
      ]
     },
     "metadata": {},
     "output_type": "display_data"
    }
   ],
   "source": [
    "o,_ =learner.get_preds(ds_idx=1)\n",
    "labels = np.argmax(o.cpu().numpy(), axis=1) == 1"
   ]
  },
  {
   "cell_type": "code",
   "execution_count": 88,
   "metadata": {},
   "outputs": [
    {
     "name": "stdout",
     "output_type": "stream",
     "text": [
      "tỉ lệ nhãn dự đoán là true\n",
      "0.35112256164887745\n"
     ]
    }
   ],
   "source": [
    "print('tỉ lệ nhãn dự đoán là true')\n",
    "print(np.sum(labels) / labels.shape[0])"
   ]
  },
  {
   "cell_type": "code",
   "execution_count": 58,
   "metadata": {},
   "outputs": [],
   "source": [
    "orig_val = pd.read_csv('dataset/qaset/valid_set.csv')\n",
    "results = pd.DataFrame({'Question': orig_val['question'], 'Text': orig_val['text'], 'Pred': labels,'True Label': orig_val['label']})"
   ]
  },
  {
   "cell_type": "code",
   "execution_count": 97,
   "metadata": {},
   "outputs": [
    {
     "data": {
      "text/html": [
       "<div>\n",
       "<style scoped>\n",
       "    .dataframe tbody tr th:only-of-type {\n",
       "        vertical-align: middle;\n",
       "    }\n",
       "\n",
       "    .dataframe tbody tr th {\n",
       "        vertical-align: top;\n",
       "    }\n",
       "\n",
       "    .dataframe thead th {\n",
       "        text-align: right;\n",
       "    }\n",
       "</style>\n",
       "<table border=\"1\" class=\"dataframe\">\n",
       "  <thead>\n",
       "    <tr style=\"text-align: right;\">\n",
       "      <th></th>\n",
       "      <th>Question</th>\n",
       "      <th>Text</th>\n",
       "      <th>Pred</th>\n",
       "      <th>True Label</th>\n",
       "    </tr>\n",
       "  </thead>\n",
       "  <tbody>\n",
       "    <tr>\n",
       "      <th>1928</th>\n",
       "      <td>Tỉnh Kon Tum có dãy núi nổi tiếng nào</td>\n",
       "      <td>Dãy núi Alpes maritimes là một dãy núi ở phía tây nam của dãy núi Alpes. Dãy núi này làm thành biên giới giữa tỉnh Alpes-Maritimes của Pháp và tỉnh Cuneo của Ý. Đèo Col de Tende chia cách dãy núi này với dãy núi Ligurian Alps; trong khi đèo Maddalena chia cách dãy núi này với dãy núi Cottian Alps. Vườn quốc gia Mercantour của Pháp nằm trong dãy núi này.</td>\n",
       "      <td>True</td>\n",
       "      <td>False</td>\n",
       "    </tr>\n",
       "    <tr>\n",
       "      <th>2649</th>\n",
       "      <td>chủ tịch ủy ban nhân dân hiện tại của tỉnh Gia Lai là người nào</td>\n",
       "      <td>Tỉnh Gia Lai hiện có 4 nhà máy thuỷ điện lớn có công suất lớn hơn 100MW , gồm có Yali , Kanak-An Khê , Sêsan 3 , và Sêsan 4 .</td>\n",
       "      <td>False</td>\n",
       "      <td>False</td>\n",
       "    </tr>\n",
       "    <tr>\n",
       "      <th>1150</th>\n",
       "      <td>Iran nằm ở khu vực nào</td>\n",
       "      <td>Cuộc Cách mạng năm 1979 dẫn tới việc thành lập nhà nước thần quyền \" Cộng hoà Hồi giáo Iran \" .</td>\n",
       "      <td>False</td>\n",
       "      <td>False</td>\n",
       "    </tr>\n",
       "    <tr>\n",
       "      <th>473</th>\n",
       "      <td>Thủ đô của Myanmar là gì</td>\n",
       "      <td>So với các nước khu vực Đông Nam Á , Myanmar có giá mại dâm tương đối rẻ . Một khu đèn đỏ cũng xuất hiện ở Naypyidaw , thủ đô mới của Myanmar , với những nhà chứa ẩn mình trong các tiệm làm đẹp và các tiệm mát xa thu hút chủ yếu là doanh nhân và nhân viên quân sự .</td>\n",
       "      <td>True</td>\n",
       "      <td>True</td>\n",
       "    </tr>\n",
       "    <tr>\n",
       "      <th>1318</th>\n",
       "      <td>Vai trò của phù dâu và phù rể trong đám cưới</td>\n",
       "      <td>Em gái của cô là phù dâu trong đám cưới của cô với David Leepson trong năm 2012 của cô.</td>\n",
       "      <td>False</td>\n",
       "      <td>False</td>\n",
       "    </tr>\n",
       "  </tbody>\n",
       "</table>\n",
       "</div>"
      ],
      "text/plain": [
       "                                                             Question  \\\n",
       "1928                            Tỉnh Kon Tum có dãy núi nổi tiếng nào   \n",
       "2649  chủ tịch ủy ban nhân dân hiện tại của tỉnh Gia Lai là người nào   \n",
       "1150                                           Iran nằm ở khu vực nào   \n",
       "473                                          Thủ đô của Myanmar là gì   \n",
       "1318                     Vai trò của phù dâu và phù rể trong đám cưới   \n",
       "\n",
       "                                                                                                                                                                                                                                                                                                                                                                     Text  \\\n",
       "1928  Dãy núi Alpes maritimes là một dãy núi ở phía tây nam của dãy núi Alpes. Dãy núi này làm thành biên giới giữa tỉnh Alpes-Maritimes của Pháp và tỉnh Cuneo của Ý. Đèo Col de Tende chia cách dãy núi này với dãy núi Ligurian Alps; trong khi đèo Maddalena chia cách dãy núi này với dãy núi Cottian Alps. Vườn quốc gia Mercantour của Pháp nằm trong dãy núi này.   \n",
       "2649                                                                                                                                                                                                                                        Tỉnh Gia Lai hiện có 4 nhà máy thuỷ điện lớn có công suất lớn hơn 100MW , gồm có Yali , Kanak-An Khê , Sêsan 3 , và Sêsan 4 .   \n",
       "1150                                                                                                                                                                                                                                                                      Cuộc Cách mạng năm 1979 dẫn tới việc thành lập nhà nước thần quyền \" Cộng hoà Hồi giáo Iran \" .   \n",
       "473                                                                                             So với các nước khu vực Đông Nam Á , Myanmar có giá mại dâm tương đối rẻ . Một khu đèn đỏ cũng xuất hiện ở Naypyidaw , thủ đô mới của Myanmar , với những nhà chứa ẩn mình trong các tiệm làm đẹp và các tiệm mát xa thu hút chủ yếu là doanh nhân và nhân viên quân sự .   \n",
       "1318                                                                                                                                                                                                                                                                              Em gái của cô là phù dâu trong đám cưới của cô với David Leepson trong năm 2012 của cô.   \n",
       "\n",
       "       Pred  True Label  \n",
       "1928   True       False  \n",
       "2649  False       False  \n",
       "1150  False       False  \n",
       "473    True        True  \n",
       "1318  False       False  "
      ]
     },
     "execution_count": 97,
     "metadata": {},
     "output_type": "execute_result"
    }
   ],
   "source": [
    "results.sample(frac=1).head(5)"
   ]
  },
  {
   "cell_type": "code",
   "execution_count": 89,
   "metadata": {},
   "outputs": [],
   "source": [
    "wrong = results.loc[results['Pred'] != results['True Label']]"
   ]
  },
  {
   "cell_type": "code",
   "execution_count": 90,
   "metadata": {},
   "outputs": [
    {
     "data": {
      "text/html": [
       "<div>\n",
       "<style scoped>\n",
       "    .dataframe tbody tr th:only-of-type {\n",
       "        vertical-align: middle;\n",
       "    }\n",
       "\n",
       "    .dataframe tbody tr th {\n",
       "        vertical-align: top;\n",
       "    }\n",
       "\n",
       "    .dataframe thead th {\n",
       "        text-align: right;\n",
       "    }\n",
       "</style>\n",
       "<table border=\"1\" class=\"dataframe\">\n",
       "  <thead>\n",
       "    <tr style=\"text-align: right;\">\n",
       "      <th></th>\n",
       "      <th>Question</th>\n",
       "      <th>Text</th>\n",
       "      <th>Pred</th>\n",
       "      <th>True Label</th>\n",
       "    </tr>\n",
       "  </thead>\n",
       "  <tbody>\n",
       "    <tr>\n",
       "      <th>1</th>\n",
       "      <td>Đơn vị tiền tệ của Thái Lan là gì</td>\n",
       "      <td>Cho đến ngày 27 tháng 11 năm 1902, đồng tical đã được cố định trên một cơ sở bạc ròng, với 15 g bạc là 1 bạt. Điều này khiến cho giá trị đơn vị tiền tệ của Thái Lan dễ biến động so với các đồng tiền theo chế độ bản vị vàng. Năm 1857, giá trị của một số đồng tiền bạc nhất định đã được cố định theo quy định của pháp luật, với 1 bạt= 0,6 Straits dollar và 5 bạt = 7 rupee Ấn Độ. Trước năm 1880, tỷ giá hối đoái đã được cố định ở mức 8 bạt một Bảng Anh, song đã tụt xuống 10 bạt một bảng trong thập niên 1880.</td>\n",
       "      <td>False</td>\n",
       "      <td>True</td>\n",
       "    </tr>\n",
       "    <tr>\n",
       "      <th>25</th>\n",
       "      <td>Hoàng đế đầu tiên của Đại Việt từng chọn Huế làm kinh đô</td>\n",
       "      <td>Từ thời các chúa Nguyễn, Huế đã từng được chọn làm thủ phủ xứ Đàng Trong: năm 1635-1687 Nguyễn Phúc Lan, Nguyễn Phúc Tần dựng phủ ở Kim Long; đến thời Nguyễn Phúc Thái, Nguyễn Phúc Khoát đã dời phủ về Phú Xuân trong những năm 1687-1712; 1739-1774. Đến thời Tây Sơn, Huế vẫn được vua Quang Trung chọn làm thành kinh đô cho vương quốc của ông. Năm 1802, khi Nguyễn Phúc Ánh lên ngôi hoàng đế, mở đầu cho vương triều Nguyễn kéo dài suốt 143 năm, một lần nữa lại chọn Huế làm nơi đóng đô.</td>\n",
       "      <td>False</td>\n",
       "      <td>True</td>\n",
       "    </tr>\n",
       "    <tr>\n",
       "      <th>38</th>\n",
       "      <td>Địa danh Mù Cang Chải thuộc tỉnh nào ở Việt Nam</td>\n",
       "      <td>Khao Mang là một xã thuộc huyện Mù Cang Chải, tỉnh Yên Bái, Việt Nam.</td>\n",
       "      <td>False</td>\n",
       "      <td>True</td>\n",
       "    </tr>\n",
       "    <tr>\n",
       "      <th>45</th>\n",
       "      <td>vấn đề tranh chấp các đảo với các nước trong khu vực</td>\n",
       "      <td>Chính phủ Malaysia theo chủ nghĩa thực dụng trong chính sách đối với các tranh chấp lãnh thổ, giải quyết các tranh chấp theo một số phương pháp, chẳng hạn như đưa vụ việc ra Tòa án Công lý Quốc tế. Nhiều quốc gia trong khu vực tranh chấp chủ quyền đối với quần đảo Trường Sa. Brunei và Malaysia vào năm 2008 tuyên bố kết thúc tuyên bố chủ quyền đối với các vùng đất của nhau, và giải quyết các vấn đề liên quan đến biên giới trên biển. Philippines có tuyên bố chủ quyền không thi hành đối với Sabah. Hoạt động cải tạo đất của Singapore gây ra căng thẳng giữa hai bên, và Malaysia cũng có tranh ch...</td>\n",
       "      <td>False</td>\n",
       "      <td>True</td>\n",
       "    </tr>\n",
       "    <tr>\n",
       "      <th>46</th>\n",
       "      <td>Châu Phi chiếm bao nhiêu phần trăm diện tích đất đai Trái Đất</td>\n",
       "      <td>Châu Phi ( hay Phi châu ) là châu lục đứng thứ hai trên thế giới về dân số ( sau châu Á ) , thứ ba về diện tích ( sau châu Á và châu Mỹ ) . Với diện tích khoảng 30.221.532 km2 ( 11.668.599 mi2 ) bao gồm cả các đảo cận kề thì nó chiếm 20,4% tổng diện tích đất đai của Trái Đất .</td>\n",
       "      <td>False</td>\n",
       "      <td>True</td>\n",
       "    </tr>\n",
       "  </tbody>\n",
       "</table>\n",
       "</div>"
      ],
      "text/plain": [
       "                                                         Question  \\\n",
       "1                               Đơn vị tiền tệ của Thái Lan là gì   \n",
       "25       Hoàng đế đầu tiên của Đại Việt từng chọn Huế làm kinh đô   \n",
       "38                Địa danh Mù Cang Chải thuộc tỉnh nào ở Việt Nam   \n",
       "45           vấn đề tranh chấp các đảo với các nước trong khu vực   \n",
       "46  Châu Phi chiếm bao nhiêu phần trăm diện tích đất đai Trái Đất   \n",
       "\n",
       "                                                                                                                                                                                                                                                                                                                                                                                                                                                                                                                                                                                                                       Text  \\\n",
       "1                                                                                               Cho đến ngày 27 tháng 11 năm 1902, đồng tical đã được cố định trên một cơ sở bạc ròng, với 15 g bạc là 1 bạt. Điều này khiến cho giá trị đơn vị tiền tệ của Thái Lan dễ biến động so với các đồng tiền theo chế độ bản vị vàng. Năm 1857, giá trị của một số đồng tiền bạc nhất định đã được cố định theo quy định của pháp luật, với 1 bạt= 0,6 Straits dollar và 5 bạt = 7 rupee Ấn Độ. Trước năm 1880, tỷ giá hối đoái đã được cố định ở mức 8 bạt một Bảng Anh, song đã tụt xuống 10 bạt một bảng trong thập niên 1880.   \n",
       "25                                                                                                                     Từ thời các chúa Nguyễn, Huế đã từng được chọn làm thủ phủ xứ Đàng Trong: năm 1635-1687 Nguyễn Phúc Lan, Nguyễn Phúc Tần dựng phủ ở Kim Long; đến thời Nguyễn Phúc Thái, Nguyễn Phúc Khoát đã dời phủ về Phú Xuân trong những năm 1687-1712; 1739-1774. Đến thời Tây Sơn, Huế vẫn được vua Quang Trung chọn làm thành kinh đô cho vương quốc của ông. Năm 1802, khi Nguyễn Phúc Ánh lên ngôi hoàng đế, mở đầu cho vương triều Nguyễn kéo dài suốt 143 năm, một lần nữa lại chọn Huế làm nơi đóng đô.   \n",
       "38                                                                                                                                                                                                                                                                                                                                                                                                                                                                                                                                                    Khao Mang là một xã thuộc huyện Mù Cang Chải, tỉnh Yên Bái, Việt Nam.   \n",
       "45  Chính phủ Malaysia theo chủ nghĩa thực dụng trong chính sách đối với các tranh chấp lãnh thổ, giải quyết các tranh chấp theo một số phương pháp, chẳng hạn như đưa vụ việc ra Tòa án Công lý Quốc tế. Nhiều quốc gia trong khu vực tranh chấp chủ quyền đối với quần đảo Trường Sa. Brunei và Malaysia vào năm 2008 tuyên bố kết thúc tuyên bố chủ quyền đối với các vùng đất của nhau, và giải quyết các vấn đề liên quan đến biên giới trên biển. Philippines có tuyên bố chủ quyền không thi hành đối với Sabah. Hoạt động cải tạo đất của Singapore gây ra căng thẳng giữa hai bên, và Malaysia cũng có tranh ch...   \n",
       "46                                                                                                                                                                                                                                                                                                                                    Châu Phi ( hay Phi châu ) là châu lục đứng thứ hai trên thế giới về dân số ( sau châu Á ) , thứ ba về diện tích ( sau châu Á và châu Mỹ ) . Với diện tích khoảng 30.221.532 km2 ( 11.668.599 mi2 ) bao gồm cả các đảo cận kề thì nó chiếm 20,4% tổng diện tích đất đai của Trái Đất .   \n",
       "\n",
       "     Pred  True Label  \n",
       "1   False        True  \n",
       "25  False        True  \n",
       "38  False        True  \n",
       "45  False        True  \n",
       "46  False        True  "
      ]
     },
     "execution_count": 90,
     "metadata": {},
     "output_type": "execute_result"
    }
   ],
   "source": [
    "wrong.head(5)"
   ]
  },
  {
   "cell_type": "code",
   "execution_count": 84,
   "metadata": {},
   "outputs": [
    {
     "data": {
      "text/plain": [
       "241"
      ]
     },
     "execution_count": 84,
     "metadata": {},
     "output_type": "execute_result"
    }
   ],
   "source": [
    "len(wrong_idx)"
   ]
  },
  {
   "cell_type": "code",
   "execution_count": 82,
   "metadata": {},
   "outputs": [],
   "source": [
    "\n"
   ]
  },
  {
   "cell_type": "code",
   "execution_count": 83,
   "metadata": {},
   "outputs": [
    {
     "data": {
      "text/html": [
       "<div>\n",
       "<style scoped>\n",
       "    .dataframe tbody tr th:only-of-type {\n",
       "        vertical-align: middle;\n",
       "    }\n",
       "\n",
       "    .dataframe tbody tr th {\n",
       "        vertical-align: top;\n",
       "    }\n",
       "\n",
       "    .dataframe thead th {\n",
       "        text-align: right;\n",
       "    }\n",
       "</style>\n",
       "<table border=\"1\" class=\"dataframe\">\n",
       "  <thead>\n",
       "    <tr style=\"text-align: right;\">\n",
       "      <th></th>\n",
       "      <th>Question</th>\n",
       "      <th>Text</th>\n",
       "      <th>Pred</th>\n",
       "      <th>True Label</th>\n",
       "    </tr>\n",
       "  </thead>\n",
       "  <tbody>\n",
       "    <tr>\n",
       "      <th>2542</th>\n",
       "      <td>ai là giám đốc công an hiện tại của Hòa Bình</td>\n",
       "      <td>Hệ thống Ứng phó Tình trạng Khẩn cấp đã từng lộ diện để đối phó với Nạn diệt chủng Rwanda vào năm 1994 . Ngày 19 tháng 11 năm 2007 Giám đốc Đoàn Hoà bình là Ronald Tschetter đổi tên Đoàn Khủng hoảng thành Đoàn Hoà bình Ứng phó .</td>\n",
       "      <td>False</td>\n",
       "      <td>False</td>\n",
       "    </tr>\n",
       "    <tr>\n",
       "      <th>1215</th>\n",
       "      <td>Hươu cao cổ sống ở đâu nhiều nhất</td>\n",
       "      <td>Các họ hàng hóa thạch gần nhất của chúng bao gồm họ Palaeomerycidae và họ Climacoceratidae trông tương tự như hươu, nhiều chi của họ thứ hai từng có thời được nhận dạng thành hươu cao cổ.</td>\n",
       "      <td>False</td>\n",
       "      <td>False</td>\n",
       "    </tr>\n",
       "    <tr>\n",
       "      <th>1889</th>\n",
       "      <td>Tỉnh Kon Tum có dãy núi nổi tiếng nào</td>\n",
       "      <td>Bayankhongor có hai rặng núi chính, dãy núi Khangai ở phía bắc và dãy núi Altay ở khu vự trung tâm. Ikh Bogd là ngọn núi cao nhất trong tỉnh với 3957 mét, là một phần của dãy Altai và nằm tại sum Bogd.</td>\n",
       "      <td>True</td>\n",
       "      <td>False</td>\n",
       "    </tr>\n",
       "    <tr>\n",
       "      <th>2254</th>\n",
       "      <td>châu Á có bao nhiêu quốc gia và vùng lãnh thổ</td>\n",
       "      <td>Đại hội Thể thao Trong nhà châu Á 2009 lần thứ 3 được tổ chức tại Hà Nội và một số địa phương khác của Việt Nam từ ngày 30 tháng 10 đến 8 tháng 11 năm 2009. Đại hội có 21 môn thi đấu, với 219 bộ huy chương để các vận động viên của 43 quốc gia và vùng lãnh thổ ở châu Á tranh tài.</td>\n",
       "      <td>False</td>\n",
       "      <td>False</td>\n",
       "    </tr>\n",
       "    <tr>\n",
       "      <th>429</th>\n",
       "      <td>Bà Nguyễn Thị Duệ đã dạy học ở đâu</td>\n",
       "      <td>Phủ chúa Trịnh Cảm phục tài năng của bà, vua Mạc không những không trách tội mà còn phong làm Tinh phi. Sau khi nhà Mạc sụp đổ, bà được chúa Trịnh mời vào dạy học trong phủ chúa.</td>\n",
       "      <td>True</td>\n",
       "      <td>True</td>\n",
       "    </tr>\n",
       "    <tr>\n",
       "      <th>979</th>\n",
       "      <td>Sa mạc Sahara ở đâu</td>\n",
       "      <td>Kiến bạc Sahara (Danh pháp khoa học: Cataglyphis bombycina) là một loài kiến trong họ Formicidae sống ở sa mạc Sahara. Chúng là một động vật sa mạc, cái nắng, cái nóng thiêu như đốt ở sa mạc không ảnh hướng tới chúng do chúng có cấu tạo đặc biệt.</td>\n",
       "      <td>False</td>\n",
       "      <td>False</td>\n",
       "    </tr>\n",
       "    <tr>\n",
       "      <th>806</th>\n",
       "      <td>Hội nghị Potsdam diễn ra vào ngày tháng năm nào</td>\n",
       "      <td>Hội nghị Potsdam được tổ chức ở Cecilienhof, cung điện của thái tử Wilhelm Hohenzollern, tại Potsdam, Đức từ 16 tháng 7 đến 2 tháng 8 năm 1945. Các quốc gia tham dự hội nghị là Liên bang Xô Viết, Anh và Mỹ. Đại diện của ba quốc gia gồm có tổng bí thư đảng cộng sản Liên Xô Joseph Stalin, thủ tướng Anh Winston Churchill người sau đó được thay bởi Clement Attlee, và tổng thống Mỹ Harry S. Truman. Stalin, Churchill và Truman - cũng như Atlee, người thay thế Churchill làm thủ tướng Anh sau khi đảng Lao động giành chiến thắng trước đảng Bảo Thủ trong cuộc bầu cử năm 1945 - đã nhóm họp để thống n...</td>\n",
       "      <td>True</td>\n",
       "      <td>True</td>\n",
       "    </tr>\n",
       "    <tr>\n",
       "      <th>850</th>\n",
       "      <td>Trần Trinh Huy chết năm bao nhiêu</td>\n",
       "      <td>Ông mất vào tháng 1 năm 1974 ở Sài Gòn và được đưa về an táng trong phần mộ gia đình tại ấp Cái Dầy , xã Châu Hưng , huyện Vĩnh Lợi , Bạc Liêu . Ba Huy mất sau khi hoang phí gần hết gia sản , chỉ để lại cho các con mấy căn phố lầu .</td>\n",
       "      <td>True</td>\n",
       "      <td>True</td>\n",
       "    </tr>\n",
       "    <tr>\n",
       "      <th>406</th>\n",
       "      <td>Hiện nay đã phát hiện bao nhiêu loại ung thư</td>\n",
       "      <td>Hiện có khoảng 200 loại ung thư. Không phải tất cả các khối u là ung thư ngoài ra còn có khối u lành tính không lan sang các bộ phận khác của cơ thể. Có thể dấu hiệu và triệu chứng bao gồm một khối u, chảy máu bất thường, ho kéo dài, không giải thích được, giảm cân , và một sự thay đổi trong đại tiểu tiện. Hiện nay có khoảng hơn 100 bệnh ung thư.</td>\n",
       "      <td>True</td>\n",
       "      <td>True</td>\n",
       "    </tr>\n",
       "    <tr>\n",
       "      <th>1904</th>\n",
       "      <td>Trận đấu bóng đá quốc tế đầu tiên trên thế giới diễn ra vào năm bao nhiêu</td>\n",
       "      <td>Cơ quan quản lý bóng đá thế giới , FIFA ( Fédération Internationale de Football Association , Liên đoàn bóng đá quốc tế ) được thành lập vào năm 1904 tại Paris với chủ tịch đầu tiên là ông Robert Guérin , một người Pháp , ngay từ khi thành lập FIFA đã tuyên bố sử dụng và tôn trọng bộ luật bóng đá do FA đưa ra .</td>\n",
       "      <td>True</td>\n",
       "      <td>False</td>\n",
       "    </tr>\n",
       "  </tbody>\n",
       "</table>\n",
       "</div>"
      ],
      "text/plain": [
       "                                                                       Question  \\\n",
       "2542                               ai là giám đốc công an hiện tại của Hòa Bình   \n",
       "1215                                          Hươu cao cổ sống ở đâu nhiều nhất   \n",
       "1889                                      Tỉnh Kon Tum có dãy núi nổi tiếng nào   \n",
       "2254                              châu Á có bao nhiêu quốc gia và vùng lãnh thổ   \n",
       "429                                          Bà Nguyễn Thị Duệ đã dạy học ở đâu   \n",
       "979                                                         Sa mạc Sahara ở đâu   \n",
       "806                             Hội nghị Potsdam diễn ra vào ngày tháng năm nào   \n",
       "850                                           Trần Trinh Huy chết năm bao nhiêu   \n",
       "406                                Hiện nay đã phát hiện bao nhiêu loại ung thư   \n",
       "1904  Trận đấu bóng đá quốc tế đầu tiên trên thế giới diễn ra vào năm bao nhiêu   \n",
       "\n",
       "                                                                                                                                                                                                                                                                                                                                                                                                                                                                                                                                                                                                                         Text  \\\n",
       "2542                                                                                                                                                                                                                                                                                                                                                                                     Hệ thống Ứng phó Tình trạng Khẩn cấp đã từng lộ diện để đối phó với Nạn diệt chủng Rwanda vào năm 1994 . Ngày 19 tháng 11 năm 2007 Giám đốc Đoàn Hoà bình là Ronald Tschetter đổi tên Đoàn Khủng hoảng thành Đoàn Hoà bình Ứng phó .   \n",
       "1215                                                                                                                                                                                                                                                                                                                                                                                                                              Các họ hàng hóa thạch gần nhất của chúng bao gồm họ Palaeomerycidae và họ Climacoceratidae trông tương tự như hươu, nhiều chi của họ thứ hai từng có thời được nhận dạng thành hươu cao cổ.   \n",
       "1889                                                                                                                                                                                                                                                                                                                                                                                                                Bayankhongor có hai rặng núi chính, dãy núi Khangai ở phía bắc và dãy núi Altay ở khu vự trung tâm. Ikh Bogd là ngọn núi cao nhất trong tỉnh với 3957 mét, là một phần của dãy Altai và nằm tại sum Bogd.   \n",
       "2254                                                                                                                                                                                                                                                                                                                                  Đại hội Thể thao Trong nhà châu Á 2009 lần thứ 3 được tổ chức tại Hà Nội và một số địa phương khác của Việt Nam từ ngày 30 tháng 10 đến 8 tháng 11 năm 2009. Đại hội có 21 môn thi đấu, với 219 bộ huy chương để các vận động viên của 43 quốc gia và vùng lãnh thổ ở châu Á tranh tài.   \n",
       "429                                                                                                                                                                                                                                                                                                                                                                                                                                        Phủ chúa Trịnh Cảm phục tài năng của bà, vua Mạc không những không trách tội mà còn phong làm Tinh phi. Sau khi nhà Mạc sụp đổ, bà được chúa Trịnh mời vào dạy học trong phủ chúa.   \n",
       "979                                                                                                                                                                                                                                                                                                                                                                    Kiến bạc Sahara (Danh pháp khoa học: Cataglyphis bombycina) là một loài kiến trong họ Formicidae sống ở sa mạc Sahara. Chúng là một động vật sa mạc, cái nắng, cái nóng thiêu như đốt ở sa mạc không ảnh hướng tới chúng do chúng có cấu tạo đặc biệt.   \n",
       "806   Hội nghị Potsdam được tổ chức ở Cecilienhof, cung điện của thái tử Wilhelm Hohenzollern, tại Potsdam, Đức từ 16 tháng 7 đến 2 tháng 8 năm 1945. Các quốc gia tham dự hội nghị là Liên bang Xô Viết, Anh và Mỹ. Đại diện của ba quốc gia gồm có tổng bí thư đảng cộng sản Liên Xô Joseph Stalin, thủ tướng Anh Winston Churchill người sau đó được thay bởi Clement Attlee, và tổng thống Mỹ Harry S. Truman. Stalin, Churchill và Truman - cũng như Atlee, người thay thế Churchill làm thủ tướng Anh sau khi đảng Lao động giành chiến thắng trước đảng Bảo Thủ trong cuộc bầu cử năm 1945 - đã nhóm họp để thống n...   \n",
       "850                                                                                                                                                                                                                                                                                                                                                                                  Ông mất vào tháng 1 năm 1974 ở Sài Gòn và được đưa về an táng trong phần mộ gia đình tại ấp Cái Dầy , xã Châu Hưng , huyện Vĩnh Lợi , Bạc Liêu . Ba Huy mất sau khi hoang phí gần hết gia sản , chỉ để lại cho các con mấy căn phố lầu .   \n",
       "406                                                                                                                                                                                                                                                              Hiện có khoảng 200 loại ung thư. Không phải tất cả các khối u là ung thư ngoài ra còn có khối u lành tính không lan sang các bộ phận khác của cơ thể. Có thể dấu hiệu và triệu chứng bao gồm một khối u, chảy máu bất thường, ho kéo dài, không giải thích được, giảm cân , và một sự thay đổi trong đại tiểu tiện. Hiện nay có khoảng hơn 100 bệnh ung thư.   \n",
       "1904                                                                                                                                                                                                                                                                                                 Cơ quan quản lý bóng đá thế giới , FIFA ( Fédération Internationale de Football Association , Liên đoàn bóng đá quốc tế ) được thành lập vào năm 1904 tại Paris với chủ tịch đầu tiên là ông Robert Guérin , một người Pháp , ngay từ khi thành lập FIFA đã tuyên bố sử dụng và tôn trọng bộ luật bóng đá do FA đưa ra .   \n",
       "\n",
       "       Pred  True Label  \n",
       "2542  False       False  \n",
       "1215  False       False  \n",
       "1889   True       False  \n",
       "2254  False       False  \n",
       "429    True        True  \n",
       "979   False       False  \n",
       "806    True        True  \n",
       "850    True        True  \n",
       "406    True        True  \n",
       "1904   True       False  "
      ]
     },
     "execution_count": 83,
     "metadata": {},
     "output_type": "execute_result"
    }
   ],
   "source": [
    "results.sample(frac=1).head(10)"
   ]
  },
  {
   "cell_type": "code",
   "execution_count": null,
   "metadata": {},
   "outputs": [],
   "source": []
  }
 ],
 "metadata": {
  "kernelspec": {
   "display_name": "Python 3",
   "language": "python",
   "name": "python3"
  },
  "language_info": {
   "codemirror_mode": {
    "name": "ipython",
    "version": 3
   },
   "file_extension": ".py",
   "mimetype": "text/x-python",
   "name": "python",
   "nbconvert_exporter": "python",
   "pygments_lexer": "ipython3",
   "version": "3.8.3"
  }
 },
 "nbformat": 4,
 "nbformat_minor": 4
}