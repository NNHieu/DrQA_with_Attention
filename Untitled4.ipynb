{
 "cells": [
  {
   "cell_type": "code",
   "execution_count": 11,
   "metadata": {},
   "outputs": [
    {
     "name": "stdout",
     "output_type": "stream",
     "text": [
      "The tensorboard extension is already loaded. To reload it, use:\n",
      "  %reload_ext tensorboard\n"
     ]
    }
   ],
   "source": [
    "%load_ext tensorboard"
   ]
  },
  {
   "cell_type": "code",
   "execution_count": 12,
   "metadata": {},
   "outputs": [
    {
     "data": {
      "text/plain": [
       "Reusing TensorBoard on port 6006 (pid 107), started 9:48:09 ago. (Use '!kill 107' to kill it.)"
      ]
     },
     "metadata": {},
     "output_type": "display_data"
    },
    {
     "data": {
      "text/html": [
       "\n",
       "      <iframe id=\"tensorboard-frame-1c056d7975550428\" width=\"100%\" height=\"800\" frameborder=\"0\">\n",
       "      </iframe>\n",
       "      <script>\n",
       "        (function() {\n",
       "          const frame = document.getElementById(\"tensorboard-frame-1c056d7975550428\");\n",
       "          const url = new URL(\"/\", window.location);\n",
       "          const port = 6006;\n",
       "          if (port) {\n",
       "            url.port = port;\n",
       "          }\n",
       "          frame.src = url;\n",
       "        })();\n",
       "      </script>\n",
       "    "
      ],
      "text/plain": [
       "<IPython.core.display.HTML object>"
      ]
     },
     "metadata": {},
     "output_type": "display_data"
    }
   ],
   "source": [
    "%tensorboard --logdir=tb_logs --host=0.0.0.0 --port=6006"
   ]
  },
  {
   "cell_type": "code",
   "execution_count": 14,
   "metadata": {},
   "outputs": [
    {
     "name": "stdout",
     "output_type": "stream",
     "text": [
      "USER         PID %CPU %MEM    VSZ   RSS TTY      STAT START   TIME COMMAND\n",
      "user           1  1.2  0.4 468508 79736 ?        Ssl  19:30   0:30 /opt/conda/bi\n",
      "user          90  0.0  0.0      0     0 ?        Zs   19:30   0:00 [node] <defun\n",
      "user         103  0.0  0.2 452324 47800 ?        Ssl  19:30   0:00 /opt/conda/bi\n",
      "user         104  0.0  0.2 452328 47864 ?        Ssl  19:30   0:00 /opt/conda/bi\n",
      "user         105  0.0  0.2 452324 47488 ?        Ssl  19:30   0:00 /opt/conda/bi\n",
      "user         106  0.0  0.2 452328 47784 ?        Ssl  19:30   0:00 /opt/conda/bi\n",
      "user         338 85.1 22.9 22148192 3757288 ?    Ssl  19:47  18:49 /opt/conda/bi\n",
      "user         583  0.1  0.2 459048 48700 ?        Ssl  20:03   0:00 /opt/conda/bi\n",
      "user         669  9.0  0.0      0     0 ?        Z    20:08   0:08 [tensorboard]\n",
      "user         696  2.0 19.8 22139960 3252984 ?    Sl   20:09   0:00 /opt/conda/bi\n",
      "user         697  2.1 19.8 22139972 3252484 ?    Sl   20:09   0:00 /opt/conda/bi\n",
      "user         698  2.2 19.8 22139984 3252344 ?    Sl   20:09   0:00 /opt/conda/bi\n",
      "user         699  2.1 19.9 22139996 3253048 ?    Sl   20:09   0:00 /opt/conda/bi\n",
      "user         714 45.0  0.0   4624   916 pts/0    Ss+  20:10   0:00 /bin/sh -c ps\n",
      "user         715  0.0  0.0  34624  3016 pts/0    R+   20:10   0:00 ps aux\n"
     ]
    }
   ],
   "source": [
    "!ps aux"
   ]
  },
  {
   "cell_type": "code",
   "execution_count": 13,
   "metadata": {},
   "outputs": [],
   "source": [
    "!kill 669"
   ]
  },
  {
   "cell_type": "code",
   "execution_count": null,
   "metadata": {},
   "outputs": [],
   "source": []
  }
 ],
 "metadata": {
  "kernelspec": {
   "display_name": "Python 3",
   "language": "python",
   "name": "python3"
  },
  "language_info": {
   "codemirror_mode": {
    "name": "ipython",
    "version": 3
   },
   "file_extension": ".py",
   "mimetype": "text/x-python",
   "name": "python",
   "nbconvert_exporter": "python",
   "pygments_lexer": "ipython3",
   "version": "3.8.3"
  }
 },
 "nbformat": 4,
 "nbformat_minor": 4
}
