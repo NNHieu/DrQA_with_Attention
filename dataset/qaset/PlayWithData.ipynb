{
 "cells": [
  {
   "source": [
    "[![Open In Colab](https://colab.research.google.com/assets/colab-badge.svg)](https://colab.research.google.com/github/NNHieu/TrueAnswer_ZaloAIChallenge2019_VietnameseWikiQA/blob/master/PlayWithData.ipynb)"
   ],
   "cell_type": "markdown",
   "metadata": {}
  },
  {
   "source": [
    "## Import lib và set dir"
   ],
   "cell_type": "markdown",
   "metadata": {}
  },
  {
   "cell_type": "code",
   "execution_count": 1,
   "metadata": {},
   "outputs": [],
   "source": [
    "from sklearn.feature_extraction.text import TfidfVectorizer,CountVectorizer\n",
    "import pandas as pd\n",
    "import os\n",
    "import json\n",
    "import importlib"
   ]
  },
  {
   "source": [
    "### Nếu chạy bằng Colab nhớ điền đường dãn đến thư mục Dataset ở drive"
   ],
   "cell_type": "markdown",
   "metadata": {}
  },
  {
   "cell_type": "code",
   "execution_count": 5,
   "metadata": {
    "tags": []
   },
   "outputs": [
    {
     "output_type": "stream",
     "name": "stdout",
     "text": [
      "Đang không chạy bằng google colab\n"
     ]
    }
   ],
   "source": [
    "if 'google.colab' in str(get_ipython()):\n",
    "    print(\"Đang chạy bằng google colab\")\n",
    "    \n",
    "    from google.colab import drive\n",
    "    drive.mount(\"/content/drive\", force_remount=True)\n",
    "    import os\n",
    "    os.chdir(\"drive/My Drive/<đường dãn đến Project>\")\n",
    "else:\n",
    "    print(\"Đang không chạy bằng google colab\")\n",
    "    # os.chdir(\"./Dataset\")\n",
    "DATASET_PATH = 'Dataset'"
   ]
  },
  {
   "cell_type": "code",
   "execution_count": null,
   "metadata": {},
   "outputs": [],
   "source": [
    "from textprocessor.text_transform import ZaloTextPreprocess"
   ]
  },
  {
   "source": [
    "## Mở các file train.json và test.json"
   ],
   "cell_type": "markdown",
   "metadata": {}
  },
  {
   "cell_type": "code",
   "execution_count": 6,
   "metadata": {},
   "outputs": [],
   "source": [
    "importlib.reload(zd)\n",
    "\n",
    "zltp = zd.ZaloTextPreprocess()\n",
    "zltp.load_data(DATASET_PATH)"
   ]
  },
  {
   "source": [
    "### Sơ qua dữ liệu dùng cho training:\n",
    "Tên file: train.json\n",
    "\n",
    "Bao gồm ~18K item đã được gán nhãn. Mỗi item bao gồm:\n",
    "\n",
    "* **id**: id của mỗi item\n",
    "* **question**: câu hỏi\n",
    "* **text**: đoạn text `liên quan` đến câu hỏi, kết quả từ 1 dummy search tool. Là 1 đoạn Wikipedia article.\n",
    "* **title**: title của Wikipedia article mà đoạn text được lấy từ.\n",
    "* **label**: nhãn, 2 loại, `True` hoặc `False`, đoạn text trên `có trả lời cho câu hỏi` hoặc `không trả lời được`.\n",
    "\n",
    "Như ở dưới thì câu hỏi `Quang Hải giành được chức vô địch U21 quốc gia năm bao nhiêu tuổi` có thể xuất hiện nhiều lần, nhưng đi kèm với đoạn text và label tương ứng khác nhau."
   ],
   "cell_type": "markdown",
   "metadata": {}
  },
  {
   "cell_type": "code",
   "execution_count": 7,
   "metadata": {
    "tags": []
   },
   "outputs": [
    {
     "output_type": "stream",
     "name": "stdout",
     "text": [
      "Training data shape:  (18108, 5)\n"
     ]
    },
    {
     "output_type": "execute_result",
     "data": {
      "text/plain": [
       "                id                                           question  \\\n",
       "0  u7-1570446247_1  Quang Hải giành được chức vô địch U21 quốc gia...   \n",
       "1  u7-1570446247_2  Quang Hải giành được chức vô địch U21 quốc gia...   \n",
       "2  u7-1570446247_0  Quang Hải giành được chức vô địch U21 quốc gia...   \n",
       "3  u7-1570446247_3  Quang Hải giành được chức vô địch U21 quốc gia...   \n",
       "4  u7-1570445661_0                   Mỗi hiệp bóng đá kéo dài bao lâu   \n",
       "\n",
       "                          title  \\\n",
       "0  Nguyễn Quang Hải (sinh 1997)   \n",
       "1  Nguyễn Quang Hải (sinh 1997)   \n",
       "2  Nguyễn Quang Hải (sinh 1997)   \n",
       "3  Nguyễn Quang Hải (sinh 1997)   \n",
       "4                       Bóng đá   \n",
       "\n",
       "                                                text  label  \n",
       "0  Năm 2013 , Nguyễn Quang Hải giành chức vô địch...   True  \n",
       "1  Sau chức vô địch U-21 quốc gia 2013 , Nguyễn Q...   True  \n",
       "2  Anh bắt đầu gia nhập lò đào tạo trẻ Hà Nội T&T...  False  \n",
       "3  Năm 2011 , Nguyễn Quang Hải mới 14 tuổi được g...  False  \n",
       "4  Một trận đấu bóng đá thông thường có hai hiệp ...   True  "
      ],
      "text/html": "<div>\n<style scoped>\n    .dataframe tbody tr th:only-of-type {\n        vertical-align: middle;\n    }\n\n    .dataframe tbody tr th {\n        vertical-align: top;\n    }\n\n    .dataframe thead th {\n        text-align: right;\n    }\n</style>\n<table border=\"1\" class=\"dataframe\">\n  <thead>\n    <tr style=\"text-align: right;\">\n      <th></th>\n      <th>id</th>\n      <th>question</th>\n      <th>title</th>\n      <th>text</th>\n      <th>label</th>\n    </tr>\n  </thead>\n  <tbody>\n    <tr>\n      <th>0</th>\n      <td>u7-1570446247_1</td>\n      <td>Quang Hải giành được chức vô địch U21 quốc gia...</td>\n      <td>Nguyễn Quang Hải (sinh 1997)</td>\n      <td>Năm 2013 , Nguyễn Quang Hải giành chức vô địch...</td>\n      <td>True</td>\n    </tr>\n    <tr>\n      <th>1</th>\n      <td>u7-1570446247_2</td>\n      <td>Quang Hải giành được chức vô địch U21 quốc gia...</td>\n      <td>Nguyễn Quang Hải (sinh 1997)</td>\n      <td>Sau chức vô địch U-21 quốc gia 2013 , Nguyễn Q...</td>\n      <td>True</td>\n    </tr>\n    <tr>\n      <th>2</th>\n      <td>u7-1570446247_0</td>\n      <td>Quang Hải giành được chức vô địch U21 quốc gia...</td>\n      <td>Nguyễn Quang Hải (sinh 1997)</td>\n      <td>Anh bắt đầu gia nhập lò đào tạo trẻ Hà Nội T&amp;T...</td>\n      <td>False</td>\n    </tr>\n    <tr>\n      <th>3</th>\n      <td>u7-1570446247_3</td>\n      <td>Quang Hải giành được chức vô địch U21 quốc gia...</td>\n      <td>Nguyễn Quang Hải (sinh 1997)</td>\n      <td>Năm 2011 , Nguyễn Quang Hải mới 14 tuổi được g...</td>\n      <td>False</td>\n    </tr>\n    <tr>\n      <th>4</th>\n      <td>u7-1570445661_0</td>\n      <td>Mỗi hiệp bóng đá kéo dài bao lâu</td>\n      <td>Bóng đá</td>\n      <td>Một trận đấu bóng đá thông thường có hai hiệp ...</td>\n      <td>True</td>\n    </tr>\n  </tbody>\n</table>\n</div>"
     },
     "metadata": {},
     "execution_count": 7
    }
   ],
   "source": [
    "# Read Training Data\n",
    "train_df = zltp.train_df\n",
    "print('Training data shape: ',train_df.shape)\n",
    "train_df.head(5)"
   ]
  },
  {
   "source": [
    "### Sơ qua dữ liệu dùng cho testing:\n",
    "Tên file: test.json\n",
    "\n",
    "Bao gồm các test cases có trong tập public test. Mỗi test case bao gồm:\n",
    "\n",
    "* **__id__**: test case ID\n",
    "* **question**: câu hỏi\n",
    "* **paragraphs**: **các** đoạn văn có được từ 1 dummy search tool. Mỗi đoạn có 1 ID riêng **trong test case** (nghĩa là các đoạn trong các test case khác nhau có thể có cùng id). Các đội tham gia phải tìm ID của các đoạn có thể trả lời cho `câu hỏi`.\n",
    "* **title**: title của Wikipedia article mà đoạn text được lấy từ."
   ],
   "cell_type": "markdown",
   "metadata": {}
  },
  {
   "cell_type": "code",
   "execution_count": 8,
   "metadata": {
    "tags": []
   },
   "outputs": [
    {
     "output_type": "stream",
     "name": "stdout",
     "text": [
      "Test data shape:  (501, 4)\n"
     ]
    },
    {
     "output_type": "execute_result",
     "data": {
      "text/plain": [
       "      __id__                       question            title  \\\n",
       "0  test_0001  Toà nhà nào cao nhất Việt Nam  The Landmark 81   \n",
       "1  test_0002           Messi thuận chân nào     Lionel Messi   \n",
       "2  test_0003     Sao Hoả còn được gọi là gì          Sao Hỏa   \n",
       "3  test_0004         Hồ Hoàn Kiếm nằm ở đâu     Hồ Hoàn Kiếm   \n",
       "4  test_0005     Lionel Messi sinh ra ở đâu     Lionel Messi   \n",
       "\n",
       "                                          paragraphs  \n",
       "0  [{'id': 'p1', 'text': 'The Landmark 81 là một ...  \n",
       "1  [{'id': 'p1', 'text': 'Đôi chân ngắn nhưng mạn...  \n",
       "2  [{'id': 'p1', 'text': 'Sao Hoả còn gọi là : Ho...  \n",
       "3  [{'id': 'p1', 'text': 'Hồ Hoàn Kiếm ( chữ Nôm ...  \n",
       "4  [{'id': 'p1', 'text': 'Lionel Andrés \" Leo \" M...  "
      ],
      "text/html": "<div>\n<style scoped>\n    .dataframe tbody tr th:only-of-type {\n        vertical-align: middle;\n    }\n\n    .dataframe tbody tr th {\n        vertical-align: top;\n    }\n\n    .dataframe thead th {\n        text-align: right;\n    }\n</style>\n<table border=\"1\" class=\"dataframe\">\n  <thead>\n    <tr style=\"text-align: right;\">\n      <th></th>\n      <th>__id__</th>\n      <th>question</th>\n      <th>title</th>\n      <th>paragraphs</th>\n    </tr>\n  </thead>\n  <tbody>\n    <tr>\n      <th>0</th>\n      <td>test_0001</td>\n      <td>Toà nhà nào cao nhất Việt Nam</td>\n      <td>The Landmark 81</td>\n      <td>[{'id': 'p1', 'text': 'The Landmark 81 là một ...</td>\n    </tr>\n    <tr>\n      <th>1</th>\n      <td>test_0002</td>\n      <td>Messi thuận chân nào</td>\n      <td>Lionel Messi</td>\n      <td>[{'id': 'p1', 'text': 'Đôi chân ngắn nhưng mạn...</td>\n    </tr>\n    <tr>\n      <th>2</th>\n      <td>test_0003</td>\n      <td>Sao Hoả còn được gọi là gì</td>\n      <td>Sao Hỏa</td>\n      <td>[{'id': 'p1', 'text': 'Sao Hoả còn gọi là : Ho...</td>\n    </tr>\n    <tr>\n      <th>3</th>\n      <td>test_0004</td>\n      <td>Hồ Hoàn Kiếm nằm ở đâu</td>\n      <td>Hồ Hoàn Kiếm</td>\n      <td>[{'id': 'p1', 'text': 'Hồ Hoàn Kiếm ( chữ Nôm ...</td>\n    </tr>\n    <tr>\n      <th>4</th>\n      <td>test_0005</td>\n      <td>Lionel Messi sinh ra ở đâu</td>\n      <td>Lionel Messi</td>\n      <td>[{'id': 'p1', 'text': 'Lionel Andrés \" Leo \" M...</td>\n    </tr>\n  </tbody>\n</table>\n</div>"
     },
     "metadata": {},
     "execution_count": 8
    }
   ],
   "source": [
    "# Read Test Data\n",
    "test_df = pd.read_json('Dataset/test.json', orient='records')\n",
    "print('Test data shape: ',test_df.shape)\n",
    "test_df.head(5)"
   ]
  },
  {
   "source": [
    "Để cho tiện, chuyển test set về cùng dạng với training set"
   ],
   "cell_type": "markdown",
   "metadata": {}
  },
  {
   "source": [
    "test_df = zltp.test_df\n",
    "test_df.head(5)"
   ],
   "cell_type": "code",
   "metadata": {
    "tags": []
   },
   "execution_count": 9,
   "outputs": [
    {
     "output_type": "execute_result",
     "data": {
      "text/plain": [
       "             id                       question            title  \\\n",
       "0  test_0001_p1  Toà nhà nào cao nhất Việt Nam  The Landmark 81   \n",
       "1  test_0001_p2  Toà nhà nào cao nhất Việt Nam  The Landmark 81   \n",
       "2  test_0002_p1           Messi thuận chân nào     Lionel Messi   \n",
       "3  test_0002_p2           Messi thuận chân nào     Lionel Messi   \n",
       "4  test_0002_p3           Messi thuận chân nào     Lionel Messi   \n",
       "\n",
       "                                                text  \n",
       "0  The Landmark 81 là một toà nhà chọc trời trong...  \n",
       "1  Toà tháp cao 81 tầng , hiện tại là toà nhà cao...  \n",
       "2  Đôi chân ngắn nhưng mạnh mẽ giúp Messi dễ dàng...  \n",
       "3  Cựu huấn luyện viên Barcelona , Pep Guardiola ...  \n",
       "4  Ngoài ra anh còn một chân sút phạt chính và ha...  "
      ],
      "text/html": "<div>\n<style scoped>\n    .dataframe tbody tr th:only-of-type {\n        vertical-align: middle;\n    }\n\n    .dataframe tbody tr th {\n        vertical-align: top;\n    }\n\n    .dataframe thead th {\n        text-align: right;\n    }\n</style>\n<table border=\"1\" class=\"dataframe\">\n  <thead>\n    <tr style=\"text-align: right;\">\n      <th></th>\n      <th>id</th>\n      <th>question</th>\n      <th>title</th>\n      <th>text</th>\n    </tr>\n  </thead>\n  <tbody>\n    <tr>\n      <th>0</th>\n      <td>test_0001_p1</td>\n      <td>Toà nhà nào cao nhất Việt Nam</td>\n      <td>The Landmark 81</td>\n      <td>The Landmark 81 là một toà nhà chọc trời trong...</td>\n    </tr>\n    <tr>\n      <th>1</th>\n      <td>test_0001_p2</td>\n      <td>Toà nhà nào cao nhất Việt Nam</td>\n      <td>The Landmark 81</td>\n      <td>Toà tháp cao 81 tầng , hiện tại là toà nhà cao...</td>\n    </tr>\n    <tr>\n      <th>2</th>\n      <td>test_0002_p1</td>\n      <td>Messi thuận chân nào</td>\n      <td>Lionel Messi</td>\n      <td>Đôi chân ngắn nhưng mạnh mẽ giúp Messi dễ dàng...</td>\n    </tr>\n    <tr>\n      <th>3</th>\n      <td>test_0002_p2</td>\n      <td>Messi thuận chân nào</td>\n      <td>Lionel Messi</td>\n      <td>Cựu huấn luyện viên Barcelona , Pep Guardiola ...</td>\n    </tr>\n    <tr>\n      <th>4</th>\n      <td>test_0002_p3</td>\n      <td>Messi thuận chân nào</td>\n      <td>Lionel Messi</td>\n      <td>Ngoài ra anh còn một chân sút phạt chính và ha...</td>\n    </tr>\n  </tbody>\n</table>\n</div>"
     },
     "metadata": {},
     "execution_count": 9
    }
   ]
  },
  {
   "source": [
    "## Tìm hiều sâu hơn\n",
    "### 1. Basic Data Exploration\n",
    "#### 1.1 Thông tin cơ bản"
   ],
   "cell_type": "markdown",
   "metadata": {}
  },
  {
   "cell_type": "code",
   "execution_count": 10,
   "metadata": {
    "tags": []
   },
   "outputs": [
    {
     "output_type": "stream",
     "name": "stdout",
     "text": [
      "------------- Train Set -------------\n<class 'pandas.core.frame.DataFrame'>\nRangeIndex: 18108 entries, 0 to 18107\nData columns (total 5 columns):\n #   Column    Non-Null Count  Dtype \n---  ------    --------------  ----- \n 0   id        18108 non-null  object\n 1   question  18108 non-null  object\n 2   title     18108 non-null  object\n 3   text      18108 non-null  object\n 4   label     18108 non-null  bool  \ndtypes: bool(1), object(4)\nmemory usage: 583.7+ KB\nNone\n------------- Test Set -------------\n<class 'pandas.core.frame.DataFrame'>\nRangeIndex: 2678 entries, 0 to 2677\nData columns (total 4 columns):\n #   Column    Non-Null Count  Dtype \n---  ------    --------------  ----- \n 0   id        2678 non-null   object\n 1   question  2678 non-null   object\n 2   title     2678 non-null   object\n 3   text      2678 non-null   object\ndtypes: object(4)\nmemory usage: 83.8+ KB\nNone\n"
     ]
    }
   ],
   "source": [
    "# Null values and Data types\n",
    "print('------------- Train Set -------------')\n",
    "print(train_df.info())\n",
    "print('------------- Test Set -------------')\n",
    "print(test_df.info())"
   ]
  },
  {
   "source": [
    "Có bị chỗ nào thiếu dữ liệu không ?"
   ],
   "cell_type": "markdown",
   "metadata": {}
  },
  {
   "cell_type": "code",
   "execution_count": 11,
   "metadata": {},
   "outputs": [
    {
     "output_type": "execute_result",
     "data": {
      "text/plain": [
       "id          0\n",
       "question    0\n",
       "title       0\n",
       "text        0\n",
       "label       0\n",
       "dtype: int64"
      ]
     },
     "metadata": {},
     "execution_count": 11
    }
   ],
   "source": [
    "train_df.isnull().sum()"
   ]
  },
  {
   "cell_type": "code",
   "execution_count": 12,
   "metadata": {},
   "outputs": [
    {
     "output_type": "execute_result",
     "data": {
      "text/plain": [
       "id          0\n",
       "question    0\n",
       "title       0\n",
       "text        0\n",
       "dtype: int64"
      ]
     },
     "metadata": {},
     "execution_count": 12
    }
   ],
   "source": [
    "test_df.isnull().sum()"
   ]
  },
  {
   "source": [
    "Không!!"
   ],
   "cell_type": "markdown",
   "metadata": {}
  },
  {
   "cell_type": "code",
   "execution_count": 13,
   "metadata": {
    "tags": []
   },
   "outputs": [
    {
     "output_type": "stream",
     "name": "stdout",
     "text": [
      "Tỷ lệ Label trong trainning set\n"
     ]
    },
    {
     "output_type": "execute_result",
     "data": {
      "text/plain": [
       "   label  count\n",
       "0  False  12370\n",
       "1   True   5738"
      ],
      "text/html": "<div>\n<style scoped>\n    .dataframe tbody tr th:only-of-type {\n        vertical-align: middle;\n    }\n\n    .dataframe tbody tr th {\n        vertical-align: top;\n    }\n\n    .dataframe thead th {\n        text-align: right;\n    }\n</style>\n<table border=\"1\" class=\"dataframe\">\n  <thead>\n    <tr style=\"text-align: right;\">\n      <th></th>\n      <th>label</th>\n      <th>count</th>\n    </tr>\n  </thead>\n  <tbody>\n    <tr>\n      <th>0</th>\n      <td>False</td>\n      <td>12370</td>\n    </tr>\n    <tr>\n      <th>1</th>\n      <td>True</td>\n      <td>5738</td>\n    </tr>\n  </tbody>\n</table>\n</div>"
     },
     "metadata": {},
     "execution_count": 13
    }
   ],
   "source": [
    "print(\"Tỷ lệ Label trong trainning set\")\n",
    "train_df.groupby(['label']).size().reset_index().rename(columns={0: \"count\"})"
   ]
  },
  {
   "source": [
    "#### 1.2 Các câu hỏi"
   ],
   "cell_type": "markdown",
   "metadata": {}
  },
  {
   "cell_type": "code",
   "execution_count": 14,
   "metadata": {
    "tags": []
   },
   "outputs": [
    {
     "output_type": "stream",
     "name": "stdout",
     "text": [
      "Có tổng cộng 5070 câu hỏi trong training set\n"
     ]
    }
   ],
   "source": [
    "print(\"Có tổng cộng\", train_df['question'].value_counts().shape[0], \"câu hỏi trong training set\")"
   ]
  },
  {
   "cell_type": "code",
   "execution_count": 15,
   "metadata": {
    "tags": []
   },
   "outputs": [
    {
     "output_type": "stream",
     "name": "stdout",
     "text": [
      "Có tổng cộng 501 câu hỏi trong test set\n"
     ]
    }
   ],
   "source": [
    "print(\"Có tổng cộng\", test_df['question'].value_counts().shape[0], \"câu hỏi trong test set\")"
   ]
  },
  {
   "cell_type": "code",
   "execution_count": 16,
   "metadata": {
    "tags": []
   },
   "outputs": [
    {
     "output_type": "stream",
     "name": "stdout",
     "text": [
      "Các câu hỏi xuất hiện ở cả training set và test set\n"
     ]
    },
    {
     "output_type": "execute_result",
     "data": {
      "text/plain": [
       "{'Bác Hồ ra đi tìm đường cứu nước năm bao nhiêu',\n",
       " 'Kinh tế Việt Nam hiện nay đứng hàng thứ mấy trên thế giới',\n",
       " 'Trụ sở chính của Liên Hiệp Quốc đặt ở đâu',\n",
       " 'Vịnh Hạ Long nằm ở khu vực nào'}"
      ]
     },
     "metadata": {},
     "execution_count": 16
    }
   ],
   "source": [
    "train_questions = set(train_df['question'].unique())\n",
    "test_questions = set(test_df['question'].unique())\n",
    "print(\"Các câu hỏi xuất hiện ở cả training set và test set\")\n",
    "train_questions.intersection(test_questions)\n"
   ]
  },
  {
   "cell_type": "code",
   "execution_count": 17,
   "metadata": {
    "tags": []
   },
   "outputs": [
    {
     "output_type": "stream",
     "name": "stdout",
     "text": [
      "Trong training set\nSố cặp (question, title): 15048\nMột câu hỏi có tối đa 15 title, và là câu\n"
     ]
    },
    {
     "output_type": "execute_result",
     "data": {
      "text/plain": [
       "                    id                              question  \\\n",
       "3948   u0-1568958153_0  Quê hương của tổng thống Obama ở đâu   \n",
       "3949   u0-1568958153_1  Quê hương của tổng thống Obama ở đâu   \n",
       "3950   u0-1568958153_8  Quê hương của tổng thống Obama ở đâu   \n",
       "3951   u0-1568958153_9  Quê hương của tổng thống Obama ở đâu   \n",
       "3952  u0-1568958153_17  Quê hương của tổng thống Obama ở đâu   \n",
       "\n",
       "                      title  \\\n",
       "3948           Barack Obama   \n",
       "3949           Barack Obama   \n",
       "3950               Illinois   \n",
       "3951  Nyanza ( tỉnh Kenya )   \n",
       "3952               Illinois   \n",
       "\n",
       "                                                   text  label  \n",
       "3948  Barack Hussein Obama II ( IPA : ; sinh ngày 4 ...   True  \n",
       "3949  Chào đời ngày 4 tháng 4 năm 1961 tại Bệnh viện...   True  \n",
       "3950  Thượng nghị sĩ Hillary Clinton sinh tại Illino...   True  \n",
       "3951  Nằm góc phía Tây Nam đất nước . Đến năm 2009 v...   True  \n",
       "3952  Trong cuộc bầu cử tổng thống Mỹ 2008 , cả hai ...   True  "
      ],
      "text/html": "<div>\n<style scoped>\n    .dataframe tbody tr th:only-of-type {\n        vertical-align: middle;\n    }\n\n    .dataframe tbody tr th {\n        vertical-align: top;\n    }\n\n    .dataframe thead th {\n        text-align: right;\n    }\n</style>\n<table border=\"1\" class=\"dataframe\">\n  <thead>\n    <tr style=\"text-align: right;\">\n      <th></th>\n      <th>id</th>\n      <th>question</th>\n      <th>title</th>\n      <th>text</th>\n      <th>label</th>\n    </tr>\n  </thead>\n  <tbody>\n    <tr>\n      <th>3948</th>\n      <td>u0-1568958153_0</td>\n      <td>Quê hương của tổng thống Obama ở đâu</td>\n      <td>Barack Obama</td>\n      <td>Barack Hussein Obama II ( IPA : ; sinh ngày 4 ...</td>\n      <td>True</td>\n    </tr>\n    <tr>\n      <th>3949</th>\n      <td>u0-1568958153_1</td>\n      <td>Quê hương của tổng thống Obama ở đâu</td>\n      <td>Barack Obama</td>\n      <td>Chào đời ngày 4 tháng 4 năm 1961 tại Bệnh viện...</td>\n      <td>True</td>\n    </tr>\n    <tr>\n      <th>3950</th>\n      <td>u0-1568958153_8</td>\n      <td>Quê hương của tổng thống Obama ở đâu</td>\n      <td>Illinois</td>\n      <td>Thượng nghị sĩ Hillary Clinton sinh tại Illino...</td>\n      <td>True</td>\n    </tr>\n    <tr>\n      <th>3951</th>\n      <td>u0-1568958153_9</td>\n      <td>Quê hương của tổng thống Obama ở đâu</td>\n      <td>Nyanza ( tỉnh Kenya )</td>\n      <td>Nằm góc phía Tây Nam đất nước . Đến năm 2009 v...</td>\n      <td>True</td>\n    </tr>\n    <tr>\n      <th>3952</th>\n      <td>u0-1568958153_17</td>\n      <td>Quê hương của tổng thống Obama ở đâu</td>\n      <td>Illinois</td>\n      <td>Trong cuộc bầu cử tổng thống Mỹ 2008 , cả hai ...</td>\n      <td>True</td>\n    </tr>\n  </tbody>\n</table>\n</div>"
     },
     "metadata": {},
     "execution_count": 17
    }
   ],
   "source": [
    "print(\"Trong training set\")\n",
    "tmp_df = train_df.groupby(['question', 'title']).size()\n",
    "# tmp_df['q_len'] = train_df.question.map(lambda x: len(x.split(\" \")))\n",
    "tmp2 = tmp_df.groupby(['question']).size().reset_index().rename(columns={0:'count'})\n",
    "print(\"Số cặp (question, title):\", tmp_df.shape[0])\n",
    "print(\"Một câu hỏi có tối đa\", tmp2.max()['count'], \"title, và là câu\")\n",
    "train_df.loc[train_df['question'] == 'Quê hương của tổng thống Obama ở đâu'].head(5)"
   ]
  },
  {
   "cell_type": "code",
   "execution_count": 22,
   "metadata": {
    "tags": []
   },
   "outputs": [
    {
     "output_type": "stream",
     "name": "stdout",
     "text": [
      "Độ dài lớn nhất của câu hỏi là 32 từ, ngắn nhất 3 từ\n"
     ]
    },
    {
     "output_type": "execute_result",
     "data": {
      "text/plain": [
       "                                               question  count  q_len\n",
       "1810  Lê Bích Phương, vận động viên duy nhất giành đ...      3     32\n",
       "2699  Phóng viên chiến trường nào của hãng thông tấn...      2     32\n",
       "27                                           AIDS là gì      5      3\n",
       "30                                          ASCII là gì      3      3\n",
       "312                                         Anime là gì      2      3"
      ],
      "text/html": "<div>\n<style scoped>\n    .dataframe tbody tr th:only-of-type {\n        vertical-align: middle;\n    }\n\n    .dataframe tbody tr th {\n        vertical-align: top;\n    }\n\n    .dataframe thead th {\n        text-align: right;\n    }\n</style>\n<table border=\"1\" class=\"dataframe\">\n  <thead>\n    <tr style=\"text-align: right;\">\n      <th></th>\n      <th>question</th>\n      <th>count</th>\n      <th>q_len</th>\n    </tr>\n  </thead>\n  <tbody>\n    <tr>\n      <th>1810</th>\n      <td>Lê Bích Phương, vận động viên duy nhất giành đ...</td>\n      <td>3</td>\n      <td>32</td>\n    </tr>\n    <tr>\n      <th>2699</th>\n      <td>Phóng viên chiến trường nào của hãng thông tấn...</td>\n      <td>2</td>\n      <td>32</td>\n    </tr>\n    <tr>\n      <th>27</th>\n      <td>AIDS là gì</td>\n      <td>5</td>\n      <td>3</td>\n    </tr>\n    <tr>\n      <th>30</th>\n      <td>ASCII là gì</td>\n      <td>3</td>\n      <td>3</td>\n    </tr>\n    <tr>\n      <th>312</th>\n      <td>Anime là gì</td>\n      <td>2</td>\n      <td>3</td>\n    </tr>\n  </tbody>\n</table>\n</div>"
     },
     "metadata": {},
     "execution_count": 22
    }
   ],
   "source": [
    "tmp2['q_len'] = tmp2.question.map(lambda x: len(x.split(\" \")))\n",
    "print(\"Độ dài lớn nhất của câu hỏi là\", tmp2['q_len'].max(), \"từ, ngắn nhất\", tmp2['q_len'].min(), \"từ\")\n",
    "pd.concat([tmp2.nlargest(2, 'q_len'), tmp2.nsmallest(3, 'q_len')])"
   ]
  },
  {
   "cell_type": "code",
   "execution_count": 28,
   "metadata": {},
   "outputs": [
    {
     "output_type": "stream",
     "name": "stdout",
     "text": [
      "Độ dài lớn nhất của câu trả lời là 594 từ, ngắn nhất 1 từ\n"
     ]
    },
    {
     "output_type": "execute_result",
     "data": {
      "text/plain": [
       "                    id                                           question  \\\n",
       "17261  u8-1554267633_3  Cục trưởng Cục chính trị - Hậu cần hiện nay là ai   \n",
       "15976  u8-1554886940_3  Từ khi thành lập đến nước ta có bao nhiêu loại...   \n",
       "5812   u5-1562082929_1        Ai là người đã phát minh ra thuyết lượng tử   \n",
       "5813   u5-1562082929_2        Ai là người đã phát minh ra thuyết lượng tử   \n",
       "7727   u5-1558706130_2  Bóng đá nam Hàn Quốc mấy lần vô địch tại đấu t...   \n",
       "\n",
       "                                         title  \\\n",
       "17261                             Đỗ Hoàng Anh   \n",
       "15976                                     Tiền   \n",
       "5812                Thuyết lượng tử năng lượng   \n",
       "5813                Thuyết lượng tử năng lượng   \n",
       "7727   Giải vô địch bóng đá U-16 thế giới 1989   \n",
       "\n",
       "                                                    text  label  text_len  \n",
       "17261  Đỗ Hoàng Anh là Á hậu 2 Hoa Hậu Việt Nam 2012 ...  False       594  \n",
       "15976  Ngày nay, chúng ta sử dụng cả tiền xu và tiền ...  False       497  \n",
       "5812                                           formula_7  False         1  \n",
       "5813                                           formula_8  False         1  \n",
       "7727                                                Asia  False         1  "
      ],
      "text/html": "<div>\n<style scoped>\n    .dataframe tbody tr th:only-of-type {\n        vertical-align: middle;\n    }\n\n    .dataframe tbody tr th {\n        vertical-align: top;\n    }\n\n    .dataframe thead th {\n        text-align: right;\n    }\n</style>\n<table border=\"1\" class=\"dataframe\">\n  <thead>\n    <tr style=\"text-align: right;\">\n      <th></th>\n      <th>id</th>\n      <th>question</th>\n      <th>title</th>\n      <th>text</th>\n      <th>label</th>\n      <th>text_len</th>\n    </tr>\n  </thead>\n  <tbody>\n    <tr>\n      <th>17261</th>\n      <td>u8-1554267633_3</td>\n      <td>Cục trưởng Cục chính trị - Hậu cần hiện nay là ai</td>\n      <td>Đỗ Hoàng Anh</td>\n      <td>Đỗ Hoàng Anh là Á hậu 2 Hoa Hậu Việt Nam 2012 ...</td>\n      <td>False</td>\n      <td>594</td>\n    </tr>\n    <tr>\n      <th>15976</th>\n      <td>u8-1554886940_3</td>\n      <td>Từ khi thành lập đến nước ta có bao nhiêu loại...</td>\n      <td>Tiền</td>\n      <td>Ngày nay, chúng ta sử dụng cả tiền xu và tiền ...</td>\n      <td>False</td>\n      <td>497</td>\n    </tr>\n    <tr>\n      <th>5812</th>\n      <td>u5-1562082929_1</td>\n      <td>Ai là người đã phát minh ra thuyết lượng tử</td>\n      <td>Thuyết lượng tử năng lượng</td>\n      <td>formula_7</td>\n      <td>False</td>\n      <td>1</td>\n    </tr>\n    <tr>\n      <th>5813</th>\n      <td>u5-1562082929_2</td>\n      <td>Ai là người đã phát minh ra thuyết lượng tử</td>\n      <td>Thuyết lượng tử năng lượng</td>\n      <td>formula_8</td>\n      <td>False</td>\n      <td>1</td>\n    </tr>\n    <tr>\n      <th>7727</th>\n      <td>u5-1558706130_2</td>\n      <td>Bóng đá nam Hàn Quốc mấy lần vô địch tại đấu t...</td>\n      <td>Giải vô địch bóng đá U-16 thế giới 1989</td>\n      <td>Asia</td>\n      <td>False</td>\n      <td>1</td>\n    </tr>\n  </tbody>\n</table>\n</div>"
     },
     "metadata": {},
     "execution_count": 28
    }
   ],
   "source": [
    "tmp2 = train_df['text']\n",
    "tmp2['text_len'] = tmp2.text.map(lambda x: len(x.split(\" \")))\n",
    "print(\"Độ dài lớn nhất của câu trả lời là\", tmp2['text_len'].max(), \"từ, ngắn nhất\", tmp2['text_len'].min(), \"từ\")\n",
    "pd.concat([tmp2.nlargest(2, 'text_len'), tmp2.nsmallest(3, 'text_len')])"
   ]
  },
  {
   "cell_type": "code",
   "execution_count": null,
   "metadata": {},
   "outputs": [],
   "source": [
    "tmp2['text_len'].value_counts(bin=10)"
   ]
  },
  {
   "cell_type": "code",
   "execution_count": 40,
   "metadata": {
    "tags": []
   },
   "outputs": [
    {
     "output_type": "stream",
     "name": "stdout",
     "text": [
      "Trong test set\nSố cặp (question, title): 501\nMột câu hỏi có tối đa 1 title\nĐộ dài lớn nhất của câu hỏi là 21 từ, ngắn nhất 4 từ\n"
     ]
    },
    {
     "output_type": "execute_result",
     "data": {
      "text/plain": [
       "                                              question  count  q_len\n",
       "136  Hòn đảo là nơi duy nhất mà chủ tịch Hồ Chí Min...      1     21\n",
       "232  Mỹ dỡ bỏ lệnh dỡ bỏ hoàn toàn cấm vận vũ khí á...      1     21\n",
       "146                                   Khi nào phạt đền      1      4\n",
       "172                                 Lionel Messi là ai      1      4\n",
       "206                               Messi thuận chân nào      1      4"
      ],
      "text/html": "<div>\n<style scoped>\n    .dataframe tbody tr th:only-of-type {\n        vertical-align: middle;\n    }\n\n    .dataframe tbody tr th {\n        vertical-align: top;\n    }\n\n    .dataframe thead th {\n        text-align: right;\n    }\n</style>\n<table border=\"1\" class=\"dataframe\">\n  <thead>\n    <tr style=\"text-align: right;\">\n      <th></th>\n      <th>question</th>\n      <th>count</th>\n      <th>q_len</th>\n    </tr>\n  </thead>\n  <tbody>\n    <tr>\n      <th>136</th>\n      <td>Hòn đảo là nơi duy nhất mà chủ tịch Hồ Chí Min...</td>\n      <td>1</td>\n      <td>21</td>\n    </tr>\n    <tr>\n      <th>232</th>\n      <td>Mỹ dỡ bỏ lệnh dỡ bỏ hoàn toàn cấm vận vũ khí á...</td>\n      <td>1</td>\n      <td>21</td>\n    </tr>\n    <tr>\n      <th>146</th>\n      <td>Khi nào phạt đền</td>\n      <td>1</td>\n      <td>4</td>\n    </tr>\n    <tr>\n      <th>172</th>\n      <td>Lionel Messi là ai</td>\n      <td>1</td>\n      <td>4</td>\n    </tr>\n    <tr>\n      <th>206</th>\n      <td>Messi thuận chân nào</td>\n      <td>1</td>\n      <td>4</td>\n    </tr>\n  </tbody>\n</table>\n</div>"
     },
     "metadata": {},
     "execution_count": 40
    }
   ],
   "source": [
    "print(\"Trong test set\")\n",
    "tmp_df = test_df.groupby(['question', 'title']).size()\n",
    "# tmp_df['q_len'] = train_df.question.map(lambda x: len(x.split(\" \")))\n",
    "tmp2 = tmp_df.groupby(['question']).size().reset_index().rename(columns={0:'count'})\n",
    "print(\"Số cặp (question, title):\", tmp_df.shape[0])\n",
    "print(\"Một câu hỏi có tối đa\", tmp2.max()['count'], \"title\")\n",
    "tmp2['q_len'] = tmp2.question.map(lambda x: len(x.split(\" \")))\n",
    "print(\"Độ dài lớn nhất của câu hỏi là\", tmp2['q_len'].max(), \"từ, ngắn nhất\", tmp2['q_len'].min(), \"từ\")\n",
    "pd.concat([tmp2.nlargest(2, 'q_len'), tmp2.nsmallest(3, 'q_len')])"
   ]
  },
  {
   "cell_type": "code",
   "execution_count": 30,
   "metadata": {},
   "outputs": [
    {
     "output_type": "stream",
     "name": "stdout",
     "text": [
      "Độ dài lớn nhất của câu trả lời là 216 từ, ngắn nhất 16 từ\n",
      "<ipython-input-30-e1bfec7f475a>:2: SettingWithCopyWarning: \n",
      "A value is trying to be set on a copy of a slice from a DataFrame.\n",
      "Try using .loc[row_indexer,col_indexer] = value instead\n",
      "\n",
      "See the caveats in the documentation: https://pandas.pydata.org/pandas-docs/stable/user_guide/indexing.html#returning-a-view-versus-a-copy\n",
      "  tmp2['text_len'] = tmp2.text.map(lambda x: len(x.split(\" \")))\n"
     ]
    },
    {
     "output_type": "execute_result",
     "data": {
      "text/plain": [
       "                                                   text  text_len\n",
       "2403  Trong số các nước đã thiết lập quan hệ ngoại g...       216\n",
       "1309  Thành phố Cần Thơ trực thuộc trung ương có diệ...       213\n",
       "1872  Có bộ chiêng chỉ được đánh khi có vật hiến sin...        16\n",
       "830   Nhà hàng và sky bar ở tầng 66 và 67 có góc nhì...        17\n",
       "910   World Cup 2010 khép lại với Argentina sau trận...        17"
      ],
      "text/html": "<div>\n<style scoped>\n    .dataframe tbody tr th:only-of-type {\n        vertical-align: middle;\n    }\n\n    .dataframe tbody tr th {\n        vertical-align: top;\n    }\n\n    .dataframe thead th {\n        text-align: right;\n    }\n</style>\n<table border=\"1\" class=\"dataframe\">\n  <thead>\n    <tr style=\"text-align: right;\">\n      <th></th>\n      <th>text</th>\n      <th>text_len</th>\n    </tr>\n  </thead>\n  <tbody>\n    <tr>\n      <th>2403</th>\n      <td>Trong số các nước đã thiết lập quan hệ ngoại g...</td>\n      <td>216</td>\n    </tr>\n    <tr>\n      <th>1309</th>\n      <td>Thành phố Cần Thơ trực thuộc trung ương có diệ...</td>\n      <td>213</td>\n    </tr>\n    <tr>\n      <th>1872</th>\n      <td>Có bộ chiêng chỉ được đánh khi có vật hiến sin...</td>\n      <td>16</td>\n    </tr>\n    <tr>\n      <th>830</th>\n      <td>Nhà hàng và sky bar ở tầng 66 và 67 có góc nhì...</td>\n      <td>17</td>\n    </tr>\n    <tr>\n      <th>910</th>\n      <td>World Cup 2010 khép lại với Argentina sau trận...</td>\n      <td>17</td>\n    </tr>\n  </tbody>\n</table>\n</div>"
     },
     "metadata": {},
     "execution_count": 30
    }
   ],
   "source": [
    "tmp2 = test_df[['text']]\n",
    "tmp2['text_len'] = tmp2.text.map(lambda x: len(x.split(\" \")))\n",
    "print(\"Độ dài lớn nhất của câu trả lời là\", tmp2['text_len'].max(), \"từ, ngắn nhất\", tmp2['text_len'].min(), \"từ\")\n",
    "pd.concat([tmp2.nlargest(2, 'text_len'), tmp2.nsmallest(3, 'text_len')])"
   ]
  }
 ],
 "metadata": {
  "language_info": {
   "codemirror_mode": {
    "name": "ipython",
    "version": 3
   },
   "file_extension": ".py",
   "mimetype": "text/x-python",
   "name": "python",
   "nbconvert_exporter": "python",
   "pygments_lexer": "ipython3",
   "version": "3.9.0-final"
  },
  "orig_nbformat": 2,
  "kernelspec": {
   "name": "python3",
   "display_name": "Python 3"
  }
 },
 "nbformat": 4,
 "nbformat_minor": 2
}