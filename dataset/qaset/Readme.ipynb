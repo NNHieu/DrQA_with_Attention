{
 "cells": [
  {
   "cell_type": "code",
   "execution_count": 1,
   "metadata": {},
   "outputs": [
    {
     "data": {
      "text/plain": [
       "'/home/user/code'"
      ]
     },
     "execution_count": 1,
     "metadata": {},
     "output_type": "execute_result"
    }
   ],
   "source": [
    "import os\n",
    "os.chdir('../..')\n",
    "os.getcwd()"
   ]
  },
  {
   "cell_type": "code",
   "execution_count": 2,
   "metadata": {},
   "outputs": [],
   "source": [
    "import pandas as pd\n",
    "import numpy as np\n",
    "from textprocessor.normalization import *\n",
    "from textprocessor.normalization import _NormalizeMeta\n",
    "from functools import partial\n",
    "\n",
    "from textprocessor.text_transform import *\n",
    "from textprocessor.statistic import *"
   ]
  },
  {
   "cell_type": "markdown",
   "metadata": {},
   "source": [
    "# Split Dataset"
   ]
  },
  {
   "cell_type": "code",
   "execution_count": 3,
   "metadata": {},
   "outputs": [],
   "source": [
    "BASE_DATASET_DIR = \"dataset/qaset\"\n",
    "NORM_DATASET_DIR = \"dataset/qaset/normset/set1\""
   ]
  },
  {
   "cell_type": "markdown",
   "metadata": {},
   "source": [
    "Tiền xử lí dataset\n",
    "* Clean text: loại bỏ các tag <> (VD: `< nowiki > * < / nowiki >, <br>, <ref> </ref>, ...`)\n",
    "\n",
    "Chia file train.json thành 3 file train_set.csv, valid_set.csv, test_set.csv (0.7:0.15:0.15) với tỉ lệ label `True, False` giống nhau. Xem file `text_processor\\text_transform`"
   ]
  },
  {
   "cell_type": "code",
   "execution_count": 4,
   "metadata": {},
   "outputs": [],
   "source": [
    "train_df = load_train_data(BASE_DATASET_DIR)"
   ]
  },
  {
   "cell_type": "code",
   "execution_count": 5,
   "metadata": {},
   "outputs": [],
   "source": [
    "names = ['train', 'valid', 'test']\n",
    "sz = [0.7, 0.15, 0.15]\n",
    "dfs = split_ds(train_df, sz)"
   ]
  },
  {
   "cell_type": "code",
   "execution_count": 6,
   "metadata": {},
   "outputs": [
    {
     "data": {
      "text/plain": [
       "'Ba Lan ( tiếng Ba Lan : \" Polska \" ) , tên chính thức là Cộng hoà Ba Lan ( tiếng Ba Lan : \" Rzeczpospolita Polska \" ) , là một quốc gia ở Trung Âu , tiếp giáp với các nước Đức , Slovakia , Cộng hoà Séc , Ukraina , Belarus , Litva , Nga và biển Baltic ; diện tích 312.685  km2 , dân số 38,56 triệu gần như thuần chủng , đa phần ( 95% ) theo đạo Công giáo Rôma được truyền bá vào đây khi nhà nước Ba Lan đầu tiên hình thành vào thế kỷ thứ X. Lãnh thổ Ba Lan trong lịch sử có nhiều thay đổi , biên giới hiện nay có từ sau Chiến tranh thế giới thứ hai theo Thoả thuận Yalta .'"
      ]
     },
     "execution_count": 6,
     "metadata": {},
     "output_type": "execute_result"
    }
   ],
   "source": [
    "dfs[1].iloc[0]['text']"
   ]
  },
  {
   "cell_type": "code",
   "execution_count": 7,
   "metadata": {},
   "outputs": [
    {
     "name": "stderr",
     "output_type": "stream",
     "text": [
      "100%|██████████| 12676/12676 [03:51<00:00, 54.75it/s]\n",
      "100%|██████████| 2717/2717 [00:38<00:00, 70.71it/s]\n",
      "100%|██████████| 2715/2715 [00:37<00:00, 71.52it/s]\n"
     ]
    }
   ],
   "source": [
    "cols = {'question':'q', 'text':'t'}\n",
    "for i, na in enumerate(names):\n",
    "    dfs[i].to_csv(f'{NORM_DATASET_DIR}/{na}_set.csv')\n",
    "    t = create_feature_df(dfs[i], drop=True, cols=cols)\n",
    "    t.to_csv(f'{NORM_DATASET_DIR}/{na}_feature.csv')"
   ]
  },
  {
   "cell_type": "markdown",
   "metadata": {},
   "source": [
    "# Text Processing"
   ]
  },
  {
   "cell_type": "markdown",
   "metadata": {},
   "source": [
    "## Filter punctuation and stopwords"
   ]
  },
  {
   "cell_type": "code",
   "execution_count": 8,
   "metadata": {},
   "outputs": [
    {
     "data": {
      "text/html": [
       "<div>\n",
       "<style scoped>\n",
       "    .dataframe tbody tr th:only-of-type {\n",
       "        vertical-align: middle;\n",
       "    }\n",
       "\n",
       "    .dataframe tbody tr th {\n",
       "        vertical-align: top;\n",
       "    }\n",
       "\n",
       "    .dataframe thead th {\n",
       "        text-align: right;\n",
       "    }\n",
       "</style>\n",
       "<table border=\"1\" class=\"dataframe\">\n",
       "  <thead>\n",
       "    <tr style=\"text-align: right;\">\n",
       "      <th></th>\n",
       "      <th>Unnamed: 0</th>\n",
       "      <th>id</th>\n",
       "      <th>title</th>\n",
       "      <th>label</th>\n",
       "      <th>q_toks</th>\n",
       "      <th>q_pos</th>\n",
       "      <th>q_ner</th>\n",
       "      <th>t_toks</th>\n",
       "      <th>t_pos</th>\n",
       "      <th>t_ner</th>\n",
       "    </tr>\n",
       "  </thead>\n",
       "  <tbody>\n",
       "    <tr>\n",
       "      <th>0</th>\n",
       "      <td>0</td>\n",
       "      <td>u8-1556876599_0</td>\n",
       "      <td>Tam Cốc - Bích Động</td>\n",
       "      <td>True</td>\n",
       "      <td>Nam thiên đệ nhất động là tên gọi của danh_lam...</td>\n",
       "      <td>Np V N A N V N V E N P</td>\n",
       "      <td>B-PER O O O O O O O O O O</td>\n",
       "      <td>Bích_Động nằm cách bến Tam_Cốc 2 km , có nghĩa...</td>\n",
       "      <td>Np V V N Np M Nu CH V N C CH N A CH CH V N E N...</td>\n",
       "      <td>B-LOC O O O O O O O O O O O O O O O O O O O B-...</td>\n",
       "    </tr>\n",
       "    <tr>\n",
       "      <th>1</th>\n",
       "      <td>1</td>\n",
       "      <td>u3-1559034795_0</td>\n",
       "      <td>Hệ động vật Việt Nam</td>\n",
       "      <td>True</td>\n",
       "      <td>Thanh_Hoá có vườn_quốc_gia nào</td>\n",
       "      <td>N V N P</td>\n",
       "      <td>O O O O</td>\n",
       "      <td>Một kết_quả quan_trọng là đã xác_định các khu_...</td>\n",
       "      <td>M N A V R V L N N C N N V V N L Np E Np CH N M...</td>\n",
       "      <td>O O O O O O O O O O O O O O O O O O B-LOC O O ...</td>\n",
       "    </tr>\n",
       "    <tr>\n",
       "      <th>2</th>\n",
       "      <td>2</td>\n",
       "      <td>u1-1556061605_3</td>\n",
       "      <td>Everest</td>\n",
       "      <td>True</td>\n",
       "      <td>Đỉnh núi cao nhất thế_giới hiện_nay tên là gì</td>\n",
       "      <td>N N A A N N N V P</td>\n",
       "      <td>O O O O O O O O O</td>\n",
       "      <td>Đỉnh Everest ( tên khác : đỉnh Chomolungma ) l...</td>\n",
       "      <td>N Np CH N A CH N Np CH V N N A R E N V E N N C...</td>\n",
       "      <td>O B-LOC O O O O O O O O O O O O O B-LOC O O O ...</td>\n",
       "    </tr>\n",
       "    <tr>\n",
       "      <th>3</th>\n",
       "      <td>3</td>\n",
       "      <td>u1-1554938643_0</td>\n",
       "      <td>Tinh bột</td>\n",
       "      <td>True</td>\n",
       "      <td>Công_thức_hoá_học của tinh_bột là gì</td>\n",
       "      <td>N E N V P</td>\n",
       "      <td>O O O O O</td>\n",
       "      <td>Tinh_bột tiếng Hy_Lạp là amidon ( CAS # 9005-2...</td>\n",
       "      <td>N N Np V N CH Ny CH M CH N CH CH Ny CH CH V M ...</td>\n",
       "      <td>O B-MISC I-MISC O O O O O O O O O O O O O O O ...</td>\n",
       "    </tr>\n",
       "    <tr>\n",
       "      <th>4</th>\n",
       "      <td>4</td>\n",
       "      <td>u3-1558929435_0</td>\n",
       "      <td>NaN</td>\n",
       "      <td>True</td>\n",
       "      <td>Trạng_Bùng_Phùng_Khắc Khoan từng làm quan cho ...</td>\n",
       "      <td>N Np R V N E N N P</td>\n",
       "      <td>O B-ORG O O O O O O O</td>\n",
       "      <td>Phùng_Khắc_Khoan : Công_việc Quan nhà Hậu_Lê ,...</td>\n",
       "      <td>N CH N Np N Np CH Np</td>\n",
       "      <td>O O O O B-MISC I-MISC O O</td>\n",
       "    </tr>\n",
       "  </tbody>\n",
       "</table>\n",
       "</div>"
      ],
      "text/plain": [
       "   Unnamed: 0               id                 title  label  \\\n",
       "0           0  u8-1556876599_0   Tam Cốc - Bích Động   True   \n",
       "1           1  u3-1559034795_0  Hệ động vật Việt Nam   True   \n",
       "2           2  u1-1556061605_3               Everest   True   \n",
       "3           3  u1-1554938643_0              Tinh bột   True   \n",
       "4           4  u3-1558929435_0                   NaN   True   \n",
       "\n",
       "                                              q_toks                    q_pos  \\\n",
       "0  Nam thiên đệ nhất động là tên gọi của danh_lam...  Np V N A N V N V E N P    \n",
       "1                    Thanh_Hoá có vườn_quốc_gia nào                  N V N P    \n",
       "2     Đỉnh núi cao nhất thế_giới hiện_nay tên là gì        N N A A N N N V P    \n",
       "3              Công_thức_hoá_học của tinh_bột là gì                N E N V P    \n",
       "4  Trạng_Bùng_Phùng_Khắc Khoan từng làm quan cho ...      N Np R V N E N N P    \n",
       "\n",
       "                        q_ner  \\\n",
       "0  B-PER O O O O O O O O O O    \n",
       "1                    O O O O    \n",
       "2          O O O O O O O O O    \n",
       "3                  O O O O O    \n",
       "4      O B-ORG O O O O O O O    \n",
       "\n",
       "                                              t_toks  \\\n",
       "0  Bích_Động nằm cách bến Tam_Cốc 2 km , có nghĩa...   \n",
       "1  Một kết_quả quan_trọng là đã xác_định các khu_...   \n",
       "2  Đỉnh Everest ( tên khác : đỉnh Chomolungma ) l...   \n",
       "3  Tinh_bột tiếng Hy_Lạp là amidon ( CAS # 9005-2...   \n",
       "4  Phùng_Khắc_Khoan : Công_việc Quan nhà Hậu_Lê ,...   \n",
       "\n",
       "                                               t_pos  \\\n",
       "0  Np V V N Np M Nu CH V N C CH N A CH CH V N E N...   \n",
       "1  M N A V R V L N N C N N V V N L Np E Np CH N M...   \n",
       "2  N Np CH N A CH N Np CH V N N A R E N V E N N C...   \n",
       "3  N N Np V N CH Ny CH M CH N CH CH Ny CH CH V M ...   \n",
       "4                              N CH N Np N Np CH Np    \n",
       "\n",
       "                                               t_ner  \n",
       "0  B-LOC O O O O O O O O O O O O O O O O O O O B-...  \n",
       "1  O O O O O O O O O O O O O O O O O O B-LOC O O ...  \n",
       "2  O B-LOC O O O O O O O O O O O O O B-LOC O O O ...  \n",
       "3  O B-MISC I-MISC O O O O O O O O O O O O O O O ...  \n",
       "4                         O O O O B-MISC I-MISC O O   "
      ]
     },
     "execution_count": 8,
     "metadata": {},
     "output_type": "execute_result"
    }
   ],
   "source": [
    "train_feature_df = pd.read_csv(f'{NORM_DATASET_DIR}/train_feature.csv')\n",
    "valid_feature_df = pd.read_csv(f'{NORM_DATASET_DIR}/valid_feature.csv')\n",
    "test_feature_df = pd.read_csv(f'{NORM_DATASET_DIR}/test_feature.csv')\n",
    "# Them dataset gg dich tu squad 2.0\n",
    "# aug_df = pd.read_csv('dataset/qaset/train_feature_squad.csv').sample(frac=1).reset_index(drop=True)\n",
    "stopwords = pd.read_csv('textprocessor/stopwords.csv')\n",
    "train_feature_df.head(5)"
   ]
  },
  {
   "cell_type": "code",
   "execution_count": 9,
   "metadata": {},
   "outputs": [
    {
     "name": "stderr",
     "output_type": "stream",
     "text": [
      "100%|██████████| 12676/12676 [01:27<00:00, 144.86it/s]\n",
      "100%|██████████| 2717/2717 [00:11<00:00, 233.21it/s]\n",
      "100%|██████████| 2715/2715 [00:11<00:00, 230.99it/s]\n"
     ]
    }
   ],
   "source": [
    "group={'q_toks': ['q_pos', 'q_ner'], 't_toks': ['t_pos', 't_ner']}\n",
    "# Loại bỏ punctuation, không bỏ stopword do cần context meaning\n",
    "filed = filter_toknfeat_df(train_feature_df, [is_punctuation], group=group,reverse_check=True)\n",
    "filed.to_csv(f'{NORM_DATASET_DIR}/train_filted_feature.csv')\n",
    "filed = filter_toknfeat_df(valid_feature_df, [is_punctuation], group=group,reverse_check=True)\n",
    "filed.to_csv(f'{NORM_DATASET_DIR}/valid_filted_feature.csv')\n",
    "filed = filter_toknfeat_df(test_feature_df, [is_punctuation], group=group,reverse_check=True)\n",
    "filed.to_csv(f'{NORM_DATASET_DIR}/test_filted_feature.csv')"
   ]
  },
  {
   "cell_type": "code",
   "execution_count": 3,
   "metadata": {},
   "outputs": [],
   "source": [
    "# group={'q_toks': ['q_pos', 'q_ner'], 't_toks': ['t_pos', 't_ner']}\n",
    "# filed = filter_toknfeat_df(aug_df, [is_punctuation], group=group,reverse_check=True)\n",
    "# filed.to_csv('dataset/qaset/aug_feature_set2.csv')"
   ]
  },
  {
   "cell_type": "markdown",
   "metadata": {},
   "source": [
    "# Question corpus"
   ]
  },
  {
   "cell_type": "code",
   "execution_count": 3,
   "metadata": {},
   "outputs": [],
   "source": [
    "train_feature_df = pd.read_csv(f'{NORM_DATASET_DIR}/train_filted_feature.csv')\n",
    "train_feature_df.head(2)"
   ]
  },
  {
   "cell_type": "code",
   "execution_count": 5,
   "metadata": {},
   "outputs": [],
   "source": [
    "df2corpus('dataset/corpus/zl_train_quest.txt',train_feature_df, cols=['q_toks'])"
   ]
  },
  {
   "cell_type": "code",
   "execution_count": 50,
   "metadata": {},
   "outputs": [],
   "source": [
    "cols = {'question':'q'}\n",
    "group={'q_toks': ['q_pos', 'q_ner']}\n",
    "test_df = load_test_data('dataset/qaset')\n",
    "test_df = test_df.drop(columns=['text', 'title'])\n",
    "test_df = test_df.groupby(['question'])\n",
    "test_df = test_df.count()\n",
    "test_df = pd.DataFrame(test_df['id'].keys())\n",
    "t = create_feature_df(test_df, drop=True, cols=cols)\n",
    "filed = filter_toknfeat_df(t, [is_punctuation], group=group,reverse_check=True)\n",
    "# t.to_csv(f'dataset/qaset/{na}_feature_set2.csv')\n",
    "df2corpus('dataset/corpus/zl_test_quest.txt',t, cols=['q_toks'])"
   ]
  },
  {
   "cell_type": "markdown",
   "metadata": {},
   "source": [
    "# Load các dataset"
   ]
  },
  {
   "cell_type": "code",
   "execution_count": 3,
   "metadata": {},
   "outputs": [],
   "source": [
    "NORM_DATASET_DIR = \"dataset/qaset/normset/set1\""
   ]
  },
  {
   "cell_type": "code",
   "execution_count": 4,
   "metadata": {},
   "outputs": [],
   "source": [
    "orig_set = ZaloTextPreprocess.load_train_data(DATASET_DIR)\n",
    "train_set = pd.read_csv(DATASET_DIR + '/train_set.csv')\n",
    "valid_set = pd.read_csv(DATASET_DIR + '/valid_set.csv')\n",
    "test_set  = pd.read_csv(DATASET_DIR + '/test_set.csv')"
   ]
  },
  {
   "cell_type": "code",
   "execution_count": 5,
   "metadata": {},
   "outputs": [],
   "source": [
    "# 706 title và 2 text rỗng \n",
    "print('-------Train---------')\n",
    "print(train_set.isnull().sum())\n",
    "print('\\n-------Valid---------')\n",
    "print(valid_set.isnull().sum())\n",
    "# print('\\n-------Test---------')\n",
    "# print(test_set.isnull().sum())"
   ]
  },
  {
   "cell_type": "code",
   "execution_count": 6,
   "metadata": {},
   "outputs": [],
   "source": [
    "print('2 câu không có text là')\n",
    "tmp = train_set.replace(np.nan, '', regex=True)\n",
    "tmp[tmp['text']=='']"
   ]
  },
  {
   "cell_type": "code",
   "execution_count": 15,
   "metadata": {},
   "outputs": [],
   "source": [
    "aug_df = pd.read_csv('dataset/qaset/train_feature_squad.csv').sample(frac=1).reset_index(drop=True)\n",
    "tmp = aug_df.replace(np.nan, '', regex=True)\n",
    "tmp[(tmp['t_toks'] != '') & (tmp['q_toks'] != '')]"
   ]
  },
  {
   "cell_type": "code",
   "execution_count": 11,
   "metadata": {},
   "outputs": [],
   "source": [
    "tmp.applymap(type).eq(str).all()"
   ]
  },
  {
   "cell_type": "markdown",
   "metadata": {},
   "source": [
    "# Feature"
   ]
  },
  {
   "cell_type": "code",
   "execution_count": 7,
   "metadata": {},
   "outputs": [],
   "source": [
    "# train_feature = pd.read_csv('train_feature.csv')"
   ]
  },
  {
   "cell_type": "markdown",
   "metadata": {},
   "source": [
    "PoS và NER"
   ]
  },
  {
   "cell_type": "code",
   "execution_count": 12,
   "metadata": {},
   "outputs": [],
   "source": [
    "# zl2corpus('train_corpus.txt', train_feature, cols=['q_toks', 't_toks'], pros=[remove_punctuation, lambda x: x.lower()])"
   ]
  },
  {
   "cell_type": "code",
   "execution_count": 9,
   "metadata": {},
   "outputs": [],
   "source": [
    "# def lower(text):\n",
    "#     toks = text.split()\n",
    "#     out = ''\n",
    "#     for tok in toks:\n",
    "#         tl = tok.lower()\n",
    "#         tlcf ='_'.join([t.capitalize() for t in tl.split('_')])\n",
    "#         if tl != tok:\n",
    "#             if tl.capitalize() == tok:\n",
    "#                 out += '<cap> '\n",
    "#             elif tlcf == tok:\n",
    "#                 out += '<capw> '\n",
    "#             else:\n",
    "#                 out += '<up> '\n",
    "#         out += tok.lower() + ' '\n",
    "#     return out.strip()\n",
    "\n"
   ]
  },
  {
   "cell_type": "code",
   "execution_count": 11,
   "metadata": {},
   "outputs": [],
   "source": [
    "# c = token_statistic('train_corpus.txt', 'train_corpus.stat')"
   ]
  }
 ],
 "metadata": {
  "kernelspec": {
   "display_name": "Python 3",
   "language": "python",
   "name": "python3"
  },
  "language_info": {
   "codemirror_mode": {
    "name": "ipython",
    "version": 3
   },
   "file_extension": ".py",
   "mimetype": "text/x-python",
   "name": "python",
   "nbconvert_exporter": "python",
   "pygments_lexer": "ipython3",
   "version": "3.8.6"
  }
 },
 "nbformat": 4,
 "nbformat_minor": 4
}
